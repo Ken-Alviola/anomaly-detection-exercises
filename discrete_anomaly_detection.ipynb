{
 "cells": [
  {
   "cell_type": "code",
   "execution_count": 1,
   "metadata": {
    "ExecuteTime": {
     "end_time": "2021-04-22T16:40:26.213013Z",
     "start_time": "2021-04-22T16:40:25.470396Z"
    }
   },
   "outputs": [],
   "source": [
    "from __future__ import division\n",
    "import itertools\n",
    "import warnings\n",
    "warnings.filterwarnings(\"ignore\")\n",
    "import matplotlib.pyplot as plt\n",
    "import matplotlib.dates as mdates\n",
    "import numpy as np\n",
    "import pandas as pd\n",
    "import math\n",
    "from sklearn import metrics\n",
    "from random import randint\n",
    "from matplotlib import style\n",
    "import seaborn as sns\n",
    "%matplotlib inline"
   ]
  },
  {
   "cell_type": "markdown",
   "metadata": {},
   "source": [
    "### Discrete Data + Probability\n",
    "\n",
    "### Use basic probability to identify anomalous request methods. You will want to make sure the text is normalized in order to reduce the noise."
   ]
  },
  {
   "cell_type": "code",
   "execution_count": 2,
   "metadata": {
    "ExecuteTime": {
     "end_time": "2021-04-22T18:48:24.837330Z",
     "start_time": "2021-04-22T18:48:23.557565Z"
    }
   },
   "outputs": [],
   "source": [
    "colnames=['ip', 'timestamp', 'request_method', 'status', 'size',\n",
    "          'destination', 'request_agent']\n",
    "df_orig = pd.read_csv('http://python.zach.lol/access.log',          \n",
    "                 engine='python',\n",
    "                 header=None,\n",
    "                 index_col=False,\n",
    "                 names=colnames,\n",
    "                 sep=r'\\s(?=(?:[^\"]*\"[^\"]*\")*[^\"]*$)(?![^\\[]*\\])',\n",
    "                 na_values='\"-\"',\n",
    "                 usecols=[0, 3, 4, 5, 6, 7, 8]\n",
    ")\n",
    "\n",
    "new = pd.DataFrame([[\"95.31.18.119\", \"[21/Apr/2019:10:02:41+0000]\", \n",
    "                     \"GET /api/v1/items/HTTP/1.1\", 200, 1153005, np.nan, \n",
    "                     \"python-requests/2.21.0\"],\n",
    "                    [\"95.31.16.121\", \"[17/Apr/2019:19:36:41+0000]\", \n",
    "                     \"GET /api/v1/sales?page=79/HTTP/1.1\", 301, 1005, np.nan, \n",
    "                     \"python-requests/2.21.0\"],\n",
    "                    [\"97.105.15.120\", \"[18/Apr/2019:19:42:41+0000]\", \n",
    "                     \"GET /api/v1/sales?page=79/HTTP/1.1\", 301, 2560, np.nan, \n",
    "                     \"python-requests/2.21.0\"],\n",
    "                    [\"97.105.19.58\", \"[19/Apr/2019:19:42:41+0000]\", \n",
    "                     \"GET /api/v1/sales?page=79/HTTP/1.1\", 200, 2056327, np.nan, \n",
    "                     \"python-requests/2.21.0\"]], columns=colnames)\n",
    "\n",
    "df = df_orig.append(new)"
   ]
  },
  {
   "cell_type": "code",
   "execution_count": 3,
   "metadata": {
    "ExecuteTime": {
     "end_time": "2021-04-22T18:48:30.329408Z",
     "start_time": "2021-04-22T18:48:30.297938Z"
    }
   },
   "outputs": [
    {
     "data": {
      "text/html": [
       "<div>\n",
       "<style scoped>\n",
       "    .dataframe tbody tr th:only-of-type {\n",
       "        vertical-align: middle;\n",
       "    }\n",
       "\n",
       "    .dataframe tbody tr th {\n",
       "        vertical-align: top;\n",
       "    }\n",
       "\n",
       "    .dataframe thead th {\n",
       "        text-align: right;\n",
       "    }\n",
       "</style>\n",
       "<table border=\"1\" class=\"dataframe\">\n",
       "  <thead>\n",
       "    <tr style=\"text-align: right;\">\n",
       "      <th></th>\n",
       "      <th>ip</th>\n",
       "      <th>timestamp</th>\n",
       "      <th>request_method</th>\n",
       "      <th>status</th>\n",
       "      <th>size</th>\n",
       "      <th>destination</th>\n",
       "      <th>request_agent</th>\n",
       "    </tr>\n",
       "  </thead>\n",
       "  <tbody>\n",
       "    <tr>\n",
       "      <th>0</th>\n",
       "      <td>97.105.19.58</td>\n",
       "      <td>[16/Apr/2019:19:34:42 +0000]</td>\n",
       "      <td>\"GET /api/v1/sales?page=81 HTTP/1.1\"</td>\n",
       "      <td>200</td>\n",
       "      <td>512495</td>\n",
       "      <td>NaN</td>\n",
       "      <td>\"python-requests/2.21.0\"</td>\n",
       "    </tr>\n",
       "    <tr>\n",
       "      <th>1</th>\n",
       "      <td>97.105.19.58</td>\n",
       "      <td>[16/Apr/2019:19:34:42 +0000]</td>\n",
       "      <td>\"GET /api/v1/items HTTP/1.1\"</td>\n",
       "      <td>200</td>\n",
       "      <td>3561</td>\n",
       "      <td>NaN</td>\n",
       "      <td>\"python-requests/2.21.0\"</td>\n",
       "    </tr>\n",
       "    <tr>\n",
       "      <th>2</th>\n",
       "      <td>97.105.19.58</td>\n",
       "      <td>[16/Apr/2019:19:34:44 +0000]</td>\n",
       "      <td>\"GET /api/v1/sales?page=82 HTTP/1.1\"</td>\n",
       "      <td>200</td>\n",
       "      <td>510103</td>\n",
       "      <td>NaN</td>\n",
       "      <td>\"python-requests/2.21.0\"</td>\n",
       "    </tr>\n",
       "    <tr>\n",
       "      <th>3</th>\n",
       "      <td>97.105.19.58</td>\n",
       "      <td>[16/Apr/2019:19:34:46 +0000]</td>\n",
       "      <td>\"GET /api/v1/sales?page=83 HTTP/1.1\"</td>\n",
       "      <td>200</td>\n",
       "      <td>510003</td>\n",
       "      <td>NaN</td>\n",
       "      <td>\"python-requests/2.21.0\"</td>\n",
       "    </tr>\n",
       "    <tr>\n",
       "      <th>4</th>\n",
       "      <td>97.105.19.58</td>\n",
       "      <td>[16/Apr/2019:19:34:48 +0000]</td>\n",
       "      <td>\"GET /api/v1/sales?page=84 HTTP/1.1\"</td>\n",
       "      <td>200</td>\n",
       "      <td>511963</td>\n",
       "      <td>NaN</td>\n",
       "      <td>\"python-requests/2.21.0\"</td>\n",
       "    </tr>\n",
       "  </tbody>\n",
       "</table>\n",
       "</div>"
      ],
      "text/plain": [
       "             ip                     timestamp  \\\n",
       "0  97.105.19.58  [16/Apr/2019:19:34:42 +0000]   \n",
       "1  97.105.19.58  [16/Apr/2019:19:34:42 +0000]   \n",
       "2  97.105.19.58  [16/Apr/2019:19:34:44 +0000]   \n",
       "3  97.105.19.58  [16/Apr/2019:19:34:46 +0000]   \n",
       "4  97.105.19.58  [16/Apr/2019:19:34:48 +0000]   \n",
       "\n",
       "                         request_method  status    size destination  \\\n",
       "0  \"GET /api/v1/sales?page=81 HTTP/1.1\"     200  512495         NaN   \n",
       "1          \"GET /api/v1/items HTTP/1.1\"     200    3561         NaN   \n",
       "2  \"GET /api/v1/sales?page=82 HTTP/1.1\"     200  510103         NaN   \n",
       "3  \"GET /api/v1/sales?page=83 HTTP/1.1\"     200  510003         NaN   \n",
       "4  \"GET /api/v1/sales?page=84 HTTP/1.1\"     200  511963         NaN   \n",
       "\n",
       "              request_agent  \n",
       "0  \"python-requests/2.21.0\"  \n",
       "1  \"python-requests/2.21.0\"  \n",
       "2  \"python-requests/2.21.0\"  \n",
       "3  \"python-requests/2.21.0\"  \n",
       "4  \"python-requests/2.21.0\"  "
      ]
     },
     "execution_count": 3,
     "metadata": {},
     "output_type": "execute_result"
    }
   ],
   "source": [
    "df.head()"
   ]
  },
  {
   "cell_type": "code",
   "execution_count": 4,
   "metadata": {
    "ExecuteTime": {
     "end_time": "2021-04-22T18:48:43.332993Z",
     "start_time": "2021-04-22T18:48:43.296271Z"
    }
   },
   "outputs": [
    {
     "name": "stdout",
     "output_type": "stream",
     "text": [
      "<class 'pandas.core.frame.DataFrame'>\n",
      "Int64Index: 13978 entries, 0 to 3\n",
      "Data columns (total 7 columns):\n",
      " #   Column          Non-Null Count  Dtype \n",
      "---  ------          --------------  ----- \n",
      " 0   ip              13978 non-null  object\n",
      " 1   timestamp       13978 non-null  object\n",
      " 2   request_method  13978 non-null  object\n",
      " 3   status          13978 non-null  int64 \n",
      " 4   size            13978 non-null  int64 \n",
      " 5   destination     25 non-null     object\n",
      " 6   request_agent   13978 non-null  object\n",
      "dtypes: int64(2), object(5)\n",
      "memory usage: 1.5+ MB\n"
     ]
    }
   ],
   "source": [
    "df.info()"
   ]
  },
  {
   "cell_type": "code",
   "execution_count": 6,
   "metadata": {
    "ExecuteTime": {
     "end_time": "2021-04-22T18:51:40.510228Z",
     "start_time": "2021-04-22T18:51:40.488095Z"
    }
   },
   "outputs": [
    {
     "data": {
      "text/plain": [
       "\"GET /api/v1/sales?page=2 HTTP/1.1\"                 709\n",
       "\"GET /api/v1/items HTTP/1.1\"                        464\n",
       "\"GET /api/v1/items?page=2 HTTP/1.1\"                 291\n",
       "\"GET /api/v1/items?page=3 HTTP/1.1\"                 219\n",
       "\"GET /api/v1/stores HTTP/1.1\"                       162\n",
       "                                                   ... \n",
       "\"GET /api/v1//api/v1/items HTTP/1.1\"                  1\n",
       "\"GET /api/v1/items&page=0 HTTP/1.1\"                   1\n",
       "\"GET /api/v1/items/api/v1/items?page=3 HTTP/1.1\"      1\n",
       "\"GET /api/v1/items?page=0 HTTP/1.1\"                   1\n",
       "\"GET /api/v1/stores?page=2 HTTP/1.1\"                  1\n",
       "Name: request_method, Length: 220, dtype: int64"
      ]
     },
     "execution_count": 6,
     "metadata": {},
     "output_type": "execute_result"
    }
   ],
   "source": [
    "df.request_method.value_counts()"
   ]
  },
  {
   "cell_type": "code",
   "execution_count": 7,
   "metadata": {
    "ExecuteTime": {
     "end_time": "2021-04-22T18:52:48.445210Z",
     "start_time": "2021-04-22T18:52:48.405477Z"
    }
   },
   "outputs": [],
   "source": [
    "# begin cleaning up the timestamp by removing the brackets and extraneous tail\n",
    "\n",
    "df.timestamp = df.timestamp.str.replace(r'(\\[|\\+0000\\])', '', regex=True)"
   ]
  },
  {
   "cell_type": "code",
   "execution_count": 8,
   "metadata": {
    "ExecuteTime": {
     "end_time": "2021-04-22T18:52:57.562706Z",
     "start_time": "2021-04-22T18:52:57.544016Z"
    }
   },
   "outputs": [
    {
     "data": {
      "text/html": [
       "<div>\n",
       "<style scoped>\n",
       "    .dataframe tbody tr th:only-of-type {\n",
       "        vertical-align: middle;\n",
       "    }\n",
       "\n",
       "    .dataframe tbody tr th {\n",
       "        vertical-align: top;\n",
       "    }\n",
       "\n",
       "    .dataframe thead th {\n",
       "        text-align: right;\n",
       "    }\n",
       "</style>\n",
       "<table border=\"1\" class=\"dataframe\">\n",
       "  <thead>\n",
       "    <tr style=\"text-align: right;\">\n",
       "      <th></th>\n",
       "      <th>ip</th>\n",
       "      <th>timestamp</th>\n",
       "      <th>request_method</th>\n",
       "      <th>status</th>\n",
       "      <th>size</th>\n",
       "      <th>destination</th>\n",
       "      <th>request_agent</th>\n",
       "    </tr>\n",
       "  </thead>\n",
       "  <tbody>\n",
       "    <tr>\n",
       "      <th>0</th>\n",
       "      <td>97.105.19.58</td>\n",
       "      <td>16/Apr/2019:19:34:42</td>\n",
       "      <td>\"GET /api/v1/sales?page=81 HTTP/1.1\"</td>\n",
       "      <td>200</td>\n",
       "      <td>512495</td>\n",
       "      <td>NaN</td>\n",
       "      <td>\"python-requests/2.21.0\"</td>\n",
       "    </tr>\n",
       "    <tr>\n",
       "      <th>1</th>\n",
       "      <td>97.105.19.58</td>\n",
       "      <td>16/Apr/2019:19:34:42</td>\n",
       "      <td>\"GET /api/v1/items HTTP/1.1\"</td>\n",
       "      <td>200</td>\n",
       "      <td>3561</td>\n",
       "      <td>NaN</td>\n",
       "      <td>\"python-requests/2.21.0\"</td>\n",
       "    </tr>\n",
       "  </tbody>\n",
       "</table>\n",
       "</div>"
      ],
      "text/plain": [
       "             ip              timestamp                        request_method  \\\n",
       "0  97.105.19.58  16/Apr/2019:19:34:42   \"GET /api/v1/sales?page=81 HTTP/1.1\"   \n",
       "1  97.105.19.58  16/Apr/2019:19:34:42           \"GET /api/v1/items HTTP/1.1\"   \n",
       "\n",
       "   status    size destination             request_agent  \n",
       "0     200  512495         NaN  \"python-requests/2.21.0\"  \n",
       "1     200    3561         NaN  \"python-requests/2.21.0\"  "
      ]
     },
     "execution_count": 8,
     "metadata": {},
     "output_type": "execute_result"
    }
   ],
   "source": [
    "df.head(2)"
   ]
  },
  {
   "cell_type": "code",
   "execution_count": 9,
   "metadata": {
    "ExecuteTime": {
     "end_time": "2021-04-22T18:53:16.618073Z",
     "start_time": "2021-04-22T18:53:15.091410Z"
    }
   },
   "outputs": [],
   "source": [
    "# replace the first colon in the timestamp before year \n",
    "# to accomodate for pandas datetime\n",
    "df.timestamp= pd.to_datetime(df.timestamp.str.replace(':', ' ', 1))\n",
    "# reset index to time\n",
    "df = df.set_index('timestamp')"
   ]
  },
  {
   "cell_type": "code",
   "execution_count": 10,
   "metadata": {
    "ExecuteTime": {
     "end_time": "2021-04-22T18:53:21.328596Z",
     "start_time": "2021-04-22T18:53:21.303912Z"
    }
   },
   "outputs": [
    {
     "data": {
      "text/html": [
       "<div>\n",
       "<style scoped>\n",
       "    .dataframe tbody tr th:only-of-type {\n",
       "        vertical-align: middle;\n",
       "    }\n",
       "\n",
       "    .dataframe tbody tr th {\n",
       "        vertical-align: top;\n",
       "    }\n",
       "\n",
       "    .dataframe thead th {\n",
       "        text-align: right;\n",
       "    }\n",
       "</style>\n",
       "<table border=\"1\" class=\"dataframe\">\n",
       "  <thead>\n",
       "    <tr style=\"text-align: right;\">\n",
       "      <th></th>\n",
       "      <th>ip</th>\n",
       "      <th>request_method</th>\n",
       "      <th>status</th>\n",
       "      <th>size</th>\n",
       "      <th>destination</th>\n",
       "      <th>request_agent</th>\n",
       "    </tr>\n",
       "    <tr>\n",
       "      <th>timestamp</th>\n",
       "      <th></th>\n",
       "      <th></th>\n",
       "      <th></th>\n",
       "      <th></th>\n",
       "      <th></th>\n",
       "      <th></th>\n",
       "    </tr>\n",
       "  </thead>\n",
       "  <tbody>\n",
       "    <tr>\n",
       "      <th>2019-04-16 19:34:42</th>\n",
       "      <td>97.105.19.58</td>\n",
       "      <td>\"GET /api/v1/sales?page=81 HTTP/1.1\"</td>\n",
       "      <td>200</td>\n",
       "      <td>512495</td>\n",
       "      <td>NaN</td>\n",
       "      <td>\"python-requests/2.21.0\"</td>\n",
       "    </tr>\n",
       "    <tr>\n",
       "      <th>2019-04-16 19:34:42</th>\n",
       "      <td>97.105.19.58</td>\n",
       "      <td>\"GET /api/v1/items HTTP/1.1\"</td>\n",
       "      <td>200</td>\n",
       "      <td>3561</td>\n",
       "      <td>NaN</td>\n",
       "      <td>\"python-requests/2.21.0\"</td>\n",
       "    </tr>\n",
       "  </tbody>\n",
       "</table>\n",
       "</div>"
      ],
      "text/plain": [
       "                               ip                        request_method  \\\n",
       "timestamp                                                                 \n",
       "2019-04-16 19:34:42  97.105.19.58  \"GET /api/v1/sales?page=81 HTTP/1.1\"   \n",
       "2019-04-16 19:34:42  97.105.19.58          \"GET /api/v1/items HTTP/1.1\"   \n",
       "\n",
       "                     status    size destination             request_agent  \n",
       "timestamp                                                                  \n",
       "2019-04-16 19:34:42     200  512495         NaN  \"python-requests/2.21.0\"  \n",
       "2019-04-16 19:34:42     200    3561         NaN  \"python-requests/2.21.0\"  "
      ]
     },
     "execution_count": 10,
     "metadata": {},
     "output_type": "execute_result"
    }
   ],
   "source": [
    "df.head(2)"
   ]
  },
  {
   "cell_type": "code",
   "execution_count": 43,
   "metadata": {
    "ExecuteTime": {
     "end_time": "2021-04-22T19:55:31.207638Z",
     "start_time": "2021-04-22T19:55:31.171906Z"
    }
   },
   "outputs": [
    {
     "data": {
      "text/plain": [
       "python-requests/2.21.0                                                                                                       12005\n",
       "python-requests/2.20.1                                                                                                        1911\n",
       "Mozilla/5.0 (Macintosh; Intel Mac OS X 10_14_4) AppleWebKit/537.36 (KHTML, like Gecko) Chrome/73.0.3683.103 Safari/537.36       34\n",
       "Mozilla/5.0 (Macintosh; Intel Mac OS X 10.14; rv:66.0) Gecko/20100101 Firefox/66.0                                               8\n",
       "Slackbot-LinkExpanding 1.0 (+https://api.slack.com/robots)                                                                       7\n",
       "Slackbot 1.0 (+https://api.slack.com/robots)                                                                                     6\n",
       "Mozilla/5.0 (Macintosh; Intel Mac OS X 10_14_3) AppleWebKit/537.36 (KHTML, like Gecko) Chrome/73.0.3683.103 Safari/537.36        4\n",
       "Mozilla/5.0 (Macintosh; Intel Mac OS X 10_14_3) AppleWebKit/537.36 (KHTML, like Gecko) Chrome/72.0.3626.121 Safari/537.36        2\n",
       "Python-urllib/3.7                                                                                                                1\n",
       "Name: request_agent, dtype: int64"
      ]
     },
     "execution_count": 43,
     "metadata": {},
     "output_type": "execute_result"
    }
   ],
   "source": [
    "df.request_agent.value_counts()"
   ]
  },
  {
   "cell_type": "code",
   "execution_count": 11,
   "metadata": {
    "ExecuteTime": {
     "end_time": "2021-04-22T18:54:12.887085Z",
     "start_time": "2021-04-22T18:54:12.820279Z"
    }
   },
   "outputs": [
    {
     "data": {
      "text/html": [
       "<div>\n",
       "<style scoped>\n",
       "    .dataframe tbody tr th:only-of-type {\n",
       "        vertical-align: middle;\n",
       "    }\n",
       "\n",
       "    .dataframe tbody tr th {\n",
       "        vertical-align: top;\n",
       "    }\n",
       "\n",
       "    .dataframe thead th {\n",
       "        text-align: right;\n",
       "    }\n",
       "</style>\n",
       "<table border=\"1\" class=\"dataframe\">\n",
       "  <thead>\n",
       "    <tr style=\"text-align: right;\">\n",
       "      <th></th>\n",
       "      <th>ip</th>\n",
       "      <th>request_method</th>\n",
       "      <th>status</th>\n",
       "      <th>size</th>\n",
       "      <th>destination</th>\n",
       "      <th>request_agent</th>\n",
       "    </tr>\n",
       "    <tr>\n",
       "      <th>timestamp</th>\n",
       "      <th></th>\n",
       "      <th></th>\n",
       "      <th></th>\n",
       "      <th></th>\n",
       "      <th></th>\n",
       "      <th></th>\n",
       "    </tr>\n",
       "  </thead>\n",
       "  <tbody>\n",
       "    <tr>\n",
       "      <th>2019-04-16 19:34:42</th>\n",
       "      <td>97.105.19.58</td>\n",
       "      <td>GET /api/v1/sales HTTP/1.1</td>\n",
       "      <td>200</td>\n",
       "      <td>512495</td>\n",
       "      <td>NaN</td>\n",
       "      <td>python-requests/2.21.0</td>\n",
       "    </tr>\n",
       "    <tr>\n",
       "      <th>2019-04-16 19:34:42</th>\n",
       "      <td>97.105.19.58</td>\n",
       "      <td>GET /api/v1/items HTTP/1.1</td>\n",
       "      <td>200</td>\n",
       "      <td>3561</td>\n",
       "      <td>NaN</td>\n",
       "      <td>python-requests/2.21.0</td>\n",
       "    </tr>\n",
       "    <tr>\n",
       "      <th>2019-04-16 19:34:44</th>\n",
       "      <td>97.105.19.58</td>\n",
       "      <td>GET /api/v1/sales HTTP/1.1</td>\n",
       "      <td>200</td>\n",
       "      <td>510103</td>\n",
       "      <td>NaN</td>\n",
       "      <td>python-requests/2.21.0</td>\n",
       "    </tr>\n",
       "    <tr>\n",
       "      <th>2019-04-16 19:34:46</th>\n",
       "      <td>97.105.19.58</td>\n",
       "      <td>GET /api/v1/sales HTTP/1.1</td>\n",
       "      <td>200</td>\n",
       "      <td>510003</td>\n",
       "      <td>NaN</td>\n",
       "      <td>python-requests/2.21.0</td>\n",
       "    </tr>\n",
       "    <tr>\n",
       "      <th>2019-04-16 19:34:48</th>\n",
       "      <td>97.105.19.58</td>\n",
       "      <td>GET /api/v1/sales HTTP/1.1</td>\n",
       "      <td>200</td>\n",
       "      <td>511963</td>\n",
       "      <td>NaN</td>\n",
       "      <td>python-requests/2.21.0</td>\n",
       "    </tr>\n",
       "  </tbody>\n",
       "</table>\n",
       "</div>"
      ],
      "text/plain": [
       "                               ip              request_method  status    size  \\\n",
       "timestamp                                                                       \n",
       "2019-04-16 19:34:42  97.105.19.58  GET /api/v1/sales HTTP/1.1     200  512495   \n",
       "2019-04-16 19:34:42  97.105.19.58  GET /api/v1/items HTTP/1.1     200    3561   \n",
       "2019-04-16 19:34:44  97.105.19.58  GET /api/v1/sales HTTP/1.1     200  510103   \n",
       "2019-04-16 19:34:46  97.105.19.58  GET /api/v1/sales HTTP/1.1     200  510003   \n",
       "2019-04-16 19:34:48  97.105.19.58  GET /api/v1/sales HTTP/1.1     200  511963   \n",
       "\n",
       "                    destination           request_agent  \n",
       "timestamp                                                \n",
       "2019-04-16 19:34:42         NaN  python-requests/2.21.0  \n",
       "2019-04-16 19:34:42         NaN  python-requests/2.21.0  \n",
       "2019-04-16 19:34:44         NaN  python-requests/2.21.0  \n",
       "2019-04-16 19:34:46         NaN  python-requests/2.21.0  \n",
       "2019-04-16 19:34:48         NaN  python-requests/2.21.0  "
      ]
     },
     "execution_count": 11,
     "metadata": {},
     "output_type": "execute_result"
    }
   ],
   "source": [
    "# clean up strings in columns with extra quotes\n",
    "for col in ['request_method', 'request_agent', 'destination']:\n",
    "    df[col] = df[col].str.replace('\"', '')\n",
    "\n",
    "# simplify and clean up request method by removing page data\n",
    "df['request_method'] = df.request_method.str.replace(r'\\?page=[0-9]+', '', regex=True)\n",
    "\n",
    "df.head()"
   ]
  },
  {
   "cell_type": "code",
   "execution_count": 12,
   "metadata": {
    "ExecuteTime": {
     "end_time": "2021-04-22T18:54:33.319952Z",
     "start_time": "2021-04-22T18:54:33.300970Z"
    }
   },
   "outputs": [],
   "source": [
    "df['size_mb'] = [n/1024/1024 for n in df['size']]"
   ]
  },
  {
   "cell_type": "code",
   "execution_count": 13,
   "metadata": {
    "ExecuteTime": {
     "end_time": "2021-04-22T18:54:37.085142Z",
     "start_time": "2021-04-22T18:54:37.060115Z"
    }
   },
   "outputs": [
    {
     "data": {
      "text/html": [
       "<div>\n",
       "<style scoped>\n",
       "    .dataframe tbody tr th:only-of-type {\n",
       "        vertical-align: middle;\n",
       "    }\n",
       "\n",
       "    .dataframe tbody tr th {\n",
       "        vertical-align: top;\n",
       "    }\n",
       "\n",
       "    .dataframe thead th {\n",
       "        text-align: right;\n",
       "    }\n",
       "</style>\n",
       "<table border=\"1\" class=\"dataframe\">\n",
       "  <thead>\n",
       "    <tr style=\"text-align: right;\">\n",
       "      <th></th>\n",
       "      <th>ip</th>\n",
       "      <th>request_method</th>\n",
       "      <th>status</th>\n",
       "      <th>size</th>\n",
       "      <th>destination</th>\n",
       "      <th>request_agent</th>\n",
       "      <th>size_mb</th>\n",
       "    </tr>\n",
       "    <tr>\n",
       "      <th>timestamp</th>\n",
       "      <th></th>\n",
       "      <th></th>\n",
       "      <th></th>\n",
       "      <th></th>\n",
       "      <th></th>\n",
       "      <th></th>\n",
       "      <th></th>\n",
       "    </tr>\n",
       "  </thead>\n",
       "  <tbody>\n",
       "    <tr>\n",
       "      <th>2019-04-16 19:34:42</th>\n",
       "      <td>97.105.19.58</td>\n",
       "      <td>GET /api/v1/sales HTTP/1.1</td>\n",
       "      <td>200</td>\n",
       "      <td>512495</td>\n",
       "      <td>NaN</td>\n",
       "      <td>python-requests/2.21.0</td>\n",
       "      <td>0.488753</td>\n",
       "    </tr>\n",
       "    <tr>\n",
       "      <th>2019-04-16 19:34:42</th>\n",
       "      <td>97.105.19.58</td>\n",
       "      <td>GET /api/v1/items HTTP/1.1</td>\n",
       "      <td>200</td>\n",
       "      <td>3561</td>\n",
       "      <td>NaN</td>\n",
       "      <td>python-requests/2.21.0</td>\n",
       "      <td>0.003396</td>\n",
       "    </tr>\n",
       "    <tr>\n",
       "      <th>2019-04-16 19:34:44</th>\n",
       "      <td>97.105.19.58</td>\n",
       "      <td>GET /api/v1/sales HTTP/1.1</td>\n",
       "      <td>200</td>\n",
       "      <td>510103</td>\n",
       "      <td>NaN</td>\n",
       "      <td>python-requests/2.21.0</td>\n",
       "      <td>0.486472</td>\n",
       "    </tr>\n",
       "    <tr>\n",
       "      <th>2019-04-16 19:34:46</th>\n",
       "      <td>97.105.19.58</td>\n",
       "      <td>GET /api/v1/sales HTTP/1.1</td>\n",
       "      <td>200</td>\n",
       "      <td>510003</td>\n",
       "      <td>NaN</td>\n",
       "      <td>python-requests/2.21.0</td>\n",
       "      <td>0.486377</td>\n",
       "    </tr>\n",
       "    <tr>\n",
       "      <th>2019-04-16 19:34:48</th>\n",
       "      <td>97.105.19.58</td>\n",
       "      <td>GET /api/v1/sales HTTP/1.1</td>\n",
       "      <td>200</td>\n",
       "      <td>511963</td>\n",
       "      <td>NaN</td>\n",
       "      <td>python-requests/2.21.0</td>\n",
       "      <td>0.488246</td>\n",
       "    </tr>\n",
       "  </tbody>\n",
       "</table>\n",
       "</div>"
      ],
      "text/plain": [
       "                               ip              request_method  status    size  \\\n",
       "timestamp                                                                       \n",
       "2019-04-16 19:34:42  97.105.19.58  GET /api/v1/sales HTTP/1.1     200  512495   \n",
       "2019-04-16 19:34:42  97.105.19.58  GET /api/v1/items HTTP/1.1     200    3561   \n",
       "2019-04-16 19:34:44  97.105.19.58  GET /api/v1/sales HTTP/1.1     200  510103   \n",
       "2019-04-16 19:34:46  97.105.19.58  GET /api/v1/sales HTTP/1.1     200  510003   \n",
       "2019-04-16 19:34:48  97.105.19.58  GET /api/v1/sales HTTP/1.1     200  511963   \n",
       "\n",
       "                    destination           request_agent   size_mb  \n",
       "timestamp                                                          \n",
       "2019-04-16 19:34:42         NaN  python-requests/2.21.0  0.488753  \n",
       "2019-04-16 19:34:42         NaN  python-requests/2.21.0  0.003396  \n",
       "2019-04-16 19:34:44         NaN  python-requests/2.21.0  0.486472  \n",
       "2019-04-16 19:34:46         NaN  python-requests/2.21.0  0.486377  \n",
       "2019-04-16 19:34:48         NaN  python-requests/2.21.0  0.488246  "
      ]
     },
     "execution_count": 13,
     "metadata": {},
     "output_type": "execute_result"
    }
   ],
   "source": [
    "df.head()"
   ]
  },
  {
   "cell_type": "code",
   "execution_count": 14,
   "metadata": {
    "ExecuteTime": {
     "end_time": "2021-04-22T18:54:46.543058Z",
     "start_time": "2021-04-22T18:54:46.497256Z"
    }
   },
   "outputs": [
    {
     "data": {
      "text/html": [
       "<div>\n",
       "<style scoped>\n",
       "    .dataframe tbody tr th:only-of-type {\n",
       "        vertical-align: middle;\n",
       "    }\n",
       "\n",
       "    .dataframe tbody tr th {\n",
       "        vertical-align: top;\n",
       "    }\n",
       "\n",
       "    .dataframe thead th {\n",
       "        text-align: right;\n",
       "    }\n",
       "</style>\n",
       "<table border=\"1\" class=\"dataframe\">\n",
       "  <thead>\n",
       "    <tr style=\"text-align: right;\">\n",
       "      <th></th>\n",
       "      <th>status</th>\n",
       "      <th>size</th>\n",
       "      <th>size_mb</th>\n",
       "    </tr>\n",
       "  </thead>\n",
       "  <tbody>\n",
       "    <tr>\n",
       "      <th>count</th>\n",
       "      <td>13978.000000</td>\n",
       "      <td>1.397800e+04</td>\n",
       "      <td>13978.000000</td>\n",
       "    </tr>\n",
       "    <tr>\n",
       "      <th>mean</th>\n",
       "      <td>200.356703</td>\n",
       "      <td>4.500019e+05</td>\n",
       "      <td>0.429155</td>\n",
       "    </tr>\n",
       "    <tr>\n",
       "      <th>std</th>\n",
       "      <td>10.182001</td>\n",
       "      <td>1.614915e+05</td>\n",
       "      <td>0.154010</td>\n",
       "    </tr>\n",
       "    <tr>\n",
       "      <th>min</th>\n",
       "      <td>200.000000</td>\n",
       "      <td>0.000000e+00</td>\n",
       "      <td>0.000000</td>\n",
       "    </tr>\n",
       "    <tr>\n",
       "      <th>25%</th>\n",
       "      <td>200.000000</td>\n",
       "      <td>5.006370e+05</td>\n",
       "      <td>0.477445</td>\n",
       "    </tr>\n",
       "    <tr>\n",
       "      <th>50%</th>\n",
       "      <td>200.000000</td>\n",
       "      <td>5.101380e+05</td>\n",
       "      <td>0.486506</td>\n",
       "    </tr>\n",
       "    <tr>\n",
       "      <th>75%</th>\n",
       "      <td>200.000000</td>\n",
       "      <td>5.112910e+05</td>\n",
       "      <td>0.487605</td>\n",
       "    </tr>\n",
       "    <tr>\n",
       "      <th>max</th>\n",
       "      <td>499.000000</td>\n",
       "      <td>2.056327e+06</td>\n",
       "      <td>1.961066</td>\n",
       "    </tr>\n",
       "  </tbody>\n",
       "</table>\n",
       "</div>"
      ],
      "text/plain": [
       "             status          size       size_mb\n",
       "count  13978.000000  1.397800e+04  13978.000000\n",
       "mean     200.356703  4.500019e+05      0.429155\n",
       "std       10.182001  1.614915e+05      0.154010\n",
       "min      200.000000  0.000000e+00      0.000000\n",
       "25%      200.000000  5.006370e+05      0.477445\n",
       "50%      200.000000  5.101380e+05      0.486506\n",
       "75%      200.000000  5.112910e+05      0.487605\n",
       "max      499.000000  2.056327e+06      1.961066"
      ]
     },
     "execution_count": 14,
     "metadata": {},
     "output_type": "execute_result"
    }
   ],
   "source": [
    "df.describe()"
   ]
  },
  {
   "cell_type": "code",
   "execution_count": 46,
   "metadata": {
    "ExecuteTime": {
     "end_time": "2021-04-22T19:57:51.305831Z",
     "start_time": "2021-04-22T19:57:51.048472Z"
    }
   },
   "outputs": [
    {
     "data": {
      "text/plain": [
       "<AxesSubplot:>"
      ]
     },
     "execution_count": 46,
     "metadata": {},
     "output_type": "execute_result"
    },
    {
     "data": {
      "image/png": "[encoded data removed]",
      "text/plain": [
       "<Figure size 576x576 with 1 Axes>"
      ]
     },
     "metadata": {},
     "output_type": "display_data"
    }
   ],
   "source": [
    "df.size_mb.hist()"
   ]
  },
  {
   "cell_type": "code",
   "execution_count": 16,
   "metadata": {
    "ExecuteTime": {
     "end_time": "2021-04-22T18:58:53.757348Z",
     "start_time": "2021-04-22T18:58:53.744777Z"
    }
   },
   "outputs": [],
   "source": [
    "# get the counts of request methods in the dataset\n",
    "rq_df = df.request_method.value_counts(dropna=False).reset_index().\\\n",
    "                rename(columns={'index': 'request_method', 'request_method': 'rq_count'})"
   ]
  },
  {
   "cell_type": "code",
   "execution_count": 17,
   "metadata": {
    "ExecuteTime": {
     "end_time": "2021-04-22T18:59:15.070442Z",
     "start_time": "2021-04-22T18:59:15.014893Z"
    }
   },
   "outputs": [],
   "source": [
    "# get the probability of that ip in the dataset\n",
    "rq_df2 = (df.request_method.value_counts(dropna=False)/df.request_method.count()).reset_index().\\\n",
    "                rename(columns={'index': 'request_method', 'request_method': 'rq_proba'})\n",
    "# merge/join these together\n",
    "rq_df = rq_df.merge(rq_df2)"
   ]
  },
  {
   "cell_type": "code",
   "execution_count": 18,
   "metadata": {
    "ExecuteTime": {
     "end_time": "2021-04-22T18:59:22.944507Z",
     "start_time": "2021-04-22T18:59:22.922494Z"
    }
   },
   "outputs": [
    {
     "data": {
      "text/html": [
       "<div>\n",
       "<style scoped>\n",
       "    .dataframe tbody tr th:only-of-type {\n",
       "        vertical-align: middle;\n",
       "    }\n",
       "\n",
       "    .dataframe tbody tr th {\n",
       "        vertical-align: top;\n",
       "    }\n",
       "\n",
       "    .dataframe thead th {\n",
       "        text-align: right;\n",
       "    }\n",
       "</style>\n",
       "<table border=\"1\" class=\"dataframe\">\n",
       "  <thead>\n",
       "    <tr style=\"text-align: right;\">\n",
       "      <th></th>\n",
       "      <th>request_method</th>\n",
       "      <th>rq_count</th>\n",
       "      <th>rq_proba</th>\n",
       "    </tr>\n",
       "  </thead>\n",
       "  <tbody>\n",
       "    <tr>\n",
       "      <th>0</th>\n",
       "      <td>GET /api/v1/sales HTTP/1.1</td>\n",
       "      <td>12403</td>\n",
       "      <td>0.887323</td>\n",
       "    </tr>\n",
       "    <tr>\n",
       "      <th>1</th>\n",
       "      <td>GET /api/v1/items HTTP/1.1</td>\n",
       "      <td>1065</td>\n",
       "      <td>0.076191</td>\n",
       "    </tr>\n",
       "    <tr>\n",
       "      <th>2</th>\n",
       "      <td>GET /api/v1/stores HTTP/1.1</td>\n",
       "      <td>229</td>\n",
       "      <td>0.016383</td>\n",
       "    </tr>\n",
       "    <tr>\n",
       "      <th>3</th>\n",
       "      <td>GET / HTTP/1.1</td>\n",
       "      <td>107</td>\n",
       "      <td>0.007655</td>\n",
       "    </tr>\n",
       "    <tr>\n",
       "      <th>4</th>\n",
       "      <td>GET /documentation HTTP/1.1</td>\n",
       "      <td>100</td>\n",
       "      <td>0.007154</td>\n",
       "    </tr>\n",
       "  </tbody>\n",
       "</table>\n",
       "</div>"
      ],
      "text/plain": [
       "                request_method  rq_count  rq_proba\n",
       "0   GET /api/v1/sales HTTP/1.1     12403  0.887323\n",
       "1   GET /api/v1/items HTTP/1.1      1065  0.076191\n",
       "2  GET /api/v1/stores HTTP/1.1       229  0.016383\n",
       "3               GET / HTTP/1.1       107  0.007655\n",
       "4  GET /documentation HTTP/1.1       100  0.007154"
      ]
     },
     "execution_count": 18,
     "metadata": {},
     "output_type": "execute_result"
    }
   ],
   "source": [
    "rq_df.head()"
   ]
  },
  {
   "cell_type": "code",
   "execution_count": 19,
   "metadata": {
    "ExecuteTime": {
     "end_time": "2021-04-22T19:00:33.548564Z",
     "start_time": "2021-04-22T19:00:33.540593Z"
    }
   },
   "outputs": [
    {
     "data": {
      "text/plain": [
       "(22, 3)"
      ]
     },
     "execution_count": 19,
     "metadata": {},
     "output_type": "execute_result"
    }
   ],
   "source": [
    "rq_df.shape"
   ]
  },
  {
   "cell_type": "code",
   "execution_count": 20,
   "metadata": {
    "ExecuteTime": {
     "end_time": "2021-04-22T19:01:37.771632Z",
     "start_time": "2021-04-22T19:01:37.742285Z"
    }
   },
   "outputs": [
    {
     "data": {
      "text/html": [
       "<div>\n",
       "<style scoped>\n",
       "    .dataframe tbody tr th:only-of-type {\n",
       "        vertical-align: middle;\n",
       "    }\n",
       "\n",
       "    .dataframe tbody tr th {\n",
       "        vertical-align: top;\n",
       "    }\n",
       "\n",
       "    .dataframe thead th {\n",
       "        text-align: right;\n",
       "    }\n",
       "</style>\n",
       "<table border=\"1\" class=\"dataframe\">\n",
       "  <thead>\n",
       "    <tr style=\"text-align: right;\">\n",
       "      <th></th>\n",
       "      <th>request_method</th>\n",
       "      <th>rq_count</th>\n",
       "      <th>rq_proba</th>\n",
       "    </tr>\n",
       "  </thead>\n",
       "  <tbody>\n",
       "    <tr>\n",
       "      <th>3</th>\n",
       "      <td>GET / HTTP/1.1</td>\n",
       "      <td>107</td>\n",
       "      <td>0.007655</td>\n",
       "    </tr>\n",
       "    <tr>\n",
       "      <th>4</th>\n",
       "      <td>GET /documentation HTTP/1.1</td>\n",
       "      <td>100</td>\n",
       "      <td>0.007154</td>\n",
       "    </tr>\n",
       "    <tr>\n",
       "      <th>5</th>\n",
       "      <td>GET /favicon.ico HTTP/1.1</td>\n",
       "      <td>26</td>\n",
       "      <td>0.001860</td>\n",
       "    </tr>\n",
       "    <tr>\n",
       "      <th>6</th>\n",
       "      <td>GET /api/v1//api/v1/items HTTP/1.1</td>\n",
       "      <td>11</td>\n",
       "      <td>0.000787</td>\n",
       "    </tr>\n",
       "    <tr>\n",
       "      <th>7</th>\n",
       "      <td>GET /api/v1/items/api/v1/items HTTP/1.1</td>\n",
       "      <td>7</td>\n",
       "      <td>0.000501</td>\n",
       "    </tr>\n",
       "    <tr>\n",
       "      <th>8</th>\n",
       "      <td>GET /api/v1/items/next_page HTTP/1.1</td>\n",
       "      <td>5</td>\n",
       "      <td>0.000358</td>\n",
       "    </tr>\n",
       "    <tr>\n",
       "      <th>9</th>\n",
       "      <td>GET /api/v1/ HTTP/1.1</td>\n",
       "      <td>4</td>\n",
       "      <td>0.000286</td>\n",
       "    </tr>\n",
       "    <tr>\n",
       "      <th>10</th>\n",
       "      <td>GET /api/v1/itemsitems HTTP/1.1</td>\n",
       "      <td>3</td>\n",
       "      <td>0.000215</td>\n",
       "    </tr>\n",
       "    <tr>\n",
       "      <th>11</th>\n",
       "      <td>GET /api/v1/store HTTP/1.1</td>\n",
       "      <td>3</td>\n",
       "      <td>0.000215</td>\n",
       "    </tr>\n",
       "    <tr>\n",
       "      <th>12</th>\n",
       "      <td>GET /api/v1/sales/HTTP/1.1</td>\n",
       "      <td>3</td>\n",
       "      <td>0.000215</td>\n",
       "    </tr>\n",
       "    <tr>\n",
       "      <th>13</th>\n",
       "      <td>GET /api/v1/sales/ HTTP/1.1</td>\n",
       "      <td>3</td>\n",
       "      <td>0.000215</td>\n",
       "    </tr>\n",
       "    <tr>\n",
       "      <th>14</th>\n",
       "      <td>GET /api/v1items HTTP/1.1</td>\n",
       "      <td>2</td>\n",
       "      <td>0.000143</td>\n",
       "    </tr>\n",
       "    <tr>\n",
       "      <th>15</th>\n",
       "      <td>GET /api/v1/helloclass! HTTP/1.1</td>\n",
       "      <td>1</td>\n",
       "      <td>0.000072</td>\n",
       "    </tr>\n",
       "    <tr>\n",
       "      <th>16</th>\n",
       "      <td>GET /api/v1//api/v1/items/next_page HTTP/1.1</td>\n",
       "      <td>1</td>\n",
       "      <td>0.000072</td>\n",
       "    </tr>\n",
       "    <tr>\n",
       "      <th>17</th>\n",
       "      <td>GET /api/v1 HTTP/1.1</td>\n",
       "      <td>1</td>\n",
       "      <td>0.000072</td>\n",
       "    </tr>\n",
       "    <tr>\n",
       "      <th>18</th>\n",
       "      <td>GET /api/v1/items&amp;page=0 HTTP/1.1</td>\n",
       "      <td>1</td>\n",
       "      <td>0.000072</td>\n",
       "    </tr>\n",
       "    <tr>\n",
       "      <th>19</th>\n",
       "      <td>GET /api/V1/HiZach! HTTP/1.1</td>\n",
       "      <td>1</td>\n",
       "      <td>0.000072</td>\n",
       "    </tr>\n",
       "    <tr>\n",
       "      <th>20</th>\n",
       "      <td>GET /api/v1/items/HTTP/1.1</td>\n",
       "      <td>1</td>\n",
       "      <td>0.000072</td>\n",
       "    </tr>\n",
       "    <tr>\n",
       "      <th>21</th>\n",
       "      <td>GET /api/v1/I_DIDNT_DO_IT!!!! HTTP/1.1</td>\n",
       "      <td>1</td>\n",
       "      <td>0.000072</td>\n",
       "    </tr>\n",
       "  </tbody>\n",
       "</table>\n",
       "</div>"
      ],
      "text/plain": [
       "                                  request_method  rq_count  rq_proba\n",
       "3                                 GET / HTTP/1.1       107  0.007655\n",
       "4                    GET /documentation HTTP/1.1       100  0.007154\n",
       "5                      GET /favicon.ico HTTP/1.1        26  0.001860\n",
       "6             GET /api/v1//api/v1/items HTTP/1.1        11  0.000787\n",
       "7        GET /api/v1/items/api/v1/items HTTP/1.1         7  0.000501\n",
       "8           GET /api/v1/items/next_page HTTP/1.1         5  0.000358\n",
       "9                          GET /api/v1/ HTTP/1.1         4  0.000286\n",
       "10               GET /api/v1/itemsitems HTTP/1.1         3  0.000215\n",
       "11                    GET /api/v1/store HTTP/1.1         3  0.000215\n",
       "12                    GET /api/v1/sales/HTTP/1.1         3  0.000215\n",
       "13                   GET /api/v1/sales/ HTTP/1.1         3  0.000215\n",
       "14                     GET /api/v1items HTTP/1.1         2  0.000143\n",
       "15              GET /api/v1/helloclass! HTTP/1.1         1  0.000072\n",
       "16  GET /api/v1//api/v1/items/next_page HTTP/1.1         1  0.000072\n",
       "17                          GET /api/v1 HTTP/1.1         1  0.000072\n",
       "18             GET /api/v1/items&page=0 HTTP/1.1         1  0.000072\n",
       "19                  GET /api/V1/HiZach! HTTP/1.1         1  0.000072\n",
       "20                    GET /api/v1/items/HTTP/1.1         1  0.000072\n",
       "21        GET /api/v1/I_DIDNT_DO_IT!!!! HTTP/1.1         1  0.000072"
      ]
     },
     "execution_count": 20,
     "metadata": {},
     "output_type": "execute_result"
    }
   ],
   "source": [
    "# alter the rq df to only see those where rate < 1% \n",
    "rq_df[rq_df.rq_proba < 0.01]"
   ]
  },
  {
   "cell_type": "code",
   "execution_count": 29,
   "metadata": {
    "ExecuteTime": {
     "end_time": "2021-04-22T19:06:11.786888Z",
     "start_time": "2021-04-22T19:06:11.394150Z"
    }
   },
   "outputs": [
    {
     "name": "stdout",
     "output_type": "stream",
     "text": [
      "22\n",
      "                                  request_method  rq_count  rq_proba\n",
      "12                    GET /api/v1/sales/HTTP/1.1         3  0.000215\n",
      "13                   GET /api/v1/sales/ HTTP/1.1         3  0.000215\n",
      "14                     GET /api/v1items HTTP/1.1         2  0.000143\n",
      "15              GET /api/v1/helloclass! HTTP/1.1         1  0.000072\n",
      "16  GET /api/v1//api/v1/items/next_page HTTP/1.1         1  0.000072\n",
      "17                          GET /api/v1 HTTP/1.1         1  0.000072\n",
      "18             GET /api/v1/items&page=0 HTTP/1.1         1  0.000072\n",
      "19                  GET /api/V1/HiZach! HTTP/1.1         1  0.000072\n",
      "20                    GET /api/v1/items/HTTP/1.1         1  0.000072\n",
      "21        GET /api/v1/I_DIDNT_DO_IT!!!! HTTP/1.1         1  0.000072\n"
     ]
    },
    {
     "data": {
      "image/png": "[encoded data removed]",
      "text/plain": [
       "<Figure size 720x720 with 1 Axes>"
      ]
     },
     "metadata": {},
     "output_type": "display_data"
    }
   ],
   "source": [
    "from jupyterthemes import jtplot\n",
    "jtplot.style(grid=False, figsize=(10,10))\n",
    "\n",
    "print(len(rq_df))\n",
    "\n",
    "print(rq_df.tail(10))\n",
    "\n",
    "plt.figure(figsize=(10, 10))\n",
    "splot = sns.barplot(data=rq_df, y = 'request_method', x = 'rq_count', ci = None)\n",
    "for p in splot.patches:\n",
    "    splot.annotate(format(p.get_height(), '.0f'), \n",
    "                   (p.get_x() + p.get_width() / 2., p.get_height()), \n",
    "                   ha = 'center', va = 'center', xytext = (0, 10), \n",
    "                   textcoords = 'offset points'\n",
    "                   )\n",
    "plt.xticks(rotation='vertical')\n",
    "plt.show()"
   ]
  },
  {
   "cell_type": "code",
   "execution_count": 30,
   "metadata": {
    "ExecuteTime": {
     "end_time": "2021-04-22T19:08:49.150289Z",
     "start_time": "2021-04-22T19:08:49.111009Z"
    }
   },
   "outputs": [],
   "source": [
    "# create a training set\n",
    "train = df.loc['2019-04-16 19:34:42':'2019-04-17 12:55:14']"
   ]
  },
  {
   "cell_type": "code",
   "execution_count": 31,
   "metadata": {
    "ExecuteTime": {
     "end_time": "2021-04-22T19:08:56.697382Z",
     "start_time": "2021-04-22T19:08:56.671319Z"
    }
   },
   "outputs": [
    {
     "data": {
      "text/plain": [
       "0.9997138360280441"
      ]
     },
     "execution_count": 31,
     "metadata": {},
     "output_type": "execute_result"
    }
   ],
   "source": [
    "train.size /df.size"
   ]
  },
  {
   "cell_type": "code",
   "execution_count": 32,
   "metadata": {
    "ExecuteTime": {
     "end_time": "2021-04-22T19:09:15.336430Z",
     "start_time": "2021-04-22T19:09:15.326790Z"
    }
   },
   "outputs": [],
   "source": [
    "train = train[['ip','request_method','status','size','destination','request_agent','size_mb']]"
   ]
  },
  {
   "cell_type": "code",
   "execution_count": 33,
   "metadata": {
    "ExecuteTime": {
     "end_time": "2021-04-22T19:10:38.738672Z",
     "start_time": "2021-04-22T19:10:38.723175Z"
    }
   },
   "outputs": [],
   "source": [
    "#Compute probabilities based on train sample\n",
    "rq_df = pd.DataFrame(train.request_method.value_counts(dropna=False)/train.request_method.count()).reset_index().rename(columns={'index': 'request_method', 'request_method': 'rq_proba'})"
   ]
  },
  {
   "cell_type": "code",
   "execution_count": 34,
   "metadata": {
    "ExecuteTime": {
     "end_time": "2021-04-22T19:11:36.609399Z",
     "start_time": "2021-04-22T19:11:36.571179Z"
    }
   },
   "outputs": [],
   "source": [
    "#Merge probabilities with all data (train + new data):\n",
    "#Where the request_method is new, i.e. not seen in the training dataset, fill the probability with a value of 0.\n",
    "df = df.reset_index().merge(rq_df, on=['request_method'], how='left').fillna(value=0).set_index('timestamp')"
   ]
  },
  {
   "cell_type": "code",
   "execution_count": 35,
   "metadata": {
    "ExecuteTime": {
     "end_time": "2021-04-22T19:11:48.260611Z",
     "start_time": "2021-04-22T19:11:48.225277Z"
    }
   },
   "outputs": [
    {
     "data": {
      "text/html": [
       "<div>\n",
       "<style scoped>\n",
       "    .dataframe tbody tr th:only-of-type {\n",
       "        vertical-align: middle;\n",
       "    }\n",
       "\n",
       "    .dataframe tbody tr th {\n",
       "        vertical-align: top;\n",
       "    }\n",
       "\n",
       "    .dataframe thead th {\n",
       "        text-align: right;\n",
       "    }\n",
       "</style>\n",
       "<table border=\"1\" class=\"dataframe\">\n",
       "  <thead>\n",
       "    <tr style=\"text-align: right;\">\n",
       "      <th></th>\n",
       "      <th>ip</th>\n",
       "      <th>request_method</th>\n",
       "      <th>status</th>\n",
       "      <th>size</th>\n",
       "      <th>destination</th>\n",
       "      <th>request_agent</th>\n",
       "      <th>size_mb</th>\n",
       "      <th>rq_proba</th>\n",
       "    </tr>\n",
       "    <tr>\n",
       "      <th>timestamp</th>\n",
       "      <th></th>\n",
       "      <th></th>\n",
       "      <th></th>\n",
       "      <th></th>\n",
       "      <th></th>\n",
       "      <th></th>\n",
       "      <th></th>\n",
       "      <th></th>\n",
       "    </tr>\n",
       "  </thead>\n",
       "  <tbody>\n",
       "    <tr>\n",
       "      <th>2019-04-21 10:02:41</th>\n",
       "      <td>95.31.18.119</td>\n",
       "      <td>GET /api/v1/items/HTTP/1.1</td>\n",
       "      <td>200</td>\n",
       "      <td>1153005</td>\n",
       "      <td>0</td>\n",
       "      <td>python-requests/2.21.0</td>\n",
       "      <td>1.099591</td>\n",
       "      <td>0.0</td>\n",
       "    </tr>\n",
       "    <tr>\n",
       "      <th>2019-04-17 19:36:41</th>\n",
       "      <td>95.31.16.121</td>\n",
       "      <td>GET /api/v1/sales/HTTP/1.1</td>\n",
       "      <td>301</td>\n",
       "      <td>1005</td>\n",
       "      <td>0</td>\n",
       "      <td>python-requests/2.21.0</td>\n",
       "      <td>0.000958</td>\n",
       "      <td>0.0</td>\n",
       "    </tr>\n",
       "    <tr>\n",
       "      <th>2019-04-18 19:42:41</th>\n",
       "      <td>97.105.15.120</td>\n",
       "      <td>GET /api/v1/sales/HTTP/1.1</td>\n",
       "      <td>301</td>\n",
       "      <td>2560</td>\n",
       "      <td>0</td>\n",
       "      <td>python-requests/2.21.0</td>\n",
       "      <td>0.002441</td>\n",
       "      <td>0.0</td>\n",
       "    </tr>\n",
       "    <tr>\n",
       "      <th>2019-04-19 19:42:41</th>\n",
       "      <td>97.105.19.58</td>\n",
       "      <td>GET /api/v1/sales/HTTP/1.1</td>\n",
       "      <td>200</td>\n",
       "      <td>2056327</td>\n",
       "      <td>0</td>\n",
       "      <td>python-requests/2.21.0</td>\n",
       "      <td>1.961066</td>\n",
       "      <td>0.0</td>\n",
       "    </tr>\n",
       "  </tbody>\n",
       "</table>\n",
       "</div>"
      ],
      "text/plain": [
       "                                ip              request_method  status  \\\n",
       "timestamp                                                                \n",
       "2019-04-21 10:02:41   95.31.18.119  GET /api/v1/items/HTTP/1.1     200   \n",
       "2019-04-17 19:36:41   95.31.16.121  GET /api/v1/sales/HTTP/1.1     301   \n",
       "2019-04-18 19:42:41  97.105.15.120  GET /api/v1/sales/HTTP/1.1     301   \n",
       "2019-04-19 19:42:41   97.105.19.58  GET /api/v1/sales/HTTP/1.1     200   \n",
       "\n",
       "                        size destination           request_agent   size_mb  \\\n",
       "timestamp                                                                    \n",
       "2019-04-21 10:02:41  1153005           0  python-requests/2.21.0  1.099591   \n",
       "2019-04-17 19:36:41     1005           0  python-requests/2.21.0  0.000958   \n",
       "2019-04-18 19:42:41     2560           0  python-requests/2.21.0  0.002441   \n",
       "2019-04-19 19:42:41  2056327           0  python-requests/2.21.0  1.961066   \n",
       "\n",
       "                     rq_proba  \n",
       "timestamp                      \n",
       "2019-04-21 10:02:41       0.0  \n",
       "2019-04-17 19:36:41       0.0  \n",
       "2019-04-18 19:42:41       0.0  \n",
       "2019-04-19 19:42:41       0.0  "
      ]
     },
     "execution_count": 35,
     "metadata": {},
     "output_type": "execute_result"
    }
   ],
   "source": [
    "# value counts?\n",
    "df[df['rq_proba'] == 0]"
   ]
  },
  {
   "cell_type": "markdown",
   "metadata": {},
   "source": [
    "Conditional Probabilities: Probabilities using 2 discrete variables\n",
    "Probability of Status given request method:"
   ]
  },
  {
   "cell_type": "code",
   "execution_count": 36,
   "metadata": {
    "ExecuteTime": {
     "end_time": "2021-04-22T19:13:56.592489Z",
     "start_time": "2021-04-22T19:13:56.564882Z"
    }
   },
   "outputs": [],
   "source": [
    "# prob(A|B) = prob(A & B) / prob(B)\n",
    "rq_probs = train.groupby('request_method').size().div(len(train))\n",
    "\n",
    "status_given_request = pd.DataFrame(train.groupby(['request_method', 'status']).size().div(len(train)).\\\n",
    "                              div(rq_probs,\n",
    "                                 axis=0,\n",
    "                                 level='request_method').\\\n",
    "                              reset_index().\\\n",
    "                              rename(columns={0: 'proba_status_given_request'})\n",
    "                              )"
   ]
  },
  {
   "cell_type": "code",
   "execution_count": 37,
   "metadata": {
    "ExecuteTime": {
     "end_time": "2021-04-22T19:14:00.396838Z",
     "start_time": "2021-04-22T19:14:00.377711Z"
    }
   },
   "outputs": [
    {
     "data": {
      "text/html": [
       "<div>\n",
       "<style scoped>\n",
       "    .dataframe tbody tr th:only-of-type {\n",
       "        vertical-align: middle;\n",
       "    }\n",
       "\n",
       "    .dataframe tbody tr th {\n",
       "        vertical-align: top;\n",
       "    }\n",
       "\n",
       "    .dataframe thead th {\n",
       "        text-align: right;\n",
       "    }\n",
       "</style>\n",
       "<table border=\"1\" class=\"dataframe\">\n",
       "  <thead>\n",
       "    <tr style=\"text-align: right;\">\n",
       "      <th></th>\n",
       "      <th>request_method</th>\n",
       "      <th>status</th>\n",
       "      <th>proba_status_given_request</th>\n",
       "    </tr>\n",
       "  </thead>\n",
       "  <tbody>\n",
       "    <tr>\n",
       "      <th>0</th>\n",
       "      <td>GET / HTTP/1.1</td>\n",
       "      <td>200</td>\n",
       "      <td>1.000000</td>\n",
       "    </tr>\n",
       "    <tr>\n",
       "      <th>1</th>\n",
       "      <td>GET /api/V1/HiZach! HTTP/1.1</td>\n",
       "      <td>200</td>\n",
       "      <td>1.000000</td>\n",
       "    </tr>\n",
       "    <tr>\n",
       "      <th>2</th>\n",
       "      <td>GET /api/v1 HTTP/1.1</td>\n",
       "      <td>200</td>\n",
       "      <td>1.000000</td>\n",
       "    </tr>\n",
       "    <tr>\n",
       "      <th>3</th>\n",
       "      <td>GET /api/v1/ HTTP/1.1</td>\n",
       "      <td>200</td>\n",
       "      <td>1.000000</td>\n",
       "    </tr>\n",
       "    <tr>\n",
       "      <th>4</th>\n",
       "      <td>GET /api/v1//api/v1/items HTTP/1.1</td>\n",
       "      <td>200</td>\n",
       "      <td>1.000000</td>\n",
       "    </tr>\n",
       "    <tr>\n",
       "      <th>5</th>\n",
       "      <td>GET /api/v1//api/v1/items/next_page HTTP/1.1</td>\n",
       "      <td>200</td>\n",
       "      <td>1.000000</td>\n",
       "    </tr>\n",
       "    <tr>\n",
       "      <th>6</th>\n",
       "      <td>GET /api/v1/I_DIDNT_DO_IT!!!! HTTP/1.1</td>\n",
       "      <td>200</td>\n",
       "      <td>1.000000</td>\n",
       "    </tr>\n",
       "    <tr>\n",
       "      <th>7</th>\n",
       "      <td>GET /api/v1/helloclass! HTTP/1.1</td>\n",
       "      <td>200</td>\n",
       "      <td>1.000000</td>\n",
       "    </tr>\n",
       "    <tr>\n",
       "      <th>8</th>\n",
       "      <td>GET /api/v1/items HTTP/1.1</td>\n",
       "      <td>200</td>\n",
       "      <td>0.996244</td>\n",
       "    </tr>\n",
       "    <tr>\n",
       "      <th>9</th>\n",
       "      <td>GET /api/v1/items HTTP/1.1</td>\n",
       "      <td>499</td>\n",
       "      <td>0.003756</td>\n",
       "    </tr>\n",
       "    <tr>\n",
       "      <th>10</th>\n",
       "      <td>GET /api/v1/items&amp;page=0 HTTP/1.1</td>\n",
       "      <td>200</td>\n",
       "      <td>1.000000</td>\n",
       "    </tr>\n",
       "    <tr>\n",
       "      <th>11</th>\n",
       "      <td>GET /api/v1/items/api/v1/items HTTP/1.1</td>\n",
       "      <td>200</td>\n",
       "      <td>1.000000</td>\n",
       "    </tr>\n",
       "    <tr>\n",
       "      <th>12</th>\n",
       "      <td>GET /api/v1/items/next_page HTTP/1.1</td>\n",
       "      <td>200</td>\n",
       "      <td>1.000000</td>\n",
       "    </tr>\n",
       "    <tr>\n",
       "      <th>13</th>\n",
       "      <td>GET /api/v1/itemsitems HTTP/1.1</td>\n",
       "      <td>200</td>\n",
       "      <td>1.000000</td>\n",
       "    </tr>\n",
       "    <tr>\n",
       "      <th>14</th>\n",
       "      <td>GET /api/v1/sales HTTP/1.1</td>\n",
       "      <td>200</td>\n",
       "      <td>0.999032</td>\n",
       "    </tr>\n",
       "    <tr>\n",
       "      <th>15</th>\n",
       "      <td>GET /api/v1/sales HTTP/1.1</td>\n",
       "      <td>499</td>\n",
       "      <td>0.000968</td>\n",
       "    </tr>\n",
       "    <tr>\n",
       "      <th>16</th>\n",
       "      <td>GET /api/v1/sales/ HTTP/1.1</td>\n",
       "      <td>200</td>\n",
       "      <td>1.000000</td>\n",
       "    </tr>\n",
       "    <tr>\n",
       "      <th>17</th>\n",
       "      <td>GET /api/v1/store HTTP/1.1</td>\n",
       "      <td>200</td>\n",
       "      <td>1.000000</td>\n",
       "    </tr>\n",
       "    <tr>\n",
       "      <th>18</th>\n",
       "      <td>GET /api/v1/stores HTTP/1.1</td>\n",
       "      <td>200</td>\n",
       "      <td>1.000000</td>\n",
       "    </tr>\n",
       "    <tr>\n",
       "      <th>19</th>\n",
       "      <td>GET /api/v1items HTTP/1.1</td>\n",
       "      <td>200</td>\n",
       "      <td>1.000000</td>\n",
       "    </tr>\n",
       "    <tr>\n",
       "      <th>20</th>\n",
       "      <td>GET /documentation HTTP/1.1</td>\n",
       "      <td>200</td>\n",
       "      <td>1.000000</td>\n",
       "    </tr>\n",
       "    <tr>\n",
       "      <th>21</th>\n",
       "      <td>GET /favicon.ico HTTP/1.1</td>\n",
       "      <td>200</td>\n",
       "      <td>1.000000</td>\n",
       "    </tr>\n",
       "  </tbody>\n",
       "</table>\n",
       "</div>"
      ],
      "text/plain": [
       "                                  request_method  status  \\\n",
       "0                                 GET / HTTP/1.1     200   \n",
       "1                   GET /api/V1/HiZach! HTTP/1.1     200   \n",
       "2                           GET /api/v1 HTTP/1.1     200   \n",
       "3                          GET /api/v1/ HTTP/1.1     200   \n",
       "4             GET /api/v1//api/v1/items HTTP/1.1     200   \n",
       "5   GET /api/v1//api/v1/items/next_page HTTP/1.1     200   \n",
       "6         GET /api/v1/I_DIDNT_DO_IT!!!! HTTP/1.1     200   \n",
       "7               GET /api/v1/helloclass! HTTP/1.1     200   \n",
       "8                     GET /api/v1/items HTTP/1.1     200   \n",
       "9                     GET /api/v1/items HTTP/1.1     499   \n",
       "10             GET /api/v1/items&page=0 HTTP/1.1     200   \n",
       "11       GET /api/v1/items/api/v1/items HTTP/1.1     200   \n",
       "12          GET /api/v1/items/next_page HTTP/1.1     200   \n",
       "13               GET /api/v1/itemsitems HTTP/1.1     200   \n",
       "14                    GET /api/v1/sales HTTP/1.1     200   \n",
       "15                    GET /api/v1/sales HTTP/1.1     499   \n",
       "16                   GET /api/v1/sales/ HTTP/1.1     200   \n",
       "17                    GET /api/v1/store HTTP/1.1     200   \n",
       "18                   GET /api/v1/stores HTTP/1.1     200   \n",
       "19                     GET /api/v1items HTTP/1.1     200   \n",
       "20                   GET /documentation HTTP/1.1     200   \n",
       "21                     GET /favicon.ico HTTP/1.1     200   \n",
       "\n",
       "    proba_status_given_request  \n",
       "0                     1.000000  \n",
       "1                     1.000000  \n",
       "2                     1.000000  \n",
       "3                     1.000000  \n",
       "4                     1.000000  \n",
       "5                     1.000000  \n",
       "6                     1.000000  \n",
       "7                     1.000000  \n",
       "8                     0.996244  \n",
       "9                     0.003756  \n",
       "10                    1.000000  \n",
       "11                    1.000000  \n",
       "12                    1.000000  \n",
       "13                    1.000000  \n",
       "14                    0.999032  \n",
       "15                    0.000968  \n",
       "16                    1.000000  \n",
       "17                    1.000000  \n",
       "18                    1.000000  \n",
       "19                    1.000000  \n",
       "20                    1.000000  \n",
       "21                    1.000000  "
      ]
     },
     "execution_count": 37,
     "metadata": {},
     "output_type": "execute_result"
    }
   ],
   "source": [
    "status_given_request"
   ]
  },
  {
   "cell_type": "code",
   "execution_count": 39,
   "metadata": {
    "ExecuteTime": {
     "end_time": "2021-04-22T19:16:24.698518Z",
     "start_time": "2021-04-22T19:16:24.657462Z"
    }
   },
   "outputs": [
    {
     "data": {
      "text/html": [
       "<div>\n",
       "<style scoped>\n",
       "    .dataframe tbody tr th:only-of-type {\n",
       "        vertical-align: middle;\n",
       "    }\n",
       "\n",
       "    .dataframe tbody tr th {\n",
       "        vertical-align: top;\n",
       "    }\n",
       "\n",
       "    .dataframe thead th {\n",
       "        text-align: right;\n",
       "    }\n",
       "</style>\n",
       "<table border=\"1\" class=\"dataframe\">\n",
       "  <thead>\n",
       "    <tr style=\"text-align: right;\">\n",
       "      <th></th>\n",
       "      <th>request_method</th>\n",
       "      <th>status</th>\n",
       "      <th>proba_status_given_request</th>\n",
       "      <th>rq_status_count</th>\n",
       "    </tr>\n",
       "  </thead>\n",
       "  <tbody>\n",
       "    <tr>\n",
       "      <th>0</th>\n",
       "      <td>GET / HTTP/1.1</td>\n",
       "      <td>200</td>\n",
       "      <td>1.000000</td>\n",
       "      <td>107</td>\n",
       "    </tr>\n",
       "    <tr>\n",
       "      <th>1</th>\n",
       "      <td>GET /api/V1/HiZach! HTTP/1.1</td>\n",
       "      <td>200</td>\n",
       "      <td>1.000000</td>\n",
       "      <td>1</td>\n",
       "    </tr>\n",
       "    <tr>\n",
       "      <th>2</th>\n",
       "      <td>GET /api/v1 HTTP/1.1</td>\n",
       "      <td>200</td>\n",
       "      <td>1.000000</td>\n",
       "      <td>1</td>\n",
       "    </tr>\n",
       "    <tr>\n",
       "      <th>3</th>\n",
       "      <td>GET /api/v1/ HTTP/1.1</td>\n",
       "      <td>200</td>\n",
       "      <td>1.000000</td>\n",
       "      <td>4</td>\n",
       "    </tr>\n",
       "    <tr>\n",
       "      <th>4</th>\n",
       "      <td>GET /api/v1//api/v1/items HTTP/1.1</td>\n",
       "      <td>200</td>\n",
       "      <td>1.000000</td>\n",
       "      <td>11</td>\n",
       "    </tr>\n",
       "    <tr>\n",
       "      <th>5</th>\n",
       "      <td>GET /api/v1//api/v1/items/next_page HTTP/1.1</td>\n",
       "      <td>200</td>\n",
       "      <td>1.000000</td>\n",
       "      <td>1</td>\n",
       "    </tr>\n",
       "    <tr>\n",
       "      <th>6</th>\n",
       "      <td>GET /api/v1/I_DIDNT_DO_IT!!!! HTTP/1.1</td>\n",
       "      <td>200</td>\n",
       "      <td>1.000000</td>\n",
       "      <td>1</td>\n",
       "    </tr>\n",
       "    <tr>\n",
       "      <th>7</th>\n",
       "      <td>GET /api/v1/helloclass! HTTP/1.1</td>\n",
       "      <td>200</td>\n",
       "      <td>1.000000</td>\n",
       "      <td>1</td>\n",
       "    </tr>\n",
       "    <tr>\n",
       "      <th>8</th>\n",
       "      <td>GET /api/v1/items HTTP/1.1</td>\n",
       "      <td>200</td>\n",
       "      <td>0.996244</td>\n",
       "      <td>1061</td>\n",
       "    </tr>\n",
       "    <tr>\n",
       "      <th>9</th>\n",
       "      <td>GET /api/v1/items HTTP/1.1</td>\n",
       "      <td>499</td>\n",
       "      <td>0.003756</td>\n",
       "      <td>4</td>\n",
       "    </tr>\n",
       "    <tr>\n",
       "      <th>10</th>\n",
       "      <td>GET /api/v1/items&amp;page=0 HTTP/1.1</td>\n",
       "      <td>200</td>\n",
       "      <td>1.000000</td>\n",
       "      <td>1</td>\n",
       "    </tr>\n",
       "    <tr>\n",
       "      <th>11</th>\n",
       "      <td>GET /api/v1/items/api/v1/items HTTP/1.1</td>\n",
       "      <td>200</td>\n",
       "      <td>1.000000</td>\n",
       "      <td>7</td>\n",
       "    </tr>\n",
       "    <tr>\n",
       "      <th>12</th>\n",
       "      <td>GET /api/v1/items/next_page HTTP/1.1</td>\n",
       "      <td>200</td>\n",
       "      <td>1.000000</td>\n",
       "      <td>5</td>\n",
       "    </tr>\n",
       "    <tr>\n",
       "      <th>13</th>\n",
       "      <td>GET /api/v1/itemsitems HTTP/1.1</td>\n",
       "      <td>200</td>\n",
       "      <td>1.000000</td>\n",
       "      <td>3</td>\n",
       "    </tr>\n",
       "    <tr>\n",
       "      <th>14</th>\n",
       "      <td>GET /api/v1/sales HTTP/1.1</td>\n",
       "      <td>200</td>\n",
       "      <td>0.999032</td>\n",
       "      <td>12391</td>\n",
       "    </tr>\n",
       "    <tr>\n",
       "      <th>15</th>\n",
       "      <td>GET /api/v1/sales HTTP/1.1</td>\n",
       "      <td>499</td>\n",
       "      <td>0.000968</td>\n",
       "      <td>12</td>\n",
       "    </tr>\n",
       "    <tr>\n",
       "      <th>16</th>\n",
       "      <td>GET /api/v1/sales/ HTTP/1.1</td>\n",
       "      <td>200</td>\n",
       "      <td>1.000000</td>\n",
       "      <td>3</td>\n",
       "    </tr>\n",
       "    <tr>\n",
       "      <th>17</th>\n",
       "      <td>GET /api/v1/store HTTP/1.1</td>\n",
       "      <td>200</td>\n",
       "      <td>1.000000</td>\n",
       "      <td>3</td>\n",
       "    </tr>\n",
       "    <tr>\n",
       "      <th>18</th>\n",
       "      <td>GET /api/v1/stores HTTP/1.1</td>\n",
       "      <td>200</td>\n",
       "      <td>1.000000</td>\n",
       "      <td>229</td>\n",
       "    </tr>\n",
       "    <tr>\n",
       "      <th>19</th>\n",
       "      <td>GET /api/v1items HTTP/1.1</td>\n",
       "      <td>200</td>\n",
       "      <td>1.000000</td>\n",
       "      <td>2</td>\n",
       "    </tr>\n",
       "    <tr>\n",
       "      <th>20</th>\n",
       "      <td>GET /documentation HTTP/1.1</td>\n",
       "      <td>200</td>\n",
       "      <td>1.000000</td>\n",
       "      <td>100</td>\n",
       "    </tr>\n",
       "    <tr>\n",
       "      <th>21</th>\n",
       "      <td>GET /favicon.ico HTTP/1.1</td>\n",
       "      <td>200</td>\n",
       "      <td>1.000000</td>\n",
       "      <td>26</td>\n",
       "    </tr>\n",
       "  </tbody>\n",
       "</table>\n",
       "</div>"
      ],
      "text/plain": [
       "                                  request_method  status  \\\n",
       "0                                 GET / HTTP/1.1     200   \n",
       "1                   GET /api/V1/HiZach! HTTP/1.1     200   \n",
       "2                           GET /api/v1 HTTP/1.1     200   \n",
       "3                          GET /api/v1/ HTTP/1.1     200   \n",
       "4             GET /api/v1//api/v1/items HTTP/1.1     200   \n",
       "5   GET /api/v1//api/v1/items/next_page HTTP/1.1     200   \n",
       "6         GET /api/v1/I_DIDNT_DO_IT!!!! HTTP/1.1     200   \n",
       "7               GET /api/v1/helloclass! HTTP/1.1     200   \n",
       "8                     GET /api/v1/items HTTP/1.1     200   \n",
       "9                     GET /api/v1/items HTTP/1.1     499   \n",
       "10             GET /api/v1/items&page=0 HTTP/1.1     200   \n",
       "11       GET /api/v1/items/api/v1/items HTTP/1.1     200   \n",
       "12          GET /api/v1/items/next_page HTTP/1.1     200   \n",
       "13               GET /api/v1/itemsitems HTTP/1.1     200   \n",
       "14                    GET /api/v1/sales HTTP/1.1     200   \n",
       "15                    GET /api/v1/sales HTTP/1.1     499   \n",
       "16                   GET /api/v1/sales/ HTTP/1.1     200   \n",
       "17                    GET /api/v1/store HTTP/1.1     200   \n",
       "18                   GET /api/v1/stores HTTP/1.1     200   \n",
       "19                     GET /api/v1items HTTP/1.1     200   \n",
       "20                   GET /documentation HTTP/1.1     200   \n",
       "21                     GET /favicon.ico HTTP/1.1     200   \n",
       "\n",
       "    proba_status_given_request  rq_status_count  \n",
       "0                     1.000000              107  \n",
       "1                     1.000000                1  \n",
       "2                     1.000000                1  \n",
       "3                     1.000000                4  \n",
       "4                     1.000000               11  \n",
       "5                     1.000000                1  \n",
       "6                     1.000000                1  \n",
       "7                     1.000000                1  \n",
       "8                     0.996244             1061  \n",
       "9                     0.003756                4  \n",
       "10                    1.000000                1  \n",
       "11                    1.000000                7  \n",
       "12                    1.000000                5  \n",
       "13                    1.000000                3  \n",
       "14                    0.999032            12391  \n",
       "15                    0.000968               12  \n",
       "16                    1.000000                3  \n",
       "17                    1.000000                3  \n",
       "18                    1.000000              229  \n",
       "19                    1.000000                2  \n",
       "20                    1.000000              100  \n",
       "21                    1.000000               26  "
      ]
     },
     "execution_count": 39,
     "metadata": {},
     "output_type": "execute_result"
    }
   ],
   "source": [
    "request_status_count = pd.DataFrame(train.groupby(['request_method', 'status'])['ip'].\\\n",
    "                              count().reset_index().\\\n",
    "                              rename(columns={'ip': 'rq_status_count'}))\n",
    "\n",
    "\n",
    "rq_status = status_given_request.merge(request_status_count)\n",
    "rq_status"
   ]
  },
  {
   "cell_type": "code",
   "execution_count": 40,
   "metadata": {
    "ExecuteTime": {
     "end_time": "2021-04-22T19:18:29.297990Z",
     "start_time": "2021-04-22T19:18:29.237400Z"
    }
   },
   "outputs": [
    {
     "data": {
      "text/html": [
       "<div>\n",
       "<style scoped>\n",
       "    .dataframe tbody tr th:only-of-type {\n",
       "        vertical-align: middle;\n",
       "    }\n",
       "\n",
       "    .dataframe tbody tr th {\n",
       "        vertical-align: top;\n",
       "    }\n",
       "\n",
       "    .dataframe thead th {\n",
       "        text-align: right;\n",
       "    }\n",
       "</style>\n",
       "<table border=\"1\" class=\"dataframe\">\n",
       "  <thead>\n",
       "    <tr style=\"text-align: right;\">\n",
       "      <th></th>\n",
       "      <th>ip</th>\n",
       "      <th>request_method</th>\n",
       "      <th>status</th>\n",
       "      <th>size</th>\n",
       "      <th>destination</th>\n",
       "      <th>request_agent</th>\n",
       "      <th>size_mb</th>\n",
       "      <th>rq_proba</th>\n",
       "      <th>proba_status_given_request</th>\n",
       "      <th>rq_status_count</th>\n",
       "    </tr>\n",
       "    <tr>\n",
       "      <th>timestamp</th>\n",
       "      <th></th>\n",
       "      <th></th>\n",
       "      <th></th>\n",
       "      <th></th>\n",
       "      <th></th>\n",
       "      <th></th>\n",
       "      <th></th>\n",
       "      <th></th>\n",
       "      <th></th>\n",
       "      <th></th>\n",
       "    </tr>\n",
       "  </thead>\n",
       "  <tbody>\n",
       "    <tr>\n",
       "      <th>2019-04-16 19:34:42</th>\n",
       "      <td>97.105.19.58</td>\n",
       "      <td>GET /api/v1/sales HTTP/1.1</td>\n",
       "      <td>200</td>\n",
       "      <td>512495</td>\n",
       "      <td>0</td>\n",
       "      <td>python-requests/2.21.0</td>\n",
       "      <td>0.488753</td>\n",
       "      <td>0.887577</td>\n",
       "      <td>0.999032</td>\n",
       "      <td>12391.0</td>\n",
       "    </tr>\n",
       "    <tr>\n",
       "      <th>2019-04-16 19:34:42</th>\n",
       "      <td>97.105.19.58</td>\n",
       "      <td>GET /api/v1/items HTTP/1.1</td>\n",
       "      <td>200</td>\n",
       "      <td>3561</td>\n",
       "      <td>0</td>\n",
       "      <td>python-requests/2.21.0</td>\n",
       "      <td>0.003396</td>\n",
       "      <td>0.076213</td>\n",
       "      <td>0.996244</td>\n",
       "      <td>1061.0</td>\n",
       "    </tr>\n",
       "    <tr>\n",
       "      <th>2019-04-16 19:34:44</th>\n",
       "      <td>97.105.19.58</td>\n",
       "      <td>GET /api/v1/sales HTTP/1.1</td>\n",
       "      <td>200</td>\n",
       "      <td>510103</td>\n",
       "      <td>0</td>\n",
       "      <td>python-requests/2.21.0</td>\n",
       "      <td>0.486472</td>\n",
       "      <td>0.887577</td>\n",
       "      <td>0.999032</td>\n",
       "      <td>12391.0</td>\n",
       "    </tr>\n",
       "    <tr>\n",
       "      <th>2019-04-16 19:34:46</th>\n",
       "      <td>97.105.19.58</td>\n",
       "      <td>GET /api/v1/sales HTTP/1.1</td>\n",
       "      <td>200</td>\n",
       "      <td>510003</td>\n",
       "      <td>0</td>\n",
       "      <td>python-requests/2.21.0</td>\n",
       "      <td>0.486377</td>\n",
       "      <td>0.887577</td>\n",
       "      <td>0.999032</td>\n",
       "      <td>12391.0</td>\n",
       "    </tr>\n",
       "    <tr>\n",
       "      <th>2019-04-16 19:34:48</th>\n",
       "      <td>97.105.19.58</td>\n",
       "      <td>GET /api/v1/sales HTTP/1.1</td>\n",
       "      <td>200</td>\n",
       "      <td>511963</td>\n",
       "      <td>0</td>\n",
       "      <td>python-requests/2.21.0</td>\n",
       "      <td>0.488246</td>\n",
       "      <td>0.887577</td>\n",
       "      <td>0.999032</td>\n",
       "      <td>12391.0</td>\n",
       "    </tr>\n",
       "  </tbody>\n",
       "</table>\n",
       "</div>"
      ],
      "text/plain": [
       "                               ip              request_method  status    size  \\\n",
       "timestamp                                                                       \n",
       "2019-04-16 19:34:42  97.105.19.58  GET /api/v1/sales HTTP/1.1     200  512495   \n",
       "2019-04-16 19:34:42  97.105.19.58  GET /api/v1/items HTTP/1.1     200    3561   \n",
       "2019-04-16 19:34:44  97.105.19.58  GET /api/v1/sales HTTP/1.1     200  510103   \n",
       "2019-04-16 19:34:46  97.105.19.58  GET /api/v1/sales HTTP/1.1     200  510003   \n",
       "2019-04-16 19:34:48  97.105.19.58  GET /api/v1/sales HTTP/1.1     200  511963   \n",
       "\n",
       "                    destination           request_agent   size_mb  rq_proba  \\\n",
       "timestamp                                                                     \n",
       "2019-04-16 19:34:42           0  python-requests/2.21.0  0.488753  0.887577   \n",
       "2019-04-16 19:34:42           0  python-requests/2.21.0  0.003396  0.076213   \n",
       "2019-04-16 19:34:44           0  python-requests/2.21.0  0.486472  0.887577   \n",
       "2019-04-16 19:34:46           0  python-requests/2.21.0  0.486377  0.887577   \n",
       "2019-04-16 19:34:48           0  python-requests/2.21.0  0.488246  0.887577   \n",
       "\n",
       "                     proba_status_given_request  rq_status_count  \n",
       "timestamp                                                         \n",
       "2019-04-16 19:34:42                    0.999032          12391.0  \n",
       "2019-04-16 19:34:42                    0.996244           1061.0  \n",
       "2019-04-16 19:34:44                    0.999032          12391.0  \n",
       "2019-04-16 19:34:46                    0.999032          12391.0  \n",
       "2019-04-16 19:34:48                    0.999032          12391.0  "
      ]
     },
     "execution_count": 40,
     "metadata": {},
     "output_type": "execute_result"
    }
   ],
   "source": [
    "df = df.reset_index().merge(rq_status, on=['request_method', 'status'], how='left').fillna(value=0).set_index('timestamp')\n",
    "df.head()"
   ]
  },
  {
   "cell_type": "code",
   "execution_count": 41,
   "metadata": {
    "ExecuteTime": {
     "end_time": "2021-04-22T19:19:04.696376Z",
     "start_time": "2021-04-22T19:19:04.486852Z"
    }
   },
   "outputs": [
    {
     "data": {
      "image/png": "[encoded data removed]",
      "text/plain": [
       "<Figure size 576x576 with 1 Axes>"
      ]
     },
     "metadata": {},
     "output_type": "display_data"
    }
   ],
   "source": [
    "# scatter plot\n",
    "plt.scatter(df.proba_status_given_request, df.rq_proba)\n",
    "plt.show()"
   ]
  },
  {
   "cell_type": "code",
   "execution_count": 42,
   "metadata": {
    "ExecuteTime": {
     "end_time": "2021-04-22T19:19:31.753588Z",
     "start_time": "2021-04-22T19:19:31.699043Z"
    }
   },
   "outputs": [
    {
     "data": {
      "text/html": [
       "<div>\n",
       "<style scoped>\n",
       "    .dataframe tbody tr th:only-of-type {\n",
       "        vertical-align: middle;\n",
       "    }\n",
       "\n",
       "    .dataframe tbody tr th {\n",
       "        vertical-align: top;\n",
       "    }\n",
       "\n",
       "    .dataframe thead th {\n",
       "        text-align: right;\n",
       "    }\n",
       "</style>\n",
       "<table border=\"1\" class=\"dataframe\">\n",
       "  <thead>\n",
       "    <tr style=\"text-align: right;\">\n",
       "      <th></th>\n",
       "      <th>ip</th>\n",
       "      <th>request_method</th>\n",
       "      <th>status</th>\n",
       "      <th>size</th>\n",
       "      <th>destination</th>\n",
       "      <th>request_agent</th>\n",
       "      <th>size_mb</th>\n",
       "      <th>rq_proba</th>\n",
       "      <th>proba_status_given_request</th>\n",
       "      <th>rq_status_count</th>\n",
       "    </tr>\n",
       "    <tr>\n",
       "      <th>timestamp</th>\n",
       "      <th></th>\n",
       "      <th></th>\n",
       "      <th></th>\n",
       "      <th></th>\n",
       "      <th></th>\n",
       "      <th></th>\n",
       "      <th></th>\n",
       "      <th></th>\n",
       "      <th></th>\n",
       "      <th></th>\n",
       "    </tr>\n",
       "  </thead>\n",
       "  <tbody>\n",
       "    <tr>\n",
       "      <th>2019-04-16 19:34:42</th>\n",
       "      <td>97.105.19.58</td>\n",
       "      <td>GET /api/v1/items HTTP/1.1</td>\n",
       "      <td>200</td>\n",
       "      <td>3561</td>\n",
       "      <td>0</td>\n",
       "      <td>python-requests/2.21.0</td>\n",
       "      <td>0.003396</td>\n",
       "      <td>0.076213</td>\n",
       "      <td>0.996244</td>\n",
       "      <td>1061.0</td>\n",
       "    </tr>\n",
       "    <tr>\n",
       "      <th>2019-04-16 19:34:48</th>\n",
       "      <td>97.105.19.58</td>\n",
       "      <td>GET /api/v1/stores HTTP/1.1</td>\n",
       "      <td>200</td>\n",
       "      <td>1328</td>\n",
       "      <td>0</td>\n",
       "      <td>python-requests/2.21.0</td>\n",
       "      <td>0.001266</td>\n",
       "      <td>0.016388</td>\n",
       "      <td>1.000000</td>\n",
       "      <td>229.0</td>\n",
       "    </tr>\n",
       "    <tr>\n",
       "      <th>2019-04-16 19:34:52</th>\n",
       "      <td>97.105.19.58</td>\n",
       "      <td>GET / HTTP/1.1</td>\n",
       "      <td>200</td>\n",
       "      <td>42</td>\n",
       "      <td>0</td>\n",
       "      <td>python-requests/2.21.0</td>\n",
       "      <td>0.000040</td>\n",
       "      <td>0.007657</td>\n",
       "      <td>1.000000</td>\n",
       "      <td>107.0</td>\n",
       "    </tr>\n",
       "    <tr>\n",
       "      <th>2019-04-16 19:34:53</th>\n",
       "      <td>97.105.19.58</td>\n",
       "      <td>GET /api/v1/items HTTP/1.1</td>\n",
       "      <td>200</td>\n",
       "      <td>3561</td>\n",
       "      <td>0</td>\n",
       "      <td>python-requests/2.21.0</td>\n",
       "      <td>0.003396</td>\n",
       "      <td>0.076213</td>\n",
       "      <td>0.996244</td>\n",
       "      <td>1061.0</td>\n",
       "    </tr>\n",
       "    <tr>\n",
       "      <th>2019-04-16 19:34:53</th>\n",
       "      <td>97.105.19.58</td>\n",
       "      <td>GET /api/v1/items HTTP/1.1</td>\n",
       "      <td>200</td>\n",
       "      <td>3659</td>\n",
       "      <td>0</td>\n",
       "      <td>python-requests/2.21.0</td>\n",
       "      <td>0.003489</td>\n",
       "      <td>0.076213</td>\n",
       "      <td>0.996244</td>\n",
       "      <td>1061.0</td>\n",
       "    </tr>\n",
       "    <tr>\n",
       "      <th>...</th>\n",
       "      <td>...</td>\n",
       "      <td>...</td>\n",
       "      <td>...</td>\n",
       "      <td>...</td>\n",
       "      <td>...</td>\n",
       "      <td>...</td>\n",
       "      <td>...</td>\n",
       "      <td>...</td>\n",
       "      <td>...</td>\n",
       "      <td>...</td>\n",
       "    </tr>\n",
       "    <tr>\n",
       "      <th>2019-04-17 06:15:05</th>\n",
       "      <td>24.26.242.9</td>\n",
       "      <td>GET /api/v1/items HTTP/1.1</td>\n",
       "      <td>200</td>\n",
       "      <td>3561</td>\n",
       "      <td>0</td>\n",
       "      <td>python-requests/2.21.0</td>\n",
       "      <td>0.003396</td>\n",
       "      <td>0.076213</td>\n",
       "      <td>0.996244</td>\n",
       "      <td>1061.0</td>\n",
       "    </tr>\n",
       "    <tr>\n",
       "      <th>2019-04-17 06:15:06</th>\n",
       "      <td>24.26.242.9</td>\n",
       "      <td>GET /api/v1/stores HTTP/1.1</td>\n",
       "      <td>200</td>\n",
       "      <td>1328</td>\n",
       "      <td>0</td>\n",
       "      <td>python-requests/2.21.0</td>\n",
       "      <td>0.001266</td>\n",
       "      <td>0.016388</td>\n",
       "      <td>1.000000</td>\n",
       "      <td>229.0</td>\n",
       "    </tr>\n",
       "    <tr>\n",
       "      <th>2019-04-17 06:16:10</th>\n",
       "      <td>24.26.242.9</td>\n",
       "      <td>GET /api/v1/items HTTP/1.1</td>\n",
       "      <td>200</td>\n",
       "      <td>3561</td>\n",
       "      <td>0</td>\n",
       "      <td>python-requests/2.21.0</td>\n",
       "      <td>0.003396</td>\n",
       "      <td>0.076213</td>\n",
       "      <td>0.996244</td>\n",
       "      <td>1061.0</td>\n",
       "    </tr>\n",
       "    <tr>\n",
       "      <th>2019-04-17 06:16:10</th>\n",
       "      <td>24.26.242.9</td>\n",
       "      <td>GET /api/v1/stores HTTP/1.1</td>\n",
       "      <td>200</td>\n",
       "      <td>1328</td>\n",
       "      <td>0</td>\n",
       "      <td>python-requests/2.21.0</td>\n",
       "      <td>0.001266</td>\n",
       "      <td>0.016388</td>\n",
       "      <td>1.000000</td>\n",
       "      <td>229.0</td>\n",
       "    </tr>\n",
       "    <tr>\n",
       "      <th>2019-04-17 10:25:50</th>\n",
       "      <td>45.23.250.16</td>\n",
       "      <td>GET /api/v1/stores HTTP/1.1</td>\n",
       "      <td>200</td>\n",
       "      <td>1328</td>\n",
       "      <td>0</td>\n",
       "      <td>python-requests/2.21.0</td>\n",
       "      <td>0.001266</td>\n",
       "      <td>0.016388</td>\n",
       "      <td>1.000000</td>\n",
       "      <td>229.0</td>\n",
       "    </tr>\n",
       "  </tbody>\n",
       "</table>\n",
       "<p>1567 rows × 10 columns</p>\n",
       "</div>"
      ],
      "text/plain": [
       "                               ip               request_method  status  size  \\\n",
       "timestamp                                                                      \n",
       "2019-04-16 19:34:42  97.105.19.58   GET /api/v1/items HTTP/1.1     200  3561   \n",
       "2019-04-16 19:34:48  97.105.19.58  GET /api/v1/stores HTTP/1.1     200  1328   \n",
       "2019-04-16 19:34:52  97.105.19.58               GET / HTTP/1.1     200    42   \n",
       "2019-04-16 19:34:53  97.105.19.58   GET /api/v1/items HTTP/1.1     200  3561   \n",
       "2019-04-16 19:34:53  97.105.19.58   GET /api/v1/items HTTP/1.1     200  3659   \n",
       "...                           ...                          ...     ...   ...   \n",
       "2019-04-17 06:15:05   24.26.242.9   GET /api/v1/items HTTP/1.1     200  3561   \n",
       "2019-04-17 06:15:06   24.26.242.9  GET /api/v1/stores HTTP/1.1     200  1328   \n",
       "2019-04-17 06:16:10   24.26.242.9   GET /api/v1/items HTTP/1.1     200  3561   \n",
       "2019-04-17 06:16:10   24.26.242.9  GET /api/v1/stores HTTP/1.1     200  1328   \n",
       "2019-04-17 10:25:50  45.23.250.16  GET /api/v1/stores HTTP/1.1     200  1328   \n",
       "\n",
       "                    destination           request_agent   size_mb  rq_proba  \\\n",
       "timestamp                                                                     \n",
       "2019-04-16 19:34:42           0  python-requests/2.21.0  0.003396  0.076213   \n",
       "2019-04-16 19:34:48           0  python-requests/2.21.0  0.001266  0.016388   \n",
       "2019-04-16 19:34:52           0  python-requests/2.21.0  0.000040  0.007657   \n",
       "2019-04-16 19:34:53           0  python-requests/2.21.0  0.003396  0.076213   \n",
       "2019-04-16 19:34:53           0  python-requests/2.21.0  0.003489  0.076213   \n",
       "...                         ...                     ...       ...       ...   \n",
       "2019-04-17 06:15:05           0  python-requests/2.21.0  0.003396  0.076213   \n",
       "2019-04-17 06:15:06           0  python-requests/2.21.0  0.001266  0.016388   \n",
       "2019-04-17 06:16:10           0  python-requests/2.21.0  0.003396  0.076213   \n",
       "2019-04-17 06:16:10           0  python-requests/2.21.0  0.001266  0.016388   \n",
       "2019-04-17 10:25:50           0  python-requests/2.21.0  0.001266  0.016388   \n",
       "\n",
       "                     proba_status_given_request  rq_status_count  \n",
       "timestamp                                                         \n",
       "2019-04-16 19:34:42                    0.996244           1061.0  \n",
       "2019-04-16 19:34:48                    1.000000            229.0  \n",
       "2019-04-16 19:34:52                    1.000000            107.0  \n",
       "2019-04-16 19:34:53                    0.996244           1061.0  \n",
       "2019-04-16 19:34:53                    0.996244           1061.0  \n",
       "...                                         ...              ...  \n",
       "2019-04-17 06:15:05                    0.996244           1061.0  \n",
       "2019-04-17 06:15:06                    1.000000            229.0  \n",
       "2019-04-17 06:16:10                    0.996244           1061.0  \n",
       "2019-04-17 06:16:10                    1.000000            229.0  \n",
       "2019-04-17 10:25:50                    1.000000            229.0  \n",
       "\n",
       "[1567 rows x 10 columns]"
      ]
     },
     "execution_count": 42,
     "metadata": {},
     "output_type": "execute_result"
    }
   ],
   "source": [
    "df[(df['proba_status_given_request'] > 0.9) & (df['rq_proba'] < 0.2)]"
   ]
  },
  {
   "cell_type": "code",
   "execution_count": 47,
   "metadata": {
    "ExecuteTime": {
     "end_time": "2021-04-22T20:12:27.244482Z",
     "start_time": "2021-04-22T20:12:27.209482Z"
    }
   },
   "outputs": [
    {
     "data": {
      "text/plain": [
       "97.105.19.58      11999\n",
       "173.173.113.51     1059\n",
       "72.181.113.170      613\n",
       "72.181.105.81       246\n",
       "68.201.219.223       21\n",
       "24.26.242.9          21\n",
       "35.175.171.137        2\n",
       "52.87.230.102         2\n",
       "70.121.214.34         2\n",
       "54.145.52.184         1\n",
       "35.174.209.2          1\n",
       "3.88.129.158          1\n",
       "95.31.18.119          1\n",
       "34.207.64.242         1\n",
       "52.90.165.200         1\n",
       "45.23.250.16          1\n",
       "34.229.70.250         1\n",
       "54.172.14.223         1\n",
       "52.91.30.150          1\n",
       "95.31.16.121          1\n",
       "97.105.15.120         1\n",
       "3.92.201.136          1\n",
       "Name: ip, dtype: int64"
      ]
     },
     "execution_count": 47,
     "metadata": {},
     "output_type": "execute_result"
    }
   ],
   "source": [
    "df.ip.value_counts()"
   ]
  },
  {
   "cell_type": "code",
   "execution_count": 48,
   "metadata": {
    "ExecuteTime": {
     "end_time": "2021-04-22T20:13:42.801680Z",
     "start_time": "2021-04-22T20:13:41.700235Z"
    }
   },
   "outputs": [],
   "source": [
    "from ip2geotools.databases.noncommercial import DbIpCity\n",
    "response = DbIpCity.get('97.105.19.58', api_key='free')\n"
   ]
  },
  {
   "cell_type": "code",
   "execution_count": 49,
   "metadata": {
    "ExecuteTime": {
     "end_time": "2021-04-22T20:13:55.050269Z",
     "start_time": "2021-04-22T20:13:55.040603Z"
    }
   },
   "outputs": [
    {
     "data": {
      "text/plain": [
       "'San Antonio (Downtown)'"
      ]
     },
     "execution_count": 49,
     "metadata": {},
     "output_type": "execute_result"
    }
   ],
   "source": [
    "response.city"
   ]
  },
  {
   "cell_type": "code",
   "execution_count": 51,
   "metadata": {
    "ExecuteTime": {
     "end_time": "2021-04-22T20:16:47.031912Z",
     "start_time": "2021-04-22T20:16:47.018526Z"
    }
   },
   "outputs": [
    {
     "data": {
      "text/plain": [
       "['97.105.19.58',\n",
       " '3.92.201.136',\n",
       " '52.90.165.200',\n",
       " '3.88.129.158',\n",
       " '34.207.64.242',\n",
       " '54.172.14.223',\n",
       " '34.229.70.250',\n",
       " '35.175.171.137',\n",
       " '54.145.52.184',\n",
       " '52.87.230.102',\n",
       " '35.174.209.2',\n",
       " '72.181.105.81',\n",
       " '70.121.214.34',\n",
       " '68.201.219.223',\n",
       " '173.173.113.51',\n",
       " '72.181.113.170',\n",
       " '52.91.30.150',\n",
       " '24.26.242.9',\n",
       " '45.23.250.16',\n",
       " '95.31.18.119',\n",
       " '95.31.16.121',\n",
       " '97.105.15.120']"
      ]
     },
     "execution_count": 51,
     "metadata": {},
     "output_type": "execute_result"
    }
   ],
   "source": [
    "ip_list = df.ip.unique().tolist()\n",
    "ip_list"
   ]
  },
  {
   "cell_type": "code",
   "execution_count": 53,
   "metadata": {
    "ExecuteTime": {
     "end_time": "2021-04-22T20:20:00.750988Z",
     "start_time": "2021-04-22T20:20:00.739043Z"
    }
   },
   "outputs": [
    {
     "data": {
      "text/plain": [
       "'97.105.19.58,San Antonio (Downtown),Texas,US,29.4193459,-98.4780456'"
      ]
     },
     "execution_count": 53,
     "metadata": {},
     "output_type": "execute_result"
    }
   ],
   "source": [
    "response.to_csv(',')"
   ]
  },
  {
   "cell_type": "code",
   "execution_count": 57,
   "metadata": {
    "ExecuteTime": {
     "end_time": "2021-04-22T20:25:59.399908Z",
     "start_time": "2021-04-22T20:25:37.461003Z"
    }
   },
   "outputs": [
    {
     "data": {
      "text/plain": [
       "['97.105.19.58,San Antonio (Downtown),Texas,US,29.4193459,-98.4780456',\n",
       " '3.92.201.136,Ashburn,Virginia,US,39.030019100000004,-77.46964646557657',\n",
       " '52.90.165.200,Ashburn,Virginia,US,39.030019100000004,-77.46964646557657',\n",
       " '3.88.129.158,Ashburn,Virginia,US,39.030019100000004,-77.46964646557657',\n",
       " '34.207.64.242,Ashburn,Virginia,US,39.030019100000004,-77.46964646557657',\n",
       " '54.172.14.223,Ashburn,Virginia,US,39.030019100000004,-77.46964646557657',\n",
       " '34.229.70.250,Ashburn,Virginia,US,39.030019100000004,-77.46964646557657',\n",
       " '35.175.171.137,Ashburn,Virginia,US,39.030019100000004,-77.46964646557657',\n",
       " '54.145.52.184,Ashburn,Virginia,US,39.030019100000004,-77.46964646557657',\n",
       " '52.87.230.102,Ashburn,Virginia,US,39.030019100000004,-77.46964646557657',\n",
       " '35.174.209.2,Ashburn,Virginia,US,39.030019100000004,-77.46964646557657',\n",
       " '72.181.105.81,San Antonio,Texas,US,29.4246002,-98.4951405',\n",
       " '70.121.214.34,San Antonio (North Central),Texas,US,33.9014063,-94.8297388',\n",
       " '68.201.219.223,San Antonio,Texas,US,29.4246002,-98.4951405',\n",
       " '173.173.113.51,San Antonio,Texas,US,29.4246002,-98.4951405',\n",
       " '72.181.113.170,San Antonio,Texas,US,29.4246002,-98.4951405',\n",
       " '52.91.30.150,Ashburn,Virginia,US,39.030019100000004,-77.46964646557657',\n",
       " '24.26.242.9,San Antonio,Texas,US,29.4246002,-98.4951405',\n",
       " '45.23.250.16,San Antonio,Texas,US,29.4246002,-98.4951405',\n",
       " '95.31.18.119,Moscow (Tsentralnyy administrativnyy okrug),Moscow,RU,None,None',\n",
       " '95.31.16.121,Moscow (Tsentralnyy administrativnyy okrug),Moscow,RU,None,None',\n",
       " '97.105.15.120,Austin,Texas,US,30.2711286,-97.7436995']"
      ]
     },
     "execution_count": 57,
     "metadata": {},
     "output_type": "execute_result"
    }
   ],
   "source": [
    "geo = [(DbIpCity.get(ip, api_key='free')).to_csv(',') for ip in ip_list]\n",
    "geo"
   ]
  },
  {
   "cell_type": "code",
   "execution_count": 114,
   "metadata": {
    "ExecuteTime": {
     "end_time": "2021-04-22T22:03:53.778098Z",
     "start_time": "2021-04-22T22:03:53.765541Z"
    },
    "scrolled": true
   },
   "outputs": [
    {
     "data": {
      "text/html": [
       "<div>\n",
       "<style scoped>\n",
       "    .dataframe tbody tr th:only-of-type {\n",
       "        vertical-align: middle;\n",
       "    }\n",
       "\n",
       "    .dataframe tbody tr th {\n",
       "        vertical-align: top;\n",
       "    }\n",
       "\n",
       "    .dataframe thead th {\n",
       "        text-align: right;\n",
       "    }\n",
       "</style>\n",
       "<table border=\"1\" class=\"dataframe\">\n",
       "  <thead>\n",
       "    <tr style=\"text-align: right;\">\n",
       "      <th></th>\n",
       "      <th>0</th>\n",
       "    </tr>\n",
       "  </thead>\n",
       "  <tbody>\n",
       "    <tr>\n",
       "      <th>0</th>\n",
       "      <td>97.105.19.58,San Antonio (Downtown),Texas,US,2...</td>\n",
       "    </tr>\n",
       "    <tr>\n",
       "      <th>1</th>\n",
       "      <td>3.92.201.136,Ashburn,Virginia,US,39.0300191000...</td>\n",
       "    </tr>\n",
       "    <tr>\n",
       "      <th>2</th>\n",
       "      <td>52.90.165.200,Ashburn,Virginia,US,39.030019100...</td>\n",
       "    </tr>\n",
       "    <tr>\n",
       "      <th>3</th>\n",
       "      <td>3.88.129.158,Ashburn,Virginia,US,39.0300191000...</td>\n",
       "    </tr>\n",
       "    <tr>\n",
       "      <th>4</th>\n",
       "      <td>34.207.64.242,Ashburn,Virginia,US,39.030019100...</td>\n",
       "    </tr>\n",
       "  </tbody>\n",
       "</table>\n",
       "</div>"
      ],
      "text/plain": [
       "                                                   0\n",
       "0  97.105.19.58,San Antonio (Downtown),Texas,US,2...\n",
       "1  3.92.201.136,Ashburn,Virginia,US,39.0300191000...\n",
       "2  52.90.165.200,Ashburn,Virginia,US,39.030019100...\n",
       "3  3.88.129.158,Ashburn,Virginia,US,39.0300191000...\n",
       "4  34.207.64.242,Ashburn,Virginia,US,39.030019100..."
      ]
     },
     "execution_count": 114,
     "metadata": {},
     "output_type": "execute_result"
    }
   ],
   "source": [
    "geo_df = pd.DataFrame(geo)\n",
    "geo_df.head()"
   ]
  },
  {
   "cell_type": "code",
   "execution_count": 115,
   "metadata": {
    "ExecuteTime": {
     "end_time": "2021-04-22T22:03:56.113843Z",
     "start_time": "2021-04-22T22:03:56.084692Z"
    },
    "scrolled": true
   },
   "outputs": [
    {
     "data": {
      "text/html": [
       "<div>\n",
       "<style scoped>\n",
       "    .dataframe tbody tr th:only-of-type {\n",
       "        vertical-align: middle;\n",
       "    }\n",
       "\n",
       "    .dataframe tbody tr th {\n",
       "        vertical-align: top;\n",
       "    }\n",
       "\n",
       "    .dataframe thead th {\n",
       "        text-align: right;\n",
       "    }\n",
       "</style>\n",
       "<table border=\"1\" class=\"dataframe\">\n",
       "  <thead>\n",
       "    <tr style=\"text-align: right;\">\n",
       "      <th></th>\n",
       "      <th>0</th>\n",
       "      <th>1</th>\n",
       "      <th>2</th>\n",
       "      <th>3</th>\n",
       "      <th>4</th>\n",
       "      <th>5</th>\n",
       "    </tr>\n",
       "  </thead>\n",
       "  <tbody>\n",
       "    <tr>\n",
       "      <th>0</th>\n",
       "      <td>97.105.19.58</td>\n",
       "      <td>San Antonio (Downtown)</td>\n",
       "      <td>Texas</td>\n",
       "      <td>US</td>\n",
       "      <td>29.4193459</td>\n",
       "      <td>-98.4780456</td>\n",
       "    </tr>\n",
       "    <tr>\n",
       "      <th>1</th>\n",
       "      <td>3.92.201.136</td>\n",
       "      <td>Ashburn</td>\n",
       "      <td>Virginia</td>\n",
       "      <td>US</td>\n",
       "      <td>39.030019100000004</td>\n",
       "      <td>-77.46964646557657</td>\n",
       "    </tr>\n",
       "    <tr>\n",
       "      <th>2</th>\n",
       "      <td>52.90.165.200</td>\n",
       "      <td>Ashburn</td>\n",
       "      <td>Virginia</td>\n",
       "      <td>US</td>\n",
       "      <td>39.030019100000004</td>\n",
       "      <td>-77.46964646557657</td>\n",
       "    </tr>\n",
       "    <tr>\n",
       "      <th>3</th>\n",
       "      <td>3.88.129.158</td>\n",
       "      <td>Ashburn</td>\n",
       "      <td>Virginia</td>\n",
       "      <td>US</td>\n",
       "      <td>39.030019100000004</td>\n",
       "      <td>-77.46964646557657</td>\n",
       "    </tr>\n",
       "    <tr>\n",
       "      <th>4</th>\n",
       "      <td>34.207.64.242</td>\n",
       "      <td>Ashburn</td>\n",
       "      <td>Virginia</td>\n",
       "      <td>US</td>\n",
       "      <td>39.030019100000004</td>\n",
       "      <td>-77.46964646557657</td>\n",
       "    </tr>\n",
       "  </tbody>\n",
       "</table>\n",
       "</div>"
      ],
      "text/plain": [
       "               0                       1         2   3                   4  \\\n",
       "0   97.105.19.58  San Antonio (Downtown)     Texas  US          29.4193459   \n",
       "1   3.92.201.136                 Ashburn  Virginia  US  39.030019100000004   \n",
       "2  52.90.165.200                 Ashburn  Virginia  US  39.030019100000004   \n",
       "3   3.88.129.158                 Ashburn  Virginia  US  39.030019100000004   \n",
       "4  34.207.64.242                 Ashburn  Virginia  US  39.030019100000004   \n",
       "\n",
       "                    5  \n",
       "0         -98.4780456  \n",
       "1  -77.46964646557657  \n",
       "2  -77.46964646557657  \n",
       "3  -77.46964646557657  \n",
       "4  -77.46964646557657  "
      ]
     },
     "execution_count": 115,
     "metadata": {},
     "output_type": "execute_result"
    }
   ],
   "source": [
    "geo_df = geo_df[0].str.split(',', expand=True)\n",
    "geo_df.head(5)"
   ]
  },
  {
   "cell_type": "code",
   "execution_count": 116,
   "metadata": {
    "ExecuteTime": {
     "end_time": "2021-04-22T22:03:58.628606Z",
     "start_time": "2021-04-22T22:03:58.610771Z"
    },
    "scrolled": true
   },
   "outputs": [
    {
     "data": {
      "text/html": [
       "<div>\n",
       "<style scoped>\n",
       "    .dataframe tbody tr th:only-of-type {\n",
       "        vertical-align: middle;\n",
       "    }\n",
       "\n",
       "    .dataframe tbody tr th {\n",
       "        vertical-align: top;\n",
       "    }\n",
       "\n",
       "    .dataframe thead th {\n",
       "        text-align: right;\n",
       "    }\n",
       "</style>\n",
       "<table border=\"1\" class=\"dataframe\">\n",
       "  <thead>\n",
       "    <tr style=\"text-align: right;\">\n",
       "      <th></th>\n",
       "      <th>ip</th>\n",
       "      <th>city</th>\n",
       "      <th>state</th>\n",
       "      <th>country</th>\n",
       "      <th>latitude</th>\n",
       "      <th>longitude</th>\n",
       "    </tr>\n",
       "  </thead>\n",
       "  <tbody>\n",
       "    <tr>\n",
       "      <th>0</th>\n",
       "      <td>97.105.19.58</td>\n",
       "      <td>San Antonio (Downtown)</td>\n",
       "      <td>Texas</td>\n",
       "      <td>US</td>\n",
       "      <td>29.4193459</td>\n",
       "      <td>-98.4780456</td>\n",
       "    </tr>\n",
       "  </tbody>\n",
       "</table>\n",
       "</div>"
      ],
      "text/plain": [
       "             ip                    city  state country    latitude  \\\n",
       "0  97.105.19.58  San Antonio (Downtown)  Texas      US  29.4193459   \n",
       "\n",
       "     longitude  \n",
       "0  -98.4780456  "
      ]
     },
     "execution_count": 116,
     "metadata": {},
     "output_type": "execute_result"
    }
   ],
   "source": [
    "geo_df.columns = ['ip','city','state','country','latitude','longitude']\n",
    "geo_df.head(1)"
   ]
  },
  {
   "cell_type": "code",
   "execution_count": 117,
   "metadata": {
    "ExecuteTime": {
     "end_time": "2021-04-22T22:04:01.445040Z",
     "start_time": "2021-04-22T22:04:01.410674Z"
    },
    "scrolled": false
   },
   "outputs": [
    {
     "data": {
      "text/html": [
       "<div>\n",
       "<style scoped>\n",
       "    .dataframe tbody tr th:only-of-type {\n",
       "        vertical-align: middle;\n",
       "    }\n",
       "\n",
       "    .dataframe tbody tr th {\n",
       "        vertical-align: top;\n",
       "    }\n",
       "\n",
       "    .dataframe thead th {\n",
       "        text-align: right;\n",
       "    }\n",
       "</style>\n",
       "<table border=\"1\" class=\"dataframe\">\n",
       "  <thead>\n",
       "    <tr style=\"text-align: right;\">\n",
       "      <th></th>\n",
       "      <th>ip</th>\n",
       "      <th>city</th>\n",
       "      <th>state</th>\n",
       "      <th>country</th>\n",
       "      <th>latitude</th>\n",
       "      <th>longitude</th>\n",
       "    </tr>\n",
       "  </thead>\n",
       "  <tbody>\n",
       "    <tr>\n",
       "      <th>0</th>\n",
       "      <td>97.105.19.58</td>\n",
       "      <td>San Antonio (Downtown)</td>\n",
       "      <td>Texas</td>\n",
       "      <td>US</td>\n",
       "      <td>29.4193459</td>\n",
       "      <td>-98.4780456</td>\n",
       "    </tr>\n",
       "    <tr>\n",
       "      <th>1</th>\n",
       "      <td>3.92.201.136</td>\n",
       "      <td>Ashburn</td>\n",
       "      <td>Virginia</td>\n",
       "      <td>US</td>\n",
       "      <td>39.030019100000004</td>\n",
       "      <td>-77.46964646557657</td>\n",
       "    </tr>\n",
       "    <tr>\n",
       "      <th>2</th>\n",
       "      <td>52.90.165.200</td>\n",
       "      <td>Ashburn</td>\n",
       "      <td>Virginia</td>\n",
       "      <td>US</td>\n",
       "      <td>39.030019100000004</td>\n",
       "      <td>-77.46964646557657</td>\n",
       "    </tr>\n",
       "    <tr>\n",
       "      <th>3</th>\n",
       "      <td>3.88.129.158</td>\n",
       "      <td>Ashburn</td>\n",
       "      <td>Virginia</td>\n",
       "      <td>US</td>\n",
       "      <td>39.030019100000004</td>\n",
       "      <td>-77.46964646557657</td>\n",
       "    </tr>\n",
       "    <tr>\n",
       "      <th>4</th>\n",
       "      <td>34.207.64.242</td>\n",
       "      <td>Ashburn</td>\n",
       "      <td>Virginia</td>\n",
       "      <td>US</td>\n",
       "      <td>39.030019100000004</td>\n",
       "      <td>-77.46964646557657</td>\n",
       "    </tr>\n",
       "    <tr>\n",
       "      <th>5</th>\n",
       "      <td>54.172.14.223</td>\n",
       "      <td>Ashburn</td>\n",
       "      <td>Virginia</td>\n",
       "      <td>US</td>\n",
       "      <td>39.030019100000004</td>\n",
       "      <td>-77.46964646557657</td>\n",
       "    </tr>\n",
       "    <tr>\n",
       "      <th>6</th>\n",
       "      <td>34.229.70.250</td>\n",
       "      <td>Ashburn</td>\n",
       "      <td>Virginia</td>\n",
       "      <td>US</td>\n",
       "      <td>39.030019100000004</td>\n",
       "      <td>-77.46964646557657</td>\n",
       "    </tr>\n",
       "    <tr>\n",
       "      <th>7</th>\n",
       "      <td>35.175.171.137</td>\n",
       "      <td>Ashburn</td>\n",
       "      <td>Virginia</td>\n",
       "      <td>US</td>\n",
       "      <td>39.030019100000004</td>\n",
       "      <td>-77.46964646557657</td>\n",
       "    </tr>\n",
       "    <tr>\n",
       "      <th>8</th>\n",
       "      <td>54.145.52.184</td>\n",
       "      <td>Ashburn</td>\n",
       "      <td>Virginia</td>\n",
       "      <td>US</td>\n",
       "      <td>39.030019100000004</td>\n",
       "      <td>-77.46964646557657</td>\n",
       "    </tr>\n",
       "    <tr>\n",
       "      <th>9</th>\n",
       "      <td>52.87.230.102</td>\n",
       "      <td>Ashburn</td>\n",
       "      <td>Virginia</td>\n",
       "      <td>US</td>\n",
       "      <td>39.030019100000004</td>\n",
       "      <td>-77.46964646557657</td>\n",
       "    </tr>\n",
       "    <tr>\n",
       "      <th>10</th>\n",
       "      <td>35.174.209.2</td>\n",
       "      <td>Ashburn</td>\n",
       "      <td>Virginia</td>\n",
       "      <td>US</td>\n",
       "      <td>39.030019100000004</td>\n",
       "      <td>-77.46964646557657</td>\n",
       "    </tr>\n",
       "    <tr>\n",
       "      <th>11</th>\n",
       "      <td>72.181.105.81</td>\n",
       "      <td>San Antonio</td>\n",
       "      <td>Texas</td>\n",
       "      <td>US</td>\n",
       "      <td>29.4246002</td>\n",
       "      <td>-98.4951405</td>\n",
       "    </tr>\n",
       "    <tr>\n",
       "      <th>12</th>\n",
       "      <td>70.121.214.34</td>\n",
       "      <td>San Antonio (North Central)</td>\n",
       "      <td>Texas</td>\n",
       "      <td>US</td>\n",
       "      <td>33.9014063</td>\n",
       "      <td>-94.8297388</td>\n",
       "    </tr>\n",
       "    <tr>\n",
       "      <th>13</th>\n",
       "      <td>68.201.219.223</td>\n",
       "      <td>San Antonio</td>\n",
       "      <td>Texas</td>\n",
       "      <td>US</td>\n",
       "      <td>29.4246002</td>\n",
       "      <td>-98.4951405</td>\n",
       "    </tr>\n",
       "    <tr>\n",
       "      <th>14</th>\n",
       "      <td>173.173.113.51</td>\n",
       "      <td>San Antonio</td>\n",
       "      <td>Texas</td>\n",
       "      <td>US</td>\n",
       "      <td>29.4246002</td>\n",
       "      <td>-98.4951405</td>\n",
       "    </tr>\n",
       "    <tr>\n",
       "      <th>15</th>\n",
       "      <td>72.181.113.170</td>\n",
       "      <td>San Antonio</td>\n",
       "      <td>Texas</td>\n",
       "      <td>US</td>\n",
       "      <td>29.4246002</td>\n",
       "      <td>-98.4951405</td>\n",
       "    </tr>\n",
       "    <tr>\n",
       "      <th>16</th>\n",
       "      <td>52.91.30.150</td>\n",
       "      <td>Ashburn</td>\n",
       "      <td>Virginia</td>\n",
       "      <td>US</td>\n",
       "      <td>39.030019100000004</td>\n",
       "      <td>-77.46964646557657</td>\n",
       "    </tr>\n",
       "    <tr>\n",
       "      <th>17</th>\n",
       "      <td>24.26.242.9</td>\n",
       "      <td>San Antonio</td>\n",
       "      <td>Texas</td>\n",
       "      <td>US</td>\n",
       "      <td>29.4246002</td>\n",
       "      <td>-98.4951405</td>\n",
       "    </tr>\n",
       "    <tr>\n",
       "      <th>18</th>\n",
       "      <td>45.23.250.16</td>\n",
       "      <td>San Antonio</td>\n",
       "      <td>Texas</td>\n",
       "      <td>US</td>\n",
       "      <td>29.4246002</td>\n",
       "      <td>-98.4951405</td>\n",
       "    </tr>\n",
       "    <tr>\n",
       "      <th>19</th>\n",
       "      <td>95.31.18.119</td>\n",
       "      <td>Moscow (Tsentralnyy administrativnyy okrug)</td>\n",
       "      <td>Moscow</td>\n",
       "      <td>RU</td>\n",
       "      <td>0</td>\n",
       "      <td>0</td>\n",
       "    </tr>\n",
       "    <tr>\n",
       "      <th>20</th>\n",
       "      <td>95.31.16.121</td>\n",
       "      <td>Moscow (Tsentralnyy administrativnyy okrug)</td>\n",
       "      <td>Moscow</td>\n",
       "      <td>RU</td>\n",
       "      <td>0</td>\n",
       "      <td>0</td>\n",
       "    </tr>\n",
       "    <tr>\n",
       "      <th>21</th>\n",
       "      <td>97.105.15.120</td>\n",
       "      <td>Austin</td>\n",
       "      <td>Texas</td>\n",
       "      <td>US</td>\n",
       "      <td>30.2711286</td>\n",
       "      <td>-97.7436995</td>\n",
       "    </tr>\n",
       "  </tbody>\n",
       "</table>\n",
       "</div>"
      ],
      "text/plain": [
       "                ip                                         city     state  \\\n",
       "0     97.105.19.58                       San Antonio (Downtown)     Texas   \n",
       "1     3.92.201.136                                      Ashburn  Virginia   \n",
       "2    52.90.165.200                                      Ashburn  Virginia   \n",
       "3     3.88.129.158                                      Ashburn  Virginia   \n",
       "4    34.207.64.242                                      Ashburn  Virginia   \n",
       "5    54.172.14.223                                      Ashburn  Virginia   \n",
       "6    34.229.70.250                                      Ashburn  Virginia   \n",
       "7   35.175.171.137                                      Ashburn  Virginia   \n",
       "8    54.145.52.184                                      Ashburn  Virginia   \n",
       "9    52.87.230.102                                      Ashburn  Virginia   \n",
       "10    35.174.209.2                                      Ashburn  Virginia   \n",
       "11   72.181.105.81                                  San Antonio     Texas   \n",
       "12   70.121.214.34                  San Antonio (North Central)     Texas   \n",
       "13  68.201.219.223                                  San Antonio     Texas   \n",
       "14  173.173.113.51                                  San Antonio     Texas   \n",
       "15  72.181.113.170                                  San Antonio     Texas   \n",
       "16    52.91.30.150                                      Ashburn  Virginia   \n",
       "17     24.26.242.9                                  San Antonio     Texas   \n",
       "18    45.23.250.16                                  San Antonio     Texas   \n",
       "19    95.31.18.119  Moscow (Tsentralnyy administrativnyy okrug)    Moscow   \n",
       "20    95.31.16.121  Moscow (Tsentralnyy administrativnyy okrug)    Moscow   \n",
       "21   97.105.15.120                                       Austin     Texas   \n",
       "\n",
       "   country            latitude           longitude  \n",
       "0       US          29.4193459         -98.4780456  \n",
       "1       US  39.030019100000004  -77.46964646557657  \n",
       "2       US  39.030019100000004  -77.46964646557657  \n",
       "3       US  39.030019100000004  -77.46964646557657  \n",
       "4       US  39.030019100000004  -77.46964646557657  \n",
       "5       US  39.030019100000004  -77.46964646557657  \n",
       "6       US  39.030019100000004  -77.46964646557657  \n",
       "7       US  39.030019100000004  -77.46964646557657  \n",
       "8       US  39.030019100000004  -77.46964646557657  \n",
       "9       US  39.030019100000004  -77.46964646557657  \n",
       "10      US  39.030019100000004  -77.46964646557657  \n",
       "11      US          29.4246002         -98.4951405  \n",
       "12      US          33.9014063         -94.8297388  \n",
       "13      US          29.4246002         -98.4951405  \n",
       "14      US          29.4246002         -98.4951405  \n",
       "15      US          29.4246002         -98.4951405  \n",
       "16      US  39.030019100000004  -77.46964646557657  \n",
       "17      US          29.4246002         -98.4951405  \n",
       "18      US          29.4246002         -98.4951405  \n",
       "19      RU                   0                   0  \n",
       "20      RU                   0                   0  \n",
       "21      US          30.2711286         -97.7436995  "
      ]
     },
     "execution_count": 117,
     "metadata": {},
     "output_type": "execute_result"
    }
   ],
   "source": [
    "geo_df = geo_df.replace('None',0)\n",
    "geo_df"
   ]
  },
  {
   "cell_type": "code",
   "execution_count": 118,
   "metadata": {
    "ExecuteTime": {
     "end_time": "2021-04-22T22:04:10.376034Z",
     "start_time": "2021-04-22T22:04:10.357744Z"
    }
   },
   "outputs": [
    {
     "name": "stdout",
     "output_type": "stream",
     "text": [
      "<class 'pandas.core.frame.DataFrame'>\n",
      "RangeIndex: 22 entries, 0 to 21\n",
      "Data columns (total 6 columns):\n",
      " #   Column     Non-Null Count  Dtype  \n",
      "---  ------     --------------  -----  \n",
      " 0   ip         22 non-null     object \n",
      " 1   city       22 non-null     object \n",
      " 2   state      22 non-null     object \n",
      " 3   country    22 non-null     object \n",
      " 4   latitude   22 non-null     float64\n",
      " 5   longitude  22 non-null     float64\n",
      "dtypes: float64(2), object(4)\n",
      "memory usage: 1.2+ KB\n"
     ]
    }
   ],
   "source": [
    "geo_df.latitude = geo_df.latitude.astype(float)\n",
    "geo_df.longitude = geo_df.longitude.astype(float)\n",
    "\n",
    "geo_df.info()"
   ]
  },
  {
   "cell_type": "code",
   "execution_count": 119,
   "metadata": {
    "ExecuteTime": {
     "end_time": "2021-04-22T22:04:13.069183Z",
     "start_time": "2021-04-22T22:04:13.062651Z"
    }
   },
   "outputs": [],
   "source": [
    "geo_df.latitude = geo_df.latitude.apply(lambda x: 55.751244 if x == 0 else x)\n",
    "geo_df.longitude = geo_df.longitude.apply(lambda x: 37.618423 if x == 0 else x)"
   ]
  },
  {
   "cell_type": "code",
   "execution_count": 120,
   "metadata": {
    "ExecuteTime": {
     "end_time": "2021-04-22T22:04:14.117343Z",
     "start_time": "2021-04-22T22:04:14.112633Z"
    }
   },
   "outputs": [],
   "source": [
    "import folium"
   ]
  },
  {
   "cell_type": "code",
   "execution_count": 121,
   "metadata": {
    "ExecuteTime": {
     "end_time": "2021-04-22T22:04:15.363034Z",
     "start_time": "2021-04-22T22:04:15.351433Z"
    },
    "scrolled": true
   },
   "outputs": [],
   "source": [
    "center = [29.4193459, -98.4780456]\n",
    "map_sat = folium.Map(location=center, zoom_start=8)"
   ]
  },
  {
   "cell_type": "code",
   "execution_count": 126,
   "metadata": {
    "ExecuteTime": {
     "end_time": "2021-04-22T22:14:03.294514Z",
     "start_time": "2021-04-22T22:14:03.077353Z"
    },
    "scrolled": false
   },
   "outputs": [
    {
     "data": {
      "text/html": [
       "<div style=\"width:100%;\"><div style=\"position:relative;width:100%;height:0;padding-bottom:60%;\"><span style=\"color:#565656\">Make this Notebook Trusted to load map: File -> Trust Notebook</span><iframe src=\"about:blank\" style=\"position:absolute;width:100%;height:100%;left:0;top:0;border:none !important;\" data-html=%3C%21DOCTYPE%20html%3E%0A%3Chead%3E%20%20%20%20%0A%20%20%20%20%3Cmeta%20http-equiv%3D%22content-type%22%20content%3D%22text/html%3B%20charset%3DUTF-8%22%20/%3E%0A%20%20%20%20%0A%20%20%20%20%20%20%20%20%3Cscript%3E%0A%20%20%20%20%20%20%20%20%20%20%20%20L_NO_TOUCH%20%3D%20false%3B%0A%20%20%20%20%20%20%20%20%20%20%20%20L_DISABLE_3D%20%3D%20false%3B%0A%20%20%20%20%20%20%20%20%3C/script%3E%0A%20%20%20%20%0A%20%20%20%20%3Cstyle%3Ehtml%2C%20body%20%7Bwidth%3A%20100%25%3Bheight%3A%20100%25%3Bmargin%3A%200%3Bpadding%3A%200%3B%7D%3C/style%3E%0A%20%20%20%20%3Cstyle%3E%23map%20%7Bposition%3Aabsolute%3Btop%3A0%3Bbottom%3A0%3Bright%3A0%3Bleft%3A0%3B%7D%3C/style%3E%0A%20%20%20%20%3Cscript%20src%3D%22https%3A//cdn.jsdelivr.net/npm/leaflet%401.6.0/dist/leaflet.js%22%3E%3C/script%3E%0A%20%20%20%20%3Cscript%20src%3D%22https%3A//code.jquery.com/jquery-1.12.4.min.js%22%3E%3C/script%3E%0A%20%20%20%20%3Cscript%20src%3D%22https%3A//maxcdn.bootstrapcdn.com/bootstrap/3.2.0/js/bootstrap.min.js%22%3E%3C/script%3E%0A%20%20%20%20%3Cscript%20src%3D%22https%3A//cdnjs.cloudflare.com/ajax/libs/Leaflet.awesome-markers/2.0.2/leaflet.awesome-markers.js%22%3E%3C/script%3E%0A%20%20%20%20%3Clink%20rel%3D%22stylesheet%22%20href%3D%22https%3A//cdn.jsdelivr.net/npm/leaflet%401.6.0/dist/leaflet.css%22/%3E%0A%20%20%20%20%3Clink%20rel%3D%22stylesheet%22%20href%3D%22https%3A//maxcdn.bootstrapcdn.com/bootstrap/3.2.0/css/bootstrap.min.css%22/%3E%0A%20%20%20%20%3Clink%20rel%3D%22stylesheet%22%20href%3D%22https%3A//maxcdn.bootstrapcdn.com/bootstrap/3.2.0/css/bootstrap-theme.min.css%22/%3E%0A%20%20%20%20%3Clink%20rel%3D%22stylesheet%22%20href%3D%22https%3A//maxcdn.bootstrapcdn.com/font-awesome/4.6.3/css/font-awesome.min.css%22/%3E%0A%20%20%20%20%3Clink%20rel%3D%22stylesheet%22%20href%3D%22https%3A//cdnjs.cloudflare.com/ajax/libs/Leaflet.awesome-markers/2.0.2/leaflet.awesome-markers.css%22/%3E%0A%20%20%20%20%3Clink%20rel%3D%22stylesheet%22%20href%3D%22https%3A//cdn.jsdelivr.net/gh/python-visualization/folium/folium/templates/leaflet.awesome.rotate.min.css%22/%3E%0A%20%20%20%20%0A%20%20%20%20%20%20%20%20%20%20%20%20%3Cmeta%20name%3D%22viewport%22%20content%3D%22width%3Ddevice-width%2C%0A%20%20%20%20%20%20%20%20%20%20%20%20%20%20%20%20initial-scale%3D1.0%2C%20maximum-scale%3D1.0%2C%20user-scalable%3Dno%22%20/%3E%0A%20%20%20%20%20%20%20%20%20%20%20%20%3Cstyle%3E%0A%20%20%20%20%20%20%20%20%20%20%20%20%20%20%20%20%23map_96d62e2a37a1423183b240110d8db5d0%20%7B%0A%20%20%20%20%20%20%20%20%20%20%20%20%20%20%20%20%20%20%20%20position%3A%20relative%3B%0A%20%20%20%20%20%20%20%20%20%20%20%20%20%20%20%20%20%20%20%20width%3A%20100.0%25%3B%0A%20%20%20%20%20%20%20%20%20%20%20%20%20%20%20%20%20%20%20%20height%3A%20100.0%25%3B%0A%20%20%20%20%20%20%20%20%20%20%20%20%20%20%20%20%20%20%20%20left%3A%200.0%25%3B%0A%20%20%20%20%20%20%20%20%20%20%20%20%20%20%20%20%20%20%20%20top%3A%200.0%25%3B%0A%20%20%20%20%20%20%20%20%20%20%20%20%20%20%20%20%7D%0A%20%20%20%20%20%20%20%20%20%20%20%20%3C/style%3E%0A%20%20%20%20%20%20%20%20%0A%3C/head%3E%0A%3Cbody%3E%20%20%20%20%0A%20%20%20%20%0A%20%20%20%20%20%20%20%20%20%20%20%20%3Cdiv%20class%3D%22folium-map%22%20id%3D%22map_96d62e2a37a1423183b240110d8db5d0%22%20%3E%3C/div%3E%0A%20%20%20%20%20%20%20%20%0A%3C/body%3E%0A%3Cscript%3E%20%20%20%20%0A%20%20%20%20%0A%20%20%20%20%20%20%20%20%20%20%20%20var%20map_96d62e2a37a1423183b240110d8db5d0%20%3D%20L.map%28%0A%20%20%20%20%20%20%20%20%20%20%20%20%20%20%20%20%22map_96d62e2a37a1423183b240110d8db5d0%22%2C%0A%20%20%20%20%20%20%20%20%20%20%20%20%20%20%20%20%7B%0A%20%20%20%20%20%20%20%20%20%20%20%20%20%20%20%20%20%20%20%20center%3A%20%5B29.4193459%2C%20-98.4780456%5D%2C%0A%20%20%20%20%20%20%20%20%20%20%20%20%20%20%20%20%20%20%20%20crs%3A%20L.CRS.EPSG3857%2C%0A%20%20%20%20%20%20%20%20%20%20%20%20%20%20%20%20%20%20%20%20zoom%3A%208%2C%0A%20%20%20%20%20%20%20%20%20%20%20%20%20%20%20%20%20%20%20%20zoomControl%3A%20true%2C%0A%20%20%20%20%20%20%20%20%20%20%20%20%20%20%20%20%20%20%20%20preferCanvas%3A%20false%2C%0A%20%20%20%20%20%20%20%20%20%20%20%20%20%20%20%20%7D%0A%20%20%20%20%20%20%20%20%20%20%20%20%29%3B%0A%0A%20%20%20%20%20%20%20%20%20%20%20%20%0A%0A%20%20%20%20%20%20%20%20%0A%20%20%20%20%0A%20%20%20%20%20%20%20%20%20%20%20%20var%20tile_layer_ef21258231124bd6ab9ba70a7dfed00a%20%3D%20L.tileLayer%28%0A%20%20%20%20%20%20%20%20%20%20%20%20%20%20%20%20%22https%3A//%7Bs%7D.tile.openstreetmap.org/%7Bz%7D/%7Bx%7D/%7By%7D.png%22%2C%0A%20%20%20%20%20%20%20%20%20%20%20%20%20%20%20%20%7B%22attribution%22%3A%20%22Data%20by%20%5Cu0026copy%3B%20%5Cu003ca%20href%3D%5C%22http%3A//openstreetmap.org%5C%22%5Cu003eOpenStreetMap%5Cu003c/a%5Cu003e%2C%20under%20%5Cu003ca%20href%3D%5C%22http%3A//www.openstreetmap.org/copyright%5C%22%5Cu003eODbL%5Cu003c/a%5Cu003e.%22%2C%20%22detectRetina%22%3A%20false%2C%20%22maxNativeZoom%22%3A%2018%2C%20%22maxZoom%22%3A%2018%2C%20%22minZoom%22%3A%200%2C%20%22noWrap%22%3A%20false%2C%20%22opacity%22%3A%201%2C%20%22subdomains%22%3A%20%22abc%22%2C%20%22tms%22%3A%20false%7D%0A%20%20%20%20%20%20%20%20%20%20%20%20%29.addTo%28map_96d62e2a37a1423183b240110d8db5d0%29%3B%0A%20%20%20%20%20%20%20%20%0A%20%20%20%20%0A%20%20%20%20%20%20%20%20%20%20%20%20var%20marker_712913a7fd8b42cb89e91b6b3bc08317%20%3D%20L.marker%28%0A%20%20%20%20%20%20%20%20%20%20%20%20%20%20%20%20%5B29.4193459%2C%20-98.4780456%5D%2C%0A%20%20%20%20%20%20%20%20%20%20%20%20%20%20%20%20%7B%7D%0A%20%20%20%20%20%20%20%20%20%20%20%20%29.addTo%28map_96d62e2a37a1423183b240110d8db5d0%29%3B%0A%20%20%20%20%20%20%20%20%0A%20%20%20%20%0A%20%20%20%20%20%20%20%20%20%20%20%20marker_712913a7fd8b42cb89e91b6b3bc08317.bindTooltip%28%0A%20%20%20%20%20%20%20%20%20%20%20%20%20%20%20%20%60%3Cdiv%3E%0A%20%20%20%20%20%20%20%20%20%20%20%20%20%20%20%20%20%20%20%20%20ip%3A0%20%20%20%2097.105.19.58%0AName%3A%20ip%2C%20dtype%3A%20object%0A%20%20%20%20%20%20%20%20%20%20%20%20%20%20%20%20%20%3C/div%3E%60%2C%0A%20%20%20%20%20%20%20%20%20%20%20%20%20%20%20%20%7B%22sticky%22%3A%20true%7D%0A%20%20%20%20%20%20%20%20%20%20%20%20%29%3B%0A%20%20%20%20%20%20%20%20%0A%20%20%20%20%0A%20%20%20%20%20%20%20%20%20%20%20%20var%20marker_6e6780dd062445f9a35c1bc89effe242%20%3D%20L.marker%28%0A%20%20%20%20%20%20%20%20%20%20%20%20%20%20%20%20%5B39.030019100000004%2C%20-77.46964646557657%5D%2C%0A%20%20%20%20%20%20%20%20%20%20%20%20%20%20%20%20%7B%7D%0A%20%20%20%20%20%20%20%20%20%20%20%20%29.addTo%28map_96d62e2a37a1423183b240110d8db5d0%29%3B%0A%20%20%20%20%20%20%20%20%0A%20%20%20%20%0A%20%20%20%20%20%20%20%20%20%20%20%20marker_6e6780dd062445f9a35c1bc89effe242.bindTooltip%28%0A%20%20%20%20%20%20%20%20%20%20%20%20%20%20%20%20%60%3Cdiv%3E%0A%20%20%20%20%20%20%20%20%20%20%20%20%20%20%20%20%20%20%20%20%20ip%3A1%20%20%20%203.92.201.136%0AName%3A%20ip%2C%20dtype%3A%20object%0A%20%20%20%20%20%20%20%20%20%20%20%20%20%20%20%20%20%3C/div%3E%60%2C%0A%20%20%20%20%20%20%20%20%20%20%20%20%20%20%20%20%7B%22sticky%22%3A%20true%7D%0A%20%20%20%20%20%20%20%20%20%20%20%20%29%3B%0A%20%20%20%20%20%20%20%20%0A%20%20%20%20%0A%20%20%20%20%20%20%20%20%20%20%20%20var%20marker_5626ca9248944c04bbe4b641fa1cde77%20%3D%20L.marker%28%0A%20%20%20%20%20%20%20%20%20%20%20%20%20%20%20%20%5B39.030019100000004%2C%20-77.46964646557657%5D%2C%0A%20%20%20%20%20%20%20%20%20%20%20%20%20%20%20%20%7B%7D%0A%20%20%20%20%20%20%20%20%20%20%20%20%29.addTo%28map_96d62e2a37a1423183b240110d8db5d0%29%3B%0A%20%20%20%20%20%20%20%20%0A%20%20%20%20%0A%20%20%20%20%20%20%20%20%20%20%20%20marker_5626ca9248944c04bbe4b641fa1cde77.bindTooltip%28%0A%20%20%20%20%20%20%20%20%20%20%20%20%20%20%20%20%60%3Cdiv%3E%0A%20%20%20%20%20%20%20%20%20%20%20%20%20%20%20%20%20%20%20%20%20ip%3A2%20%20%20%2052.90.165.200%0AName%3A%20ip%2C%20dtype%3A%20object%0A%20%20%20%20%20%20%20%20%20%20%20%20%20%20%20%20%20%3C/div%3E%60%2C%0A%20%20%20%20%20%20%20%20%20%20%20%20%20%20%20%20%7B%22sticky%22%3A%20true%7D%0A%20%20%20%20%20%20%20%20%20%20%20%20%29%3B%0A%20%20%20%20%20%20%20%20%0A%20%20%20%20%0A%20%20%20%20%20%20%20%20%20%20%20%20var%20marker_bf533c1f196d4489982b789a826e5888%20%3D%20L.marker%28%0A%20%20%20%20%20%20%20%20%20%20%20%20%20%20%20%20%5B39.030019100000004%2C%20-77.46964646557657%5D%2C%0A%20%20%20%20%20%20%20%20%20%20%20%20%20%20%20%20%7B%7D%0A%20%20%20%20%20%20%20%20%20%20%20%20%29.addTo%28map_96d62e2a37a1423183b240110d8db5d0%29%3B%0A%20%20%20%20%20%20%20%20%0A%20%20%20%20%0A%20%20%20%20%20%20%20%20%20%20%20%20marker_bf533c1f196d4489982b789a826e5888.bindTooltip%28%0A%20%20%20%20%20%20%20%20%20%20%20%20%20%20%20%20%60%3Cdiv%3E%0A%20%20%20%20%20%20%20%20%20%20%20%20%20%20%20%20%20%20%20%20%20ip%3A3%20%20%20%203.88.129.158%0AName%3A%20ip%2C%20dtype%3A%20object%0A%20%20%20%20%20%20%20%20%20%20%20%20%20%20%20%20%20%3C/div%3E%60%2C%0A%20%20%20%20%20%20%20%20%20%20%20%20%20%20%20%20%7B%22sticky%22%3A%20true%7D%0A%20%20%20%20%20%20%20%20%20%20%20%20%29%3B%0A%20%20%20%20%20%20%20%20%0A%20%20%20%20%0A%20%20%20%20%20%20%20%20%20%20%20%20var%20marker_649a42407a8e43a4b07937aa72adcd23%20%3D%20L.marker%28%0A%20%20%20%20%20%20%20%20%20%20%20%20%20%20%20%20%5B39.030019100000004%2C%20-77.46964646557657%5D%2C%0A%20%20%20%20%20%20%20%20%20%20%20%20%20%20%20%20%7B%7D%0A%20%20%20%20%20%20%20%20%20%20%20%20%29.addTo%28map_96d62e2a37a1423183b240110d8db5d0%29%3B%0A%20%20%20%20%20%20%20%20%0A%20%20%20%20%0A%20%20%20%20%20%20%20%20%20%20%20%20marker_649a42407a8e43a4b07937aa72adcd23.bindTooltip%28%0A%20%20%20%20%20%20%20%20%20%20%20%20%20%20%20%20%60%3Cdiv%3E%0A%20%20%20%20%20%20%20%20%20%20%20%20%20%20%20%20%20%20%20%20%20ip%3A4%20%20%20%2034.207.64.242%0AName%3A%20ip%2C%20dtype%3A%20object%0A%20%20%20%20%20%20%20%20%20%20%20%20%20%20%20%20%20%3C/div%3E%60%2C%0A%20%20%20%20%20%20%20%20%20%20%20%20%20%20%20%20%7B%22sticky%22%3A%20true%7D%0A%20%20%20%20%20%20%20%20%20%20%20%20%29%3B%0A%20%20%20%20%20%20%20%20%0A%20%20%20%20%0A%20%20%20%20%20%20%20%20%20%20%20%20var%20marker_4cbf6caa27ef4c67aeb6c54eb66d4262%20%3D%20L.marker%28%0A%20%20%20%20%20%20%20%20%20%20%20%20%20%20%20%20%5B39.030019100000004%2C%20-77.46964646557657%5D%2C%0A%20%20%20%20%20%20%20%20%20%20%20%20%20%20%20%20%7B%7D%0A%20%20%20%20%20%20%20%20%20%20%20%20%29.addTo%28map_96d62e2a37a1423183b240110d8db5d0%29%3B%0A%20%20%20%20%20%20%20%20%0A%20%20%20%20%0A%20%20%20%20%20%20%20%20%20%20%20%20marker_4cbf6caa27ef4c67aeb6c54eb66d4262.bindTooltip%28%0A%20%20%20%20%20%20%20%20%20%20%20%20%20%20%20%20%60%3Cdiv%3E%0A%20%20%20%20%20%20%20%20%20%20%20%20%20%20%20%20%20%20%20%20%20ip%3A5%20%20%20%2054.172.14.223%0AName%3A%20ip%2C%20dtype%3A%20object%0A%20%20%20%20%20%20%20%20%20%20%20%20%20%20%20%20%20%3C/div%3E%60%2C%0A%20%20%20%20%20%20%20%20%20%20%20%20%20%20%20%20%7B%22sticky%22%3A%20true%7D%0A%20%20%20%20%20%20%20%20%20%20%20%20%29%3B%0A%20%20%20%20%20%20%20%20%0A%20%20%20%20%0A%20%20%20%20%20%20%20%20%20%20%20%20var%20marker_1b3a0022a87e4f17a67648cd1582a2d4%20%3D%20L.marker%28%0A%20%20%20%20%20%20%20%20%20%20%20%20%20%20%20%20%5B39.030019100000004%2C%20-77.46964646557657%5D%2C%0A%20%20%20%20%20%20%20%20%20%20%20%20%20%20%20%20%7B%7D%0A%20%20%20%20%20%20%20%20%20%20%20%20%29.addTo%28map_96d62e2a37a1423183b240110d8db5d0%29%3B%0A%20%20%20%20%20%20%20%20%0A%20%20%20%20%0A%20%20%20%20%20%20%20%20%20%20%20%20marker_1b3a0022a87e4f17a67648cd1582a2d4.bindTooltip%28%0A%20%20%20%20%20%20%20%20%20%20%20%20%20%20%20%20%60%3Cdiv%3E%0A%20%20%20%20%20%20%20%20%20%20%20%20%20%20%20%20%20%20%20%20%20ip%3A6%20%20%20%2034.229.70.250%0AName%3A%20ip%2C%20dtype%3A%20object%0A%20%20%20%20%20%20%20%20%20%20%20%20%20%20%20%20%20%3C/div%3E%60%2C%0A%20%20%20%20%20%20%20%20%20%20%20%20%20%20%20%20%7B%22sticky%22%3A%20true%7D%0A%20%20%20%20%20%20%20%20%20%20%20%20%29%3B%0A%20%20%20%20%20%20%20%20%0A%20%20%20%20%0A%20%20%20%20%20%20%20%20%20%20%20%20var%20marker_c5f847c20a304a55bc63b7a273ac02c6%20%3D%20L.marker%28%0A%20%20%20%20%20%20%20%20%20%20%20%20%20%20%20%20%5B39.030019100000004%2C%20-77.46964646557657%5D%2C%0A%20%20%20%20%20%20%20%20%20%20%20%20%20%20%20%20%7B%7D%0A%20%20%20%20%20%20%20%20%20%20%20%20%29.addTo%28map_96d62e2a37a1423183b240110d8db5d0%29%3B%0A%20%20%20%20%20%20%20%20%0A%20%20%20%20%0A%20%20%20%20%20%20%20%20%20%20%20%20marker_c5f847c20a304a55bc63b7a273ac02c6.bindTooltip%28%0A%20%20%20%20%20%20%20%20%20%20%20%20%20%20%20%20%60%3Cdiv%3E%0A%20%20%20%20%20%20%20%20%20%20%20%20%20%20%20%20%20%20%20%20%20ip%3A7%20%20%20%2035.175.171.137%0AName%3A%20ip%2C%20dtype%3A%20object%0A%20%20%20%20%20%20%20%20%20%20%20%20%20%20%20%20%20%3C/div%3E%60%2C%0A%20%20%20%20%20%20%20%20%20%20%20%20%20%20%20%20%7B%22sticky%22%3A%20true%7D%0A%20%20%20%20%20%20%20%20%20%20%20%20%29%3B%0A%20%20%20%20%20%20%20%20%0A%20%20%20%20%0A%20%20%20%20%20%20%20%20%20%20%20%20var%20marker_ec3f473446f14bc9902645323f2ce839%20%3D%20L.marker%28%0A%20%20%20%20%20%20%20%20%20%20%20%20%20%20%20%20%5B39.030019100000004%2C%20-77.46964646557657%5D%2C%0A%20%20%20%20%20%20%20%20%20%20%20%20%20%20%20%20%7B%7D%0A%20%20%20%20%20%20%20%20%20%20%20%20%29.addTo%28map_96d62e2a37a1423183b240110d8db5d0%29%3B%0A%20%20%20%20%20%20%20%20%0A%20%20%20%20%0A%20%20%20%20%20%20%20%20%20%20%20%20marker_ec3f473446f14bc9902645323f2ce839.bindTooltip%28%0A%20%20%20%20%20%20%20%20%20%20%20%20%20%20%20%20%60%3Cdiv%3E%0A%20%20%20%20%20%20%20%20%20%20%20%20%20%20%20%20%20%20%20%20%20ip%3A8%20%20%20%2054.145.52.184%0AName%3A%20ip%2C%20dtype%3A%20object%0A%20%20%20%20%20%20%20%20%20%20%20%20%20%20%20%20%20%3C/div%3E%60%2C%0A%20%20%20%20%20%20%20%20%20%20%20%20%20%20%20%20%7B%22sticky%22%3A%20true%7D%0A%20%20%20%20%20%20%20%20%20%20%20%20%29%3B%0A%20%20%20%20%20%20%20%20%0A%20%20%20%20%0A%20%20%20%20%20%20%20%20%20%20%20%20var%20marker_3f6804c08e4b46afa5ee5e5c72100c06%20%3D%20L.marker%28%0A%20%20%20%20%20%20%20%20%20%20%20%20%20%20%20%20%5B39.030019100000004%2C%20-77.46964646557657%5D%2C%0A%20%20%20%20%20%20%20%20%20%20%20%20%20%20%20%20%7B%7D%0A%20%20%20%20%20%20%20%20%20%20%20%20%29.addTo%28map_96d62e2a37a1423183b240110d8db5d0%29%3B%0A%20%20%20%20%20%20%20%20%0A%20%20%20%20%0A%20%20%20%20%20%20%20%20%20%20%20%20marker_3f6804c08e4b46afa5ee5e5c72100c06.bindTooltip%28%0A%20%20%20%20%20%20%20%20%20%20%20%20%20%20%20%20%60%3Cdiv%3E%0A%20%20%20%20%20%20%20%20%20%20%20%20%20%20%20%20%20%20%20%20%20ip%3A9%20%20%20%2052.87.230.102%0AName%3A%20ip%2C%20dtype%3A%20object%0A%20%20%20%20%20%20%20%20%20%20%20%20%20%20%20%20%20%3C/div%3E%60%2C%0A%20%20%20%20%20%20%20%20%20%20%20%20%20%20%20%20%7B%22sticky%22%3A%20true%7D%0A%20%20%20%20%20%20%20%20%20%20%20%20%29%3B%0A%20%20%20%20%20%20%20%20%0A%20%20%20%20%0A%20%20%20%20%20%20%20%20%20%20%20%20var%20marker_79540517b3df44aa82dfcabfdd07adae%20%3D%20L.marker%28%0A%20%20%20%20%20%20%20%20%20%20%20%20%20%20%20%20%5B39.030019100000004%2C%20-77.46964646557657%5D%2C%0A%20%20%20%20%20%20%20%20%20%20%20%20%20%20%20%20%7B%7D%0A%20%20%20%20%20%20%20%20%20%20%20%20%29.addTo%28map_96d62e2a37a1423183b240110d8db5d0%29%3B%0A%20%20%20%20%20%20%20%20%0A%20%20%20%20%0A%20%20%20%20%20%20%20%20%20%20%20%20marker_79540517b3df44aa82dfcabfdd07adae.bindTooltip%28%0A%20%20%20%20%20%20%20%20%20%20%20%20%20%20%20%20%60%3Cdiv%3E%0A%20%20%20%20%20%20%20%20%20%20%20%20%20%20%20%20%20%20%20%20%20ip%3A10%20%20%20%2035.174.209.2%0AName%3A%20ip%2C%20dtype%3A%20object%0A%20%20%20%20%20%20%20%20%20%20%20%20%20%20%20%20%20%3C/div%3E%60%2C%0A%20%20%20%20%20%20%20%20%20%20%20%20%20%20%20%20%7B%22sticky%22%3A%20true%7D%0A%20%20%20%20%20%20%20%20%20%20%20%20%29%3B%0A%20%20%20%20%20%20%20%20%0A%20%20%20%20%0A%20%20%20%20%20%20%20%20%20%20%20%20var%20marker_d0d1a19acd6343b5aaacca95471bc8b0%20%3D%20L.marker%28%0A%20%20%20%20%20%20%20%20%20%20%20%20%20%20%20%20%5B29.4246002%2C%20-98.4951405%5D%2C%0A%20%20%20%20%20%20%20%20%20%20%20%20%20%20%20%20%7B%7D%0A%20%20%20%20%20%20%20%20%20%20%20%20%29.addTo%28map_96d62e2a37a1423183b240110d8db5d0%29%3B%0A%20%20%20%20%20%20%20%20%0A%20%20%20%20%0A%20%20%20%20%20%20%20%20%20%20%20%20marker_d0d1a19acd6343b5aaacca95471bc8b0.bindTooltip%28%0A%20%20%20%20%20%20%20%20%20%20%20%20%20%20%20%20%60%3Cdiv%3E%0A%20%20%20%20%20%20%20%20%20%20%20%20%20%20%20%20%20%20%20%20%20ip%3A11%20%20%20%2072.181.105.81%0AName%3A%20ip%2C%20dtype%3A%20object%0A%20%20%20%20%20%20%20%20%20%20%20%20%20%20%20%20%20%3C/div%3E%60%2C%0A%20%20%20%20%20%20%20%20%20%20%20%20%20%20%20%20%7B%22sticky%22%3A%20true%7D%0A%20%20%20%20%20%20%20%20%20%20%20%20%29%3B%0A%20%20%20%20%20%20%20%20%0A%20%20%20%20%0A%20%20%20%20%20%20%20%20%20%20%20%20var%20marker_1ef3fe9971014312a844cfe2a21e710d%20%3D%20L.marker%28%0A%20%20%20%20%20%20%20%20%20%20%20%20%20%20%20%20%5B33.9014063%2C%20-94.8297388%5D%2C%0A%20%20%20%20%20%20%20%20%20%20%20%20%20%20%20%20%7B%7D%0A%20%20%20%20%20%20%20%20%20%20%20%20%29.addTo%28map_96d62e2a37a1423183b240110d8db5d0%29%3B%0A%20%20%20%20%20%20%20%20%0A%20%20%20%20%0A%20%20%20%20%20%20%20%20%20%20%20%20marker_1ef3fe9971014312a844cfe2a21e710d.bindTooltip%28%0A%20%20%20%20%20%20%20%20%20%20%20%20%20%20%20%20%60%3Cdiv%3E%0A%20%20%20%20%20%20%20%20%20%20%20%20%20%20%20%20%20%20%20%20%20ip%3A12%20%20%20%2070.121.214.34%0AName%3A%20ip%2C%20dtype%3A%20object%0A%20%20%20%20%20%20%20%20%20%20%20%20%20%20%20%20%20%3C/div%3E%60%2C%0A%20%20%20%20%20%20%20%20%20%20%20%20%20%20%20%20%7B%22sticky%22%3A%20true%7D%0A%20%20%20%20%20%20%20%20%20%20%20%20%29%3B%0A%20%20%20%20%20%20%20%20%0A%20%20%20%20%0A%20%20%20%20%20%20%20%20%20%20%20%20var%20marker_6fe3bc6513c04bb38e57faf8daa624d5%20%3D%20L.marker%28%0A%20%20%20%20%20%20%20%20%20%20%20%20%20%20%20%20%5B29.4246002%2C%20-98.4951405%5D%2C%0A%20%20%20%20%20%20%20%20%20%20%20%20%20%20%20%20%7B%7D%0A%20%20%20%20%20%20%20%20%20%20%20%20%29.addTo%28map_96d62e2a37a1423183b240110d8db5d0%29%3B%0A%20%20%20%20%20%20%20%20%0A%20%20%20%20%0A%20%20%20%20%20%20%20%20%20%20%20%20marker_6fe3bc6513c04bb38e57faf8daa624d5.bindTooltip%28%0A%20%20%20%20%20%20%20%20%20%20%20%20%20%20%20%20%60%3Cdiv%3E%0A%20%20%20%20%20%20%20%20%20%20%20%20%20%20%20%20%20%20%20%20%20ip%3A13%20%20%20%2068.201.219.223%0AName%3A%20ip%2C%20dtype%3A%20object%0A%20%20%20%20%20%20%20%20%20%20%20%20%20%20%20%20%20%3C/div%3E%60%2C%0A%20%20%20%20%20%20%20%20%20%20%20%20%20%20%20%20%7B%22sticky%22%3A%20true%7D%0A%20%20%20%20%20%20%20%20%20%20%20%20%29%3B%0A%20%20%20%20%20%20%20%20%0A%20%20%20%20%0A%20%20%20%20%20%20%20%20%20%20%20%20var%20marker_253a8f6ca0b64b01a5cc97523e3b385e%20%3D%20L.marker%28%0A%20%20%20%20%20%20%20%20%20%20%20%20%20%20%20%20%5B29.4246002%2C%20-98.4951405%5D%2C%0A%20%20%20%20%20%20%20%20%20%20%20%20%20%20%20%20%7B%7D%0A%20%20%20%20%20%20%20%20%20%20%20%20%29.addTo%28map_96d62e2a37a1423183b240110d8db5d0%29%3B%0A%20%20%20%20%20%20%20%20%0A%20%20%20%20%0A%20%20%20%20%20%20%20%20%20%20%20%20marker_253a8f6ca0b64b01a5cc97523e3b385e.bindTooltip%28%0A%20%20%20%20%20%20%20%20%20%20%20%20%20%20%20%20%60%3Cdiv%3E%0A%20%20%20%20%20%20%20%20%20%20%20%20%20%20%20%20%20%20%20%20%20ip%3A14%20%20%20%20173.173.113.51%0AName%3A%20ip%2C%20dtype%3A%20object%0A%20%20%20%20%20%20%20%20%20%20%20%20%20%20%20%20%20%3C/div%3E%60%2C%0A%20%20%20%20%20%20%20%20%20%20%20%20%20%20%20%20%7B%22sticky%22%3A%20true%7D%0A%20%20%20%20%20%20%20%20%20%20%20%20%29%3B%0A%20%20%20%20%20%20%20%20%0A%20%20%20%20%0A%20%20%20%20%20%20%20%20%20%20%20%20var%20marker_90968380078847d480ceb747dbee2769%20%3D%20L.marker%28%0A%20%20%20%20%20%20%20%20%20%20%20%20%20%20%20%20%5B29.4246002%2C%20-98.4951405%5D%2C%0A%20%20%20%20%20%20%20%20%20%20%20%20%20%20%20%20%7B%7D%0A%20%20%20%20%20%20%20%20%20%20%20%20%29.addTo%28map_96d62e2a37a1423183b240110d8db5d0%29%3B%0A%20%20%20%20%20%20%20%20%0A%20%20%20%20%0A%20%20%20%20%20%20%20%20%20%20%20%20marker_90968380078847d480ceb747dbee2769.bindTooltip%28%0A%20%20%20%20%20%20%20%20%20%20%20%20%20%20%20%20%60%3Cdiv%3E%0A%20%20%20%20%20%20%20%20%20%20%20%20%20%20%20%20%20%20%20%20%20ip%3A15%20%20%20%2072.181.113.170%0AName%3A%20ip%2C%20dtype%3A%20object%0A%20%20%20%20%20%20%20%20%20%20%20%20%20%20%20%20%20%3C/div%3E%60%2C%0A%20%20%20%20%20%20%20%20%20%20%20%20%20%20%20%20%7B%22sticky%22%3A%20true%7D%0A%20%20%20%20%20%20%20%20%20%20%20%20%29%3B%0A%20%20%20%20%20%20%20%20%0A%20%20%20%20%0A%20%20%20%20%20%20%20%20%20%20%20%20var%20marker_870f1adae50849829cc11d5c140dacf6%20%3D%20L.marker%28%0A%20%20%20%20%20%20%20%20%20%20%20%20%20%20%20%20%5B39.030019100000004%2C%20-77.46964646557657%5D%2C%0A%20%20%20%20%20%20%20%20%20%20%20%20%20%20%20%20%7B%7D%0A%20%20%20%20%20%20%20%20%20%20%20%20%29.addTo%28map_96d62e2a37a1423183b240110d8db5d0%29%3B%0A%20%20%20%20%20%20%20%20%0A%20%20%20%20%0A%20%20%20%20%20%20%20%20%20%20%20%20marker_870f1adae50849829cc11d5c140dacf6.bindTooltip%28%0A%20%20%20%20%20%20%20%20%20%20%20%20%20%20%20%20%60%3Cdiv%3E%0A%20%20%20%20%20%20%20%20%20%20%20%20%20%20%20%20%20%20%20%20%20ip%3A16%20%20%20%2052.91.30.150%0AName%3A%20ip%2C%20dtype%3A%20object%0A%20%20%20%20%20%20%20%20%20%20%20%20%20%20%20%20%20%3C/div%3E%60%2C%0A%20%20%20%20%20%20%20%20%20%20%20%20%20%20%20%20%7B%22sticky%22%3A%20true%7D%0A%20%20%20%20%20%20%20%20%20%20%20%20%29%3B%0A%20%20%20%20%20%20%20%20%0A%20%20%20%20%0A%20%20%20%20%20%20%20%20%20%20%20%20var%20marker_8da496e3f02e4a03a664a5758792fd73%20%3D%20L.marker%28%0A%20%20%20%20%20%20%20%20%20%20%20%20%20%20%20%20%5B29.4246002%2C%20-98.4951405%5D%2C%0A%20%20%20%20%20%20%20%20%20%20%20%20%20%20%20%20%7B%7D%0A%20%20%20%20%20%20%20%20%20%20%20%20%29.addTo%28map_96d62e2a37a1423183b240110d8db5d0%29%3B%0A%20%20%20%20%20%20%20%20%0A%20%20%20%20%0A%20%20%20%20%20%20%20%20%20%20%20%20marker_8da496e3f02e4a03a664a5758792fd73.bindTooltip%28%0A%20%20%20%20%20%20%20%20%20%20%20%20%20%20%20%20%60%3Cdiv%3E%0A%20%20%20%20%20%20%20%20%20%20%20%20%20%20%20%20%20%20%20%20%20ip%3A17%20%20%20%2024.26.242.9%0AName%3A%20ip%2C%20dtype%3A%20object%0A%20%20%20%20%20%20%20%20%20%20%20%20%20%20%20%20%20%3C/div%3E%60%2C%0A%20%20%20%20%20%20%20%20%20%20%20%20%20%20%20%20%7B%22sticky%22%3A%20true%7D%0A%20%20%20%20%20%20%20%20%20%20%20%20%29%3B%0A%20%20%20%20%20%20%20%20%0A%20%20%20%20%0A%20%20%20%20%20%20%20%20%20%20%20%20var%20marker_bb2192b8a2a348eb974d6a01798d9c1b%20%3D%20L.marker%28%0A%20%20%20%20%20%20%20%20%20%20%20%20%20%20%20%20%5B29.4246002%2C%20-98.4951405%5D%2C%0A%20%20%20%20%20%20%20%20%20%20%20%20%20%20%20%20%7B%7D%0A%20%20%20%20%20%20%20%20%20%20%20%20%29.addTo%28map_96d62e2a37a1423183b240110d8db5d0%29%3B%0A%20%20%20%20%20%20%20%20%0A%20%20%20%20%0A%20%20%20%20%20%20%20%20%20%20%20%20marker_bb2192b8a2a348eb974d6a01798d9c1b.bindTooltip%28%0A%20%20%20%20%20%20%20%20%20%20%20%20%20%20%20%20%60%3Cdiv%3E%0A%20%20%20%20%20%20%20%20%20%20%20%20%20%20%20%20%20%20%20%20%20ip%3A18%20%20%20%2045.23.250.16%0AName%3A%20ip%2C%20dtype%3A%20object%0A%20%20%20%20%20%20%20%20%20%20%20%20%20%20%20%20%20%3C/div%3E%60%2C%0A%20%20%20%20%20%20%20%20%20%20%20%20%20%20%20%20%7B%22sticky%22%3A%20true%7D%0A%20%20%20%20%20%20%20%20%20%20%20%20%29%3B%0A%20%20%20%20%20%20%20%20%0A%20%20%20%20%0A%20%20%20%20%20%20%20%20%20%20%20%20var%20marker_ef0928a2abcb4561aee13ff3bc6693da%20%3D%20L.marker%28%0A%20%20%20%20%20%20%20%20%20%20%20%20%20%20%20%20%5B55.751244%2C%2037.618423%5D%2C%0A%20%20%20%20%20%20%20%20%20%20%20%20%20%20%20%20%7B%7D%0A%20%20%20%20%20%20%20%20%20%20%20%20%29.addTo%28map_96d62e2a37a1423183b240110d8db5d0%29%3B%0A%20%20%20%20%20%20%20%20%0A%20%20%20%20%0A%20%20%20%20%20%20%20%20%20%20%20%20marker_ef0928a2abcb4561aee13ff3bc6693da.bindTooltip%28%0A%20%20%20%20%20%20%20%20%20%20%20%20%20%20%20%20%60%3Cdiv%3E%0A%20%20%20%20%20%20%20%20%20%20%20%20%20%20%20%20%20%20%20%20%20ip%3A19%20%20%20%2095.31.18.119%0AName%3A%20ip%2C%20dtype%3A%20object%0A%20%20%20%20%20%20%20%20%20%20%20%20%20%20%20%20%20%3C/div%3E%60%2C%0A%20%20%20%20%20%20%20%20%20%20%20%20%20%20%20%20%7B%22sticky%22%3A%20true%7D%0A%20%20%20%20%20%20%20%20%20%20%20%20%29%3B%0A%20%20%20%20%20%20%20%20%0A%20%20%20%20%0A%20%20%20%20%20%20%20%20%20%20%20%20var%20marker_1618aad8908b469c88324f559d0e6526%20%3D%20L.marker%28%0A%20%20%20%20%20%20%20%20%20%20%20%20%20%20%20%20%5B55.751244%2C%2037.618423%5D%2C%0A%20%20%20%20%20%20%20%20%20%20%20%20%20%20%20%20%7B%7D%0A%20%20%20%20%20%20%20%20%20%20%20%20%29.addTo%28map_96d62e2a37a1423183b240110d8db5d0%29%3B%0A%20%20%20%20%20%20%20%20%0A%20%20%20%20%0A%20%20%20%20%20%20%20%20%20%20%20%20marker_1618aad8908b469c88324f559d0e6526.bindTooltip%28%0A%20%20%20%20%20%20%20%20%20%20%20%20%20%20%20%20%60%3Cdiv%3E%0A%20%20%20%20%20%20%20%20%20%20%20%20%20%20%20%20%20%20%20%20%20ip%3A20%20%20%20%2095.31.16.121%0AName%3A%20ip%2C%20dtype%3A%20object%0A%20%20%20%20%20%20%20%20%20%20%20%20%20%20%20%20%20%3C/div%3E%60%2C%0A%20%20%20%20%20%20%20%20%20%20%20%20%20%20%20%20%7B%22sticky%22%3A%20true%7D%0A%20%20%20%20%20%20%20%20%20%20%20%20%29%3B%0A%20%20%20%20%20%20%20%20%0A%20%20%20%20%0A%20%20%20%20%20%20%20%20%20%20%20%20var%20marker_464ce4c4130e45c3a0147f4cd7ddc295%20%3D%20L.marker%28%0A%20%20%20%20%20%20%20%20%20%20%20%20%20%20%20%20%5B30.2711286%2C%20-97.7436995%5D%2C%0A%20%20%20%20%20%20%20%20%20%20%20%20%20%20%20%20%7B%7D%0A%20%20%20%20%20%20%20%20%20%20%20%20%29.addTo%28map_96d62e2a37a1423183b240110d8db5d0%29%3B%0A%20%20%20%20%20%20%20%20%0A%20%20%20%20%0A%20%20%20%20%20%20%20%20%20%20%20%20marker_464ce4c4130e45c3a0147f4cd7ddc295.bindTooltip%28%0A%20%20%20%20%20%20%20%20%20%20%20%20%20%20%20%20%60%3Cdiv%3E%0A%20%20%20%20%20%20%20%20%20%20%20%20%20%20%20%20%20%20%20%20%20ip%3A21%20%20%20%2097.105.15.120%0AName%3A%20ip%2C%20dtype%3A%20object%0A%20%20%20%20%20%20%20%20%20%20%20%20%20%20%20%20%20%3C/div%3E%60%2C%0A%20%20%20%20%20%20%20%20%20%20%20%20%20%20%20%20%7B%22sticky%22%3A%20true%7D%0A%20%20%20%20%20%20%20%20%20%20%20%20%29%3B%0A%20%20%20%20%20%20%20%20%0A%20%20%20%20%0A%20%20%20%20%20%20%20%20%20%20%20%20var%20marker_3653b60f29aa4c32b82ccd81d726de05%20%3D%20L.marker%28%0A%20%20%20%20%20%20%20%20%20%20%20%20%20%20%20%20%5B29.4193459%2C%20-98.4780456%5D%2C%0A%20%20%20%20%20%20%20%20%20%20%20%20%20%20%20%20%7B%7D%0A%20%20%20%20%20%20%20%20%20%20%20%20%29.addTo%28map_96d62e2a37a1423183b240110d8db5d0%29%3B%0A%20%20%20%20%20%20%20%20%0A%20%20%20%20%0A%20%20%20%20%20%20%20%20%20%20%20%20marker_3653b60f29aa4c32b82ccd81d726de05.bindTooltip%28%0A%20%20%20%20%20%20%20%20%20%20%20%20%20%20%20%20%60%3Cdiv%3E%0A%20%20%20%20%20%20%20%20%20%20%20%20%20%20%20%20%20%20%20%20%20ip%3A0%20%20%20%2097.105.19.58%0AName%3A%20ip%2C%20dtype%3A%20object%0A%20City%3A0%20%20%20%20San%20Antonio%20%28Downtown%29%0AName%3A%20city%2C%20dtype%3A%20object%0A%20%20%20%20%20%20%20%20%20%20%20%20%20%20%20%20%20%3C/div%3E%60%2C%0A%20%20%20%20%20%20%20%20%20%20%20%20%20%20%20%20%7B%22sticky%22%3A%20true%7D%0A%20%20%20%20%20%20%20%20%20%20%20%20%29%3B%0A%20%20%20%20%20%20%20%20%0A%20%20%20%20%0A%20%20%20%20%20%20%20%20%20%20%20%20var%20marker_2c09f5a33db6489d87cf7eb36ebb11c2%20%3D%20L.marker%28%0A%20%20%20%20%20%20%20%20%20%20%20%20%20%20%20%20%5B39.030019100000004%2C%20-77.46964646557657%5D%2C%0A%20%20%20%20%20%20%20%20%20%20%20%20%20%20%20%20%7B%7D%0A%20%20%20%20%20%20%20%20%20%20%20%20%29.addTo%28map_96d62e2a37a1423183b240110d8db5d0%29%3B%0A%20%20%20%20%20%20%20%20%0A%20%20%20%20%0A%20%20%20%20%20%20%20%20%20%20%20%20marker_2c09f5a33db6489d87cf7eb36ebb11c2.bindTooltip%28%0A%20%20%20%20%20%20%20%20%20%20%20%20%20%20%20%20%60%3Cdiv%3E%0A%20%20%20%20%20%20%20%20%20%20%20%20%20%20%20%20%20%20%20%20%20ip%3A1%20%20%20%203.92.201.136%0AName%3A%20ip%2C%20dtype%3A%20object%0A%20City%3A1%20%20%20%20Ashburn%0AName%3A%20city%2C%20dtype%3A%20object%0A%20%20%20%20%20%20%20%20%20%20%20%20%20%20%20%20%20%3C/div%3E%60%2C%0A%20%20%20%20%20%20%20%20%20%20%20%20%20%20%20%20%7B%22sticky%22%3A%20true%7D%0A%20%20%20%20%20%20%20%20%20%20%20%20%29%3B%0A%20%20%20%20%20%20%20%20%0A%20%20%20%20%0A%20%20%20%20%20%20%20%20%20%20%20%20var%20marker_97c49a496e7a43338e61795088c3e4a7%20%3D%20L.marker%28%0A%20%20%20%20%20%20%20%20%20%20%20%20%20%20%20%20%5B39.030019100000004%2C%20-77.46964646557657%5D%2C%0A%20%20%20%20%20%20%20%20%20%20%20%20%20%20%20%20%7B%7D%0A%20%20%20%20%20%20%20%20%20%20%20%20%29.addTo%28map_96d62e2a37a1423183b240110d8db5d0%29%3B%0A%20%20%20%20%20%20%20%20%0A%20%20%20%20%0A%20%20%20%20%20%20%20%20%20%20%20%20marker_97c49a496e7a43338e61795088c3e4a7.bindTooltip%28%0A%20%20%20%20%20%20%20%20%20%20%20%20%20%20%20%20%60%3Cdiv%3E%0A%20%20%20%20%20%20%20%20%20%20%20%20%20%20%20%20%20%20%20%20%20ip%3A2%20%20%20%2052.90.165.200%0AName%3A%20ip%2C%20dtype%3A%20object%0A%20City%3A2%20%20%20%20Ashburn%0AName%3A%20city%2C%20dtype%3A%20object%0A%20%20%20%20%20%20%20%20%20%20%20%20%20%20%20%20%20%3C/div%3E%60%2C%0A%20%20%20%20%20%20%20%20%20%20%20%20%20%20%20%20%7B%22sticky%22%3A%20true%7D%0A%20%20%20%20%20%20%20%20%20%20%20%20%29%3B%0A%20%20%20%20%20%20%20%20%0A%20%20%20%20%0A%20%20%20%20%20%20%20%20%20%20%20%20var%20marker_a85bb7c8368e4278aab7bab1d2e2331d%20%3D%20L.marker%28%0A%20%20%20%20%20%20%20%20%20%20%20%20%20%20%20%20%5B39.030019100000004%2C%20-77.46964646557657%5D%2C%0A%20%20%20%20%20%20%20%20%20%20%20%20%20%20%20%20%7B%7D%0A%20%20%20%20%20%20%20%20%20%20%20%20%29.addTo%28map_96d62e2a37a1423183b240110d8db5d0%29%3B%0A%20%20%20%20%20%20%20%20%0A%20%20%20%20%0A%20%20%20%20%20%20%20%20%20%20%20%20marker_a85bb7c8368e4278aab7bab1d2e2331d.bindTooltip%28%0A%20%20%20%20%20%20%20%20%20%20%20%20%20%20%20%20%60%3Cdiv%3E%0A%20%20%20%20%20%20%20%20%20%20%20%20%20%20%20%20%20%20%20%20%20ip%3A3%20%20%20%203.88.129.158%0AName%3A%20ip%2C%20dtype%3A%20object%0A%20City%3A3%20%20%20%20Ashburn%0AName%3A%20city%2C%20dtype%3A%20object%0A%20%20%20%20%20%20%20%20%20%20%20%20%20%20%20%20%20%3C/div%3E%60%2C%0A%20%20%20%20%20%20%20%20%20%20%20%20%20%20%20%20%7B%22sticky%22%3A%20true%7D%0A%20%20%20%20%20%20%20%20%20%20%20%20%29%3B%0A%20%20%20%20%20%20%20%20%0A%20%20%20%20%0A%20%20%20%20%20%20%20%20%20%20%20%20var%20marker_2c5486d012bd4dd1bfc6bfa0fe5ef4d8%20%3D%20L.marker%28%0A%20%20%20%20%20%20%20%20%20%20%20%20%20%20%20%20%5B39.030019100000004%2C%20-77.46964646557657%5D%2C%0A%20%20%20%20%20%20%20%20%20%20%20%20%20%20%20%20%7B%7D%0A%20%20%20%20%20%20%20%20%20%20%20%20%29.addTo%28map_96d62e2a37a1423183b240110d8db5d0%29%3B%0A%20%20%20%20%20%20%20%20%0A%20%20%20%20%0A%20%20%20%20%20%20%20%20%20%20%20%20marker_2c5486d012bd4dd1bfc6bfa0fe5ef4d8.bindTooltip%28%0A%20%20%20%20%20%20%20%20%20%20%20%20%20%20%20%20%60%3Cdiv%3E%0A%20%20%20%20%20%20%20%20%20%20%20%20%20%20%20%20%20%20%20%20%20ip%3A4%20%20%20%2034.207.64.242%0AName%3A%20ip%2C%20dtype%3A%20object%0A%20City%3A4%20%20%20%20Ashburn%0AName%3A%20city%2C%20dtype%3A%20object%0A%20%20%20%20%20%20%20%20%20%20%20%20%20%20%20%20%20%3C/div%3E%60%2C%0A%20%20%20%20%20%20%20%20%20%20%20%20%20%20%20%20%7B%22sticky%22%3A%20true%7D%0A%20%20%20%20%20%20%20%20%20%20%20%20%29%3B%0A%20%20%20%20%20%20%20%20%0A%20%20%20%20%0A%20%20%20%20%20%20%20%20%20%20%20%20var%20marker_75beeaaebbb24ea6ad2dc0a8c1c26061%20%3D%20L.marker%28%0A%20%20%20%20%20%20%20%20%20%20%20%20%20%20%20%20%5B39.030019100000004%2C%20-77.46964646557657%5D%2C%0A%20%20%20%20%20%20%20%20%20%20%20%20%20%20%20%20%7B%7D%0A%20%20%20%20%20%20%20%20%20%20%20%20%29.addTo%28map_96d62e2a37a1423183b240110d8db5d0%29%3B%0A%20%20%20%20%20%20%20%20%0A%20%20%20%20%0A%20%20%20%20%20%20%20%20%20%20%20%20marker_75beeaaebbb24ea6ad2dc0a8c1c26061.bindTooltip%28%0A%20%20%20%20%20%20%20%20%20%20%20%20%20%20%20%20%60%3Cdiv%3E%0A%20%20%20%20%20%20%20%20%20%20%20%20%20%20%20%20%20%20%20%20%20ip%3A5%20%20%20%2054.172.14.223%0AName%3A%20ip%2C%20dtype%3A%20object%0A%20City%3A5%20%20%20%20Ashburn%0AName%3A%20city%2C%20dtype%3A%20object%0A%20%20%20%20%20%20%20%20%20%20%20%20%20%20%20%20%20%3C/div%3E%60%2C%0A%20%20%20%20%20%20%20%20%20%20%20%20%20%20%20%20%7B%22sticky%22%3A%20true%7D%0A%20%20%20%20%20%20%20%20%20%20%20%20%29%3B%0A%20%20%20%20%20%20%20%20%0A%20%20%20%20%0A%20%20%20%20%20%20%20%20%20%20%20%20var%20marker_ddd2ac58e29a4d70ac614cc94fc5efca%20%3D%20L.marker%28%0A%20%20%20%20%20%20%20%20%20%20%20%20%20%20%20%20%5B39.030019100000004%2C%20-77.46964646557657%5D%2C%0A%20%20%20%20%20%20%20%20%20%20%20%20%20%20%20%20%7B%7D%0A%20%20%20%20%20%20%20%20%20%20%20%20%29.addTo%28map_96d62e2a37a1423183b240110d8db5d0%29%3B%0A%20%20%20%20%20%20%20%20%0A%20%20%20%20%0A%20%20%20%20%20%20%20%20%20%20%20%20marker_ddd2ac58e29a4d70ac614cc94fc5efca.bindTooltip%28%0A%20%20%20%20%20%20%20%20%20%20%20%20%20%20%20%20%60%3Cdiv%3E%0A%20%20%20%20%20%20%20%20%20%20%20%20%20%20%20%20%20%20%20%20%20ip%3A6%20%20%20%2034.229.70.250%0AName%3A%20ip%2C%20dtype%3A%20object%0A%20City%3A6%20%20%20%20Ashburn%0AName%3A%20city%2C%20dtype%3A%20object%0A%20%20%20%20%20%20%20%20%20%20%20%20%20%20%20%20%20%3C/div%3E%60%2C%0A%20%20%20%20%20%20%20%20%20%20%20%20%20%20%20%20%7B%22sticky%22%3A%20true%7D%0A%20%20%20%20%20%20%20%20%20%20%20%20%29%3B%0A%20%20%20%20%20%20%20%20%0A%20%20%20%20%0A%20%20%20%20%20%20%20%20%20%20%20%20var%20marker_6e200f56034f46ad871867c19fc35b84%20%3D%20L.marker%28%0A%20%20%20%20%20%20%20%20%20%20%20%20%20%20%20%20%5B39.030019100000004%2C%20-77.46964646557657%5D%2C%0A%20%20%20%20%20%20%20%20%20%20%20%20%20%20%20%20%7B%7D%0A%20%20%20%20%20%20%20%20%20%20%20%20%29.addTo%28map_96d62e2a37a1423183b240110d8db5d0%29%3B%0A%20%20%20%20%20%20%20%20%0A%20%20%20%20%0A%20%20%20%20%20%20%20%20%20%20%20%20marker_6e200f56034f46ad871867c19fc35b84.bindTooltip%28%0A%20%20%20%20%20%20%20%20%20%20%20%20%20%20%20%20%60%3Cdiv%3E%0A%20%20%20%20%20%20%20%20%20%20%20%20%20%20%20%20%20%20%20%20%20ip%3A7%20%20%20%2035.175.171.137%0AName%3A%20ip%2C%20dtype%3A%20object%0A%20City%3A7%20%20%20%20Ashburn%0AName%3A%20city%2C%20dtype%3A%20object%0A%20%20%20%20%20%20%20%20%20%20%20%20%20%20%20%20%20%3C/div%3E%60%2C%0A%20%20%20%20%20%20%20%20%20%20%20%20%20%20%20%20%7B%22sticky%22%3A%20true%7D%0A%20%20%20%20%20%20%20%20%20%20%20%20%29%3B%0A%20%20%20%20%20%20%20%20%0A%20%20%20%20%0A%20%20%20%20%20%20%20%20%20%20%20%20var%20marker_0589d25f4d3041fbaafadc519c16f7b8%20%3D%20L.marker%28%0A%20%20%20%20%20%20%20%20%20%20%20%20%20%20%20%20%5B39.030019100000004%2C%20-77.46964646557657%5D%2C%0A%20%20%20%20%20%20%20%20%20%20%20%20%20%20%20%20%7B%7D%0A%20%20%20%20%20%20%20%20%20%20%20%20%29.addTo%28map_96d62e2a37a1423183b240110d8db5d0%29%3B%0A%20%20%20%20%20%20%20%20%0A%20%20%20%20%0A%20%20%20%20%20%20%20%20%20%20%20%20marker_0589d25f4d3041fbaafadc519c16f7b8.bindTooltip%28%0A%20%20%20%20%20%20%20%20%20%20%20%20%20%20%20%20%60%3Cdiv%3E%0A%20%20%20%20%20%20%20%20%20%20%20%20%20%20%20%20%20%20%20%20%20ip%3A8%20%20%20%2054.145.52.184%0AName%3A%20ip%2C%20dtype%3A%20object%0A%20City%3A8%20%20%20%20Ashburn%0AName%3A%20city%2C%20dtype%3A%20object%0A%20%20%20%20%20%20%20%20%20%20%20%20%20%20%20%20%20%3C/div%3E%60%2C%0A%20%20%20%20%20%20%20%20%20%20%20%20%20%20%20%20%7B%22sticky%22%3A%20true%7D%0A%20%20%20%20%20%20%20%20%20%20%20%20%29%3B%0A%20%20%20%20%20%20%20%20%0A%20%20%20%20%0A%20%20%20%20%20%20%20%20%20%20%20%20var%20marker_ca0b5df0163d4ed591aeb1c8da576d50%20%3D%20L.marker%28%0A%20%20%20%20%20%20%20%20%20%20%20%20%20%20%20%20%5B39.030019100000004%2C%20-77.46964646557657%5D%2C%0A%20%20%20%20%20%20%20%20%20%20%20%20%20%20%20%20%7B%7D%0A%20%20%20%20%20%20%20%20%20%20%20%20%29.addTo%28map_96d62e2a37a1423183b240110d8db5d0%29%3B%0A%20%20%20%20%20%20%20%20%0A%20%20%20%20%0A%20%20%20%20%20%20%20%20%20%20%20%20marker_ca0b5df0163d4ed591aeb1c8da576d50.bindTooltip%28%0A%20%20%20%20%20%20%20%20%20%20%20%20%20%20%20%20%60%3Cdiv%3E%0A%20%20%20%20%20%20%20%20%20%20%20%20%20%20%20%20%20%20%20%20%20ip%3A9%20%20%20%2052.87.230.102%0AName%3A%20ip%2C%20dtype%3A%20object%0A%20City%3A9%20%20%20%20Ashburn%0AName%3A%20city%2C%20dtype%3A%20object%0A%20%20%20%20%20%20%20%20%20%20%20%20%20%20%20%20%20%3C/div%3E%60%2C%0A%20%20%20%20%20%20%20%20%20%20%20%20%20%20%20%20%7B%22sticky%22%3A%20true%7D%0A%20%20%20%20%20%20%20%20%20%20%20%20%29%3B%0A%20%20%20%20%20%20%20%20%0A%20%20%20%20%0A%20%20%20%20%20%20%20%20%20%20%20%20var%20marker_1940339338f74643a3e969e2586f522b%20%3D%20L.marker%28%0A%20%20%20%20%20%20%20%20%20%20%20%20%20%20%20%20%5B39.030019100000004%2C%20-77.46964646557657%5D%2C%0A%20%20%20%20%20%20%20%20%20%20%20%20%20%20%20%20%7B%7D%0A%20%20%20%20%20%20%20%20%20%20%20%20%29.addTo%28map_96d62e2a37a1423183b240110d8db5d0%29%3B%0A%20%20%20%20%20%20%20%20%0A%20%20%20%20%0A%20%20%20%20%20%20%20%20%20%20%20%20marker_1940339338f74643a3e969e2586f522b.bindTooltip%28%0A%20%20%20%20%20%20%20%20%20%20%20%20%20%20%20%20%60%3Cdiv%3E%0A%20%20%20%20%20%20%20%20%20%20%20%20%20%20%20%20%20%20%20%20%20ip%3A10%20%20%20%2035.174.209.2%0AName%3A%20ip%2C%20dtype%3A%20object%0A%20City%3A10%20%20%20%20Ashburn%0AName%3A%20city%2C%20dtype%3A%20object%0A%20%20%20%20%20%20%20%20%20%20%20%20%20%20%20%20%20%3C/div%3E%60%2C%0A%20%20%20%20%20%20%20%20%20%20%20%20%20%20%20%20%7B%22sticky%22%3A%20true%7D%0A%20%20%20%20%20%20%20%20%20%20%20%20%29%3B%0A%20%20%20%20%20%20%20%20%0A%20%20%20%20%0A%20%20%20%20%20%20%20%20%20%20%20%20var%20marker_9dee5cc52d594f3b928d13469f6ecfc2%20%3D%20L.marker%28%0A%20%20%20%20%20%20%20%20%20%20%20%20%20%20%20%20%5B29.4246002%2C%20-98.4951405%5D%2C%0A%20%20%20%20%20%20%20%20%20%20%20%20%20%20%20%20%7B%7D%0A%20%20%20%20%20%20%20%20%20%20%20%20%29.addTo%28map_96d62e2a37a1423183b240110d8db5d0%29%3B%0A%20%20%20%20%20%20%20%20%0A%20%20%20%20%0A%20%20%20%20%20%20%20%20%20%20%20%20marker_9dee5cc52d594f3b928d13469f6ecfc2.bindTooltip%28%0A%20%20%20%20%20%20%20%20%20%20%20%20%20%20%20%20%60%3Cdiv%3E%0A%20%20%20%20%20%20%20%20%20%20%20%20%20%20%20%20%20%20%20%20%20ip%3A11%20%20%20%2072.181.105.81%0AName%3A%20ip%2C%20dtype%3A%20object%0A%20City%3A11%20%20%20%20San%20Antonio%0AName%3A%20city%2C%20dtype%3A%20object%0A%20%20%20%20%20%20%20%20%20%20%20%20%20%20%20%20%20%3C/div%3E%60%2C%0A%20%20%20%20%20%20%20%20%20%20%20%20%20%20%20%20%7B%22sticky%22%3A%20true%7D%0A%20%20%20%20%20%20%20%20%20%20%20%20%29%3B%0A%20%20%20%20%20%20%20%20%0A%20%20%20%20%0A%20%20%20%20%20%20%20%20%20%20%20%20var%20marker_dbf130235b5e47acb40911020681564f%20%3D%20L.marker%28%0A%20%20%20%20%20%20%20%20%20%20%20%20%20%20%20%20%5B33.9014063%2C%20-94.8297388%5D%2C%0A%20%20%20%20%20%20%20%20%20%20%20%20%20%20%20%20%7B%7D%0A%20%20%20%20%20%20%20%20%20%20%20%20%29.addTo%28map_96d62e2a37a1423183b240110d8db5d0%29%3B%0A%20%20%20%20%20%20%20%20%0A%20%20%20%20%0A%20%20%20%20%20%20%20%20%20%20%20%20marker_dbf130235b5e47acb40911020681564f.bindTooltip%28%0A%20%20%20%20%20%20%20%20%20%20%20%20%20%20%20%20%60%3Cdiv%3E%0A%20%20%20%20%20%20%20%20%20%20%20%20%20%20%20%20%20%20%20%20%20ip%3A12%20%20%20%2070.121.214.34%0AName%3A%20ip%2C%20dtype%3A%20object%0A%20City%3A12%20%20%20%20San%20Antonio%20%28North%20Central%29%0AName%3A%20city%2C%20dtype%3A%20object%0A%20%20%20%20%20%20%20%20%20%20%20%20%20%20%20%20%20%3C/div%3E%60%2C%0A%20%20%20%20%20%20%20%20%20%20%20%20%20%20%20%20%7B%22sticky%22%3A%20true%7D%0A%20%20%20%20%20%20%20%20%20%20%20%20%29%3B%0A%20%20%20%20%20%20%20%20%0A%20%20%20%20%0A%20%20%20%20%20%20%20%20%20%20%20%20var%20marker_301ae938a55c4af188de403983d8119a%20%3D%20L.marker%28%0A%20%20%20%20%20%20%20%20%20%20%20%20%20%20%20%20%5B29.4246002%2C%20-98.4951405%5D%2C%0A%20%20%20%20%20%20%20%20%20%20%20%20%20%20%20%20%7B%7D%0A%20%20%20%20%20%20%20%20%20%20%20%20%29.addTo%28map_96d62e2a37a1423183b240110d8db5d0%29%3B%0A%20%20%20%20%20%20%20%20%0A%20%20%20%20%0A%20%20%20%20%20%20%20%20%20%20%20%20marker_301ae938a55c4af188de403983d8119a.bindTooltip%28%0A%20%20%20%20%20%20%20%20%20%20%20%20%20%20%20%20%60%3Cdiv%3E%0A%20%20%20%20%20%20%20%20%20%20%20%20%20%20%20%20%20%20%20%20%20ip%3A13%20%20%20%2068.201.219.223%0AName%3A%20ip%2C%20dtype%3A%20object%0A%20City%3A13%20%20%20%20San%20Antonio%0AName%3A%20city%2C%20dtype%3A%20object%0A%20%20%20%20%20%20%20%20%20%20%20%20%20%20%20%20%20%3C/div%3E%60%2C%0A%20%20%20%20%20%20%20%20%20%20%20%20%20%20%20%20%7B%22sticky%22%3A%20true%7D%0A%20%20%20%20%20%20%20%20%20%20%20%20%29%3B%0A%20%20%20%20%20%20%20%20%0A%20%20%20%20%0A%20%20%20%20%20%20%20%20%20%20%20%20var%20marker_169f31ff6bc242d0b55cfcdf0b1cb907%20%3D%20L.marker%28%0A%20%20%20%20%20%20%20%20%20%20%20%20%20%20%20%20%5B29.4246002%2C%20-98.4951405%5D%2C%0A%20%20%20%20%20%20%20%20%20%20%20%20%20%20%20%20%7B%7D%0A%20%20%20%20%20%20%20%20%20%20%20%20%29.addTo%28map_96d62e2a37a1423183b240110d8db5d0%29%3B%0A%20%20%20%20%20%20%20%20%0A%20%20%20%20%0A%20%20%20%20%20%20%20%20%20%20%20%20marker_169f31ff6bc242d0b55cfcdf0b1cb907.bindTooltip%28%0A%20%20%20%20%20%20%20%20%20%20%20%20%20%20%20%20%60%3Cdiv%3E%0A%20%20%20%20%20%20%20%20%20%20%20%20%20%20%20%20%20%20%20%20%20ip%3A14%20%20%20%20173.173.113.51%0AName%3A%20ip%2C%20dtype%3A%20object%0A%20City%3A14%20%20%20%20San%20Antonio%0AName%3A%20city%2C%20dtype%3A%20object%0A%20%20%20%20%20%20%20%20%20%20%20%20%20%20%20%20%20%3C/div%3E%60%2C%0A%20%20%20%20%20%20%20%20%20%20%20%20%20%20%20%20%7B%22sticky%22%3A%20true%7D%0A%20%20%20%20%20%20%20%20%20%20%20%20%29%3B%0A%20%20%20%20%20%20%20%20%0A%20%20%20%20%0A%20%20%20%20%20%20%20%20%20%20%20%20var%20marker_0e6b6941adce49c4a71ba0b97efe81a2%20%3D%20L.marker%28%0A%20%20%20%20%20%20%20%20%20%20%20%20%20%20%20%20%5B29.4246002%2C%20-98.4951405%5D%2C%0A%20%20%20%20%20%20%20%20%20%20%20%20%20%20%20%20%7B%7D%0A%20%20%20%20%20%20%20%20%20%20%20%20%29.addTo%28map_96d62e2a37a1423183b240110d8db5d0%29%3B%0A%20%20%20%20%20%20%20%20%0A%20%20%20%20%0A%20%20%20%20%20%20%20%20%20%20%20%20marker_0e6b6941adce49c4a71ba0b97efe81a2.bindTooltip%28%0A%20%20%20%20%20%20%20%20%20%20%20%20%20%20%20%20%60%3Cdiv%3E%0A%20%20%20%20%20%20%20%20%20%20%20%20%20%20%20%20%20%20%20%20%20ip%3A15%20%20%20%2072.181.113.170%0AName%3A%20ip%2C%20dtype%3A%20object%0A%20City%3A15%20%20%20%20San%20Antonio%0AName%3A%20city%2C%20dtype%3A%20object%0A%20%20%20%20%20%20%20%20%20%20%20%20%20%20%20%20%20%3C/div%3E%60%2C%0A%20%20%20%20%20%20%20%20%20%20%20%20%20%20%20%20%7B%22sticky%22%3A%20true%7D%0A%20%20%20%20%20%20%20%20%20%20%20%20%29%3B%0A%20%20%20%20%20%20%20%20%0A%20%20%20%20%0A%20%20%20%20%20%20%20%20%20%20%20%20var%20marker_d1868c8ffa5e499d85535f5c6e1d2e5f%20%3D%20L.marker%28%0A%20%20%20%20%20%20%20%20%20%20%20%20%20%20%20%20%5B39.030019100000004%2C%20-77.46964646557657%5D%2C%0A%20%20%20%20%20%20%20%20%20%20%20%20%20%20%20%20%7B%7D%0A%20%20%20%20%20%20%20%20%20%20%20%20%29.addTo%28map_96d62e2a37a1423183b240110d8db5d0%29%3B%0A%20%20%20%20%20%20%20%20%0A%20%20%20%20%0A%20%20%20%20%20%20%20%20%20%20%20%20marker_d1868c8ffa5e499d85535f5c6e1d2e5f.bindTooltip%28%0A%20%20%20%20%20%20%20%20%20%20%20%20%20%20%20%20%60%3Cdiv%3E%0A%20%20%20%20%20%20%20%20%20%20%20%20%20%20%20%20%20%20%20%20%20ip%3A16%20%20%20%2052.91.30.150%0AName%3A%20ip%2C%20dtype%3A%20object%0A%20City%3A16%20%20%20%20Ashburn%0AName%3A%20city%2C%20dtype%3A%20object%0A%20%20%20%20%20%20%20%20%20%20%20%20%20%20%20%20%20%3C/div%3E%60%2C%0A%20%20%20%20%20%20%20%20%20%20%20%20%20%20%20%20%7B%22sticky%22%3A%20true%7D%0A%20%20%20%20%20%20%20%20%20%20%20%20%29%3B%0A%20%20%20%20%20%20%20%20%0A%20%20%20%20%0A%20%20%20%20%20%20%20%20%20%20%20%20var%20marker_4432ba835fcd4decbccd7f6ce3a35218%20%3D%20L.marker%28%0A%20%20%20%20%20%20%20%20%20%20%20%20%20%20%20%20%5B29.4246002%2C%20-98.4951405%5D%2C%0A%20%20%20%20%20%20%20%20%20%20%20%20%20%20%20%20%7B%7D%0A%20%20%20%20%20%20%20%20%20%20%20%20%29.addTo%28map_96d62e2a37a1423183b240110d8db5d0%29%3B%0A%20%20%20%20%20%20%20%20%0A%20%20%20%20%0A%20%20%20%20%20%20%20%20%20%20%20%20marker_4432ba835fcd4decbccd7f6ce3a35218.bindTooltip%28%0A%20%20%20%20%20%20%20%20%20%20%20%20%20%20%20%20%60%3Cdiv%3E%0A%20%20%20%20%20%20%20%20%20%20%20%20%20%20%20%20%20%20%20%20%20ip%3A17%20%20%20%2024.26.242.9%0AName%3A%20ip%2C%20dtype%3A%20object%0A%20City%3A17%20%20%20%20San%20Antonio%0AName%3A%20city%2C%20dtype%3A%20object%0A%20%20%20%20%20%20%20%20%20%20%20%20%20%20%20%20%20%3C/div%3E%60%2C%0A%20%20%20%20%20%20%20%20%20%20%20%20%20%20%20%20%7B%22sticky%22%3A%20true%7D%0A%20%20%20%20%20%20%20%20%20%20%20%20%29%3B%0A%20%20%20%20%20%20%20%20%0A%20%20%20%20%0A%20%20%20%20%20%20%20%20%20%20%20%20var%20marker_e857d8ff381d43c78cab922a0d47d7a5%20%3D%20L.marker%28%0A%20%20%20%20%20%20%20%20%20%20%20%20%20%20%20%20%5B29.4246002%2C%20-98.4951405%5D%2C%0A%20%20%20%20%20%20%20%20%20%20%20%20%20%20%20%20%7B%7D%0A%20%20%20%20%20%20%20%20%20%20%20%20%29.addTo%28map_96d62e2a37a1423183b240110d8db5d0%29%3B%0A%20%20%20%20%20%20%20%20%0A%20%20%20%20%0A%20%20%20%20%20%20%20%20%20%20%20%20marker_e857d8ff381d43c78cab922a0d47d7a5.bindTooltip%28%0A%20%20%20%20%20%20%20%20%20%20%20%20%20%20%20%20%60%3Cdiv%3E%0A%20%20%20%20%20%20%20%20%20%20%20%20%20%20%20%20%20%20%20%20%20ip%3A18%20%20%20%2045.23.250.16%0AName%3A%20ip%2C%20dtype%3A%20object%0A%20City%3A18%20%20%20%20San%20Antonio%0AName%3A%20city%2C%20dtype%3A%20object%0A%20%20%20%20%20%20%20%20%20%20%20%20%20%20%20%20%20%3C/div%3E%60%2C%0A%20%20%20%20%20%20%20%20%20%20%20%20%20%20%20%20%7B%22sticky%22%3A%20true%7D%0A%20%20%20%20%20%20%20%20%20%20%20%20%29%3B%0A%20%20%20%20%20%20%20%20%0A%20%20%20%20%0A%20%20%20%20%20%20%20%20%20%20%20%20var%20marker_487957e2e34c406897cc3bccd5ee44f9%20%3D%20L.marker%28%0A%20%20%20%20%20%20%20%20%20%20%20%20%20%20%20%20%5B55.751244%2C%2037.618423%5D%2C%0A%20%20%20%20%20%20%20%20%20%20%20%20%20%20%20%20%7B%7D%0A%20%20%20%20%20%20%20%20%20%20%20%20%29.addTo%28map_96d62e2a37a1423183b240110d8db5d0%29%3B%0A%20%20%20%20%20%20%20%20%0A%20%20%20%20%0A%20%20%20%20%20%20%20%20%20%20%20%20marker_487957e2e34c406897cc3bccd5ee44f9.bindTooltip%28%0A%20%20%20%20%20%20%20%20%20%20%20%20%20%20%20%20%60%3Cdiv%3E%0A%20%20%20%20%20%20%20%20%20%20%20%20%20%20%20%20%20%20%20%20%20ip%3A19%20%20%20%2095.31.18.119%0AName%3A%20ip%2C%20dtype%3A%20object%0A%20City%3A19%20%20%20%20Moscow%20%28Tsentralnyy%20administrativnyy%20okrug%29%0AName%3A%20city%2C%20dtype%3A%20object%0A%20%20%20%20%20%20%20%20%20%20%20%20%20%20%20%20%20%3C/div%3E%60%2C%0A%20%20%20%20%20%20%20%20%20%20%20%20%20%20%20%20%7B%22sticky%22%3A%20true%7D%0A%20%20%20%20%20%20%20%20%20%20%20%20%29%3B%0A%20%20%20%20%20%20%20%20%0A%20%20%20%20%0A%20%20%20%20%20%20%20%20%20%20%20%20var%20marker_5fd97a49c5324490bb0536b200be028c%20%3D%20L.marker%28%0A%20%20%20%20%20%20%20%20%20%20%20%20%20%20%20%20%5B55.751244%2C%2037.618423%5D%2C%0A%20%20%20%20%20%20%20%20%20%20%20%20%20%20%20%20%7B%7D%0A%20%20%20%20%20%20%20%20%20%20%20%20%29.addTo%28map_96d62e2a37a1423183b240110d8db5d0%29%3B%0A%20%20%20%20%20%20%20%20%0A%20%20%20%20%0A%20%20%20%20%20%20%20%20%20%20%20%20marker_5fd97a49c5324490bb0536b200be028c.bindTooltip%28%0A%20%20%20%20%20%20%20%20%20%20%20%20%20%20%20%20%60%3Cdiv%3E%0A%20%20%20%20%20%20%20%20%20%20%20%20%20%20%20%20%20%20%20%20%20ip%3A20%20%20%20%2095.31.16.121%0AName%3A%20ip%2C%20dtype%3A%20object%0A%20City%3A20%20%20%20%20Moscow%20%28Tsentralnyy%20administrativnyy%20okrug%29%0AName%3A%20city%2C%20dtype%3A%20object%0A%20%20%20%20%20%20%20%20%20%20%20%20%20%20%20%20%20%3C/div%3E%60%2C%0A%20%20%20%20%20%20%20%20%20%20%20%20%20%20%20%20%7B%22sticky%22%3A%20true%7D%0A%20%20%20%20%20%20%20%20%20%20%20%20%29%3B%0A%20%20%20%20%20%20%20%20%0A%20%20%20%20%0A%20%20%20%20%20%20%20%20%20%20%20%20var%20marker_ed1e1ae9a2e44c6eaa873642c2fa4a2c%20%3D%20L.marker%28%0A%20%20%20%20%20%20%20%20%20%20%20%20%20%20%20%20%5B30.2711286%2C%20-97.7436995%5D%2C%0A%20%20%20%20%20%20%20%20%20%20%20%20%20%20%20%20%7B%7D%0A%20%20%20%20%20%20%20%20%20%20%20%20%29.addTo%28map_96d62e2a37a1423183b240110d8db5d0%29%3B%0A%20%20%20%20%20%20%20%20%0A%20%20%20%20%0A%20%20%20%20%20%20%20%20%20%20%20%20marker_ed1e1ae9a2e44c6eaa873642c2fa4a2c.bindTooltip%28%0A%20%20%20%20%20%20%20%20%20%20%20%20%20%20%20%20%60%3Cdiv%3E%0A%20%20%20%20%20%20%20%20%20%20%20%20%20%20%20%20%20%20%20%20%20ip%3A21%20%20%20%2097.105.15.120%0AName%3A%20ip%2C%20dtype%3A%20object%0A%20City%3A21%20%20%20%20Austin%0AName%3A%20city%2C%20dtype%3A%20object%0A%20%20%20%20%20%20%20%20%20%20%20%20%20%20%20%20%20%3C/div%3E%60%2C%0A%20%20%20%20%20%20%20%20%20%20%20%20%20%20%20%20%7B%22sticky%22%3A%20true%7D%0A%20%20%20%20%20%20%20%20%20%20%20%20%29%3B%0A%20%20%20%20%20%20%20%20%0A%20%20%20%20%0A%20%20%20%20%20%20%20%20%20%20%20%20var%20marker_41c396b502bf468ea94a57dde154ab92%20%3D%20L.marker%28%0A%20%20%20%20%20%20%20%20%20%20%20%20%20%20%20%20%5B29.4193459%2C%20-98.4780456%5D%2C%0A%20%20%20%20%20%20%20%20%20%20%20%20%20%20%20%20%7B%7D%0A%20%20%20%20%20%20%20%20%20%20%20%20%29.addTo%28map_96d62e2a37a1423183b240110d8db5d0%29%3B%0A%20%20%20%20%20%20%20%20%0A%20%20%20%20%0A%20%20%20%20%20%20%20%20%20%20%20%20marker_41c396b502bf468ea94a57dde154ab92.bindTooltip%28%0A%20%20%20%20%20%20%20%20%20%20%20%20%20%20%20%20%60%3Cdiv%3E%0A%20%20%20%20%20%20%20%20%20%20%20%20%20%20%20%20%20%20%20%20%20ip%3A0%20%20%20%2097.105.19.58%0AName%3A%20ip%2C%20dtype%3A%20object%0A%20City%3A0%20%20%20%20San%20Antonio%20%28Downtown%29%0AName%3A%20city%2C%20dtype%3A%20object%0A%20%20%20%20%20%20%20%20%20%20%20%20%20%20%20%20%20%3C/div%3E%60%2C%0A%20%20%20%20%20%20%20%20%20%20%20%20%20%20%20%20%7B%22sticky%22%3A%20true%7D%0A%20%20%20%20%20%20%20%20%20%20%20%20%29%3B%0A%20%20%20%20%20%20%20%20%0A%20%20%20%20%0A%20%20%20%20%20%20%20%20%20%20%20%20var%20marker_4f8a3116a01a405a805294c13819b77b%20%3D%20L.marker%28%0A%20%20%20%20%20%20%20%20%20%20%20%20%20%20%20%20%5B39.030019100000004%2C%20-77.46964646557657%5D%2C%0A%20%20%20%20%20%20%20%20%20%20%20%20%20%20%20%20%7B%7D%0A%20%20%20%20%20%20%20%20%20%20%20%20%29.addTo%28map_96d62e2a37a1423183b240110d8db5d0%29%3B%0A%20%20%20%20%20%20%20%20%0A%20%20%20%20%0A%20%20%20%20%20%20%20%20%20%20%20%20marker_4f8a3116a01a405a805294c13819b77b.bindTooltip%28%0A%20%20%20%20%20%20%20%20%20%20%20%20%20%20%20%20%60%3Cdiv%3E%0A%20%20%20%20%20%20%20%20%20%20%20%20%20%20%20%20%20%20%20%20%20ip%3A1%20%20%20%203.92.201.136%0AName%3A%20ip%2C%20dtype%3A%20object%0A%20City%3A1%20%20%20%20Ashburn%0AName%3A%20city%2C%20dtype%3A%20object%0A%20%20%20%20%20%20%20%20%20%20%20%20%20%20%20%20%20%3C/div%3E%60%2C%0A%20%20%20%20%20%20%20%20%20%20%20%20%20%20%20%20%7B%22sticky%22%3A%20true%7D%0A%20%20%20%20%20%20%20%20%20%20%20%20%29%3B%0A%20%20%20%20%20%20%20%20%0A%20%20%20%20%0A%20%20%20%20%20%20%20%20%20%20%20%20var%20marker_a2fb3e9497624033995cd9afc0bc3318%20%3D%20L.marker%28%0A%20%20%20%20%20%20%20%20%20%20%20%20%20%20%20%20%5B39.030019100000004%2C%20-77.46964646557657%5D%2C%0A%20%20%20%20%20%20%20%20%20%20%20%20%20%20%20%20%7B%7D%0A%20%20%20%20%20%20%20%20%20%20%20%20%29.addTo%28map_96d62e2a37a1423183b240110d8db5d0%29%3B%0A%20%20%20%20%20%20%20%20%0A%20%20%20%20%0A%20%20%20%20%20%20%20%20%20%20%20%20marker_a2fb3e9497624033995cd9afc0bc3318.bindTooltip%28%0A%20%20%20%20%20%20%20%20%20%20%20%20%20%20%20%20%60%3Cdiv%3E%0A%20%20%20%20%20%20%20%20%20%20%20%20%20%20%20%20%20%20%20%20%20ip%3A2%20%20%20%2052.90.165.200%0AName%3A%20ip%2C%20dtype%3A%20object%0A%20City%3A2%20%20%20%20Ashburn%0AName%3A%20city%2C%20dtype%3A%20object%0A%20%20%20%20%20%20%20%20%20%20%20%20%20%20%20%20%20%3C/div%3E%60%2C%0A%20%20%20%20%20%20%20%20%20%20%20%20%20%20%20%20%7B%22sticky%22%3A%20true%7D%0A%20%20%20%20%20%20%20%20%20%20%20%20%29%3B%0A%20%20%20%20%20%20%20%20%0A%20%20%20%20%0A%20%20%20%20%20%20%20%20%20%20%20%20var%20marker_939653b3b90e422c9747543501ccc7c5%20%3D%20L.marker%28%0A%20%20%20%20%20%20%20%20%20%20%20%20%20%20%20%20%5B39.030019100000004%2C%20-77.46964646557657%5D%2C%0A%20%20%20%20%20%20%20%20%20%20%20%20%20%20%20%20%7B%7D%0A%20%20%20%20%20%20%20%20%20%20%20%20%29.addTo%28map_96d62e2a37a1423183b240110d8db5d0%29%3B%0A%20%20%20%20%20%20%20%20%0A%20%20%20%20%0A%20%20%20%20%20%20%20%20%20%20%20%20marker_939653b3b90e422c9747543501ccc7c5.bindTooltip%28%0A%20%20%20%20%20%20%20%20%20%20%20%20%20%20%20%20%60%3Cdiv%3E%0A%20%20%20%20%20%20%20%20%20%20%20%20%20%20%20%20%20%20%20%20%20ip%3A3%20%20%20%203.88.129.158%0AName%3A%20ip%2C%20dtype%3A%20object%0A%20City%3A3%20%20%20%20Ashburn%0AName%3A%20city%2C%20dtype%3A%20object%0A%20%20%20%20%20%20%20%20%20%20%20%20%20%20%20%20%20%3C/div%3E%60%2C%0A%20%20%20%20%20%20%20%20%20%20%20%20%20%20%20%20%7B%22sticky%22%3A%20true%7D%0A%20%20%20%20%20%20%20%20%20%20%20%20%29%3B%0A%20%20%20%20%20%20%20%20%0A%20%20%20%20%0A%20%20%20%20%20%20%20%20%20%20%20%20var%20marker_6441ce1878f341a1a1282c50ea4a07b8%20%3D%20L.marker%28%0A%20%20%20%20%20%20%20%20%20%20%20%20%20%20%20%20%5B39.030019100000004%2C%20-77.46964646557657%5D%2C%0A%20%20%20%20%20%20%20%20%20%20%20%20%20%20%20%20%7B%7D%0A%20%20%20%20%20%20%20%20%20%20%20%20%29.addTo%28map_96d62e2a37a1423183b240110d8db5d0%29%3B%0A%20%20%20%20%20%20%20%20%0A%20%20%20%20%0A%20%20%20%20%20%20%20%20%20%20%20%20marker_6441ce1878f341a1a1282c50ea4a07b8.bindTooltip%28%0A%20%20%20%20%20%20%20%20%20%20%20%20%20%20%20%20%60%3Cdiv%3E%0A%20%20%20%20%20%20%20%20%20%20%20%20%20%20%20%20%20%20%20%20%20ip%3A4%20%20%20%2034.207.64.242%0AName%3A%20ip%2C%20dtype%3A%20object%0A%20City%3A4%20%20%20%20Ashburn%0AName%3A%20city%2C%20dtype%3A%20object%0A%20%20%20%20%20%20%20%20%20%20%20%20%20%20%20%20%20%3C/div%3E%60%2C%0A%20%20%20%20%20%20%20%20%20%20%20%20%20%20%20%20%7B%22sticky%22%3A%20true%7D%0A%20%20%20%20%20%20%20%20%20%20%20%20%29%3B%0A%20%20%20%20%20%20%20%20%0A%20%20%20%20%0A%20%20%20%20%20%20%20%20%20%20%20%20var%20marker_16959e5c7a17416aa391b233533f8741%20%3D%20L.marker%28%0A%20%20%20%20%20%20%20%20%20%20%20%20%20%20%20%20%5B39.030019100000004%2C%20-77.46964646557657%5D%2C%0A%20%20%20%20%20%20%20%20%20%20%20%20%20%20%20%20%7B%7D%0A%20%20%20%20%20%20%20%20%20%20%20%20%29.addTo%28map_96d62e2a37a1423183b240110d8db5d0%29%3B%0A%20%20%20%20%20%20%20%20%0A%20%20%20%20%0A%20%20%20%20%20%20%20%20%20%20%20%20marker_16959e5c7a17416aa391b233533f8741.bindTooltip%28%0A%20%20%20%20%20%20%20%20%20%20%20%20%20%20%20%20%60%3Cdiv%3E%0A%20%20%20%20%20%20%20%20%20%20%20%20%20%20%20%20%20%20%20%20%20ip%3A5%20%20%20%2054.172.14.223%0AName%3A%20ip%2C%20dtype%3A%20object%0A%20City%3A5%20%20%20%20Ashburn%0AName%3A%20city%2C%20dtype%3A%20object%0A%20%20%20%20%20%20%20%20%20%20%20%20%20%20%20%20%20%3C/div%3E%60%2C%0A%20%20%20%20%20%20%20%20%20%20%20%20%20%20%20%20%7B%22sticky%22%3A%20true%7D%0A%20%20%20%20%20%20%20%20%20%20%20%20%29%3B%0A%20%20%20%20%20%20%20%20%0A%20%20%20%20%0A%20%20%20%20%20%20%20%20%20%20%20%20var%20marker_c118c6c2ce46497fb133bdf324544d46%20%3D%20L.marker%28%0A%20%20%20%20%20%20%20%20%20%20%20%20%20%20%20%20%5B39.030019100000004%2C%20-77.46964646557657%5D%2C%0A%20%20%20%20%20%20%20%20%20%20%20%20%20%20%20%20%7B%7D%0A%20%20%20%20%20%20%20%20%20%20%20%20%29.addTo%28map_96d62e2a37a1423183b240110d8db5d0%29%3B%0A%20%20%20%20%20%20%20%20%0A%20%20%20%20%0A%20%20%20%20%20%20%20%20%20%20%20%20marker_c118c6c2ce46497fb133bdf324544d46.bindTooltip%28%0A%20%20%20%20%20%20%20%20%20%20%20%20%20%20%20%20%60%3Cdiv%3E%0A%20%20%20%20%20%20%20%20%20%20%20%20%20%20%20%20%20%20%20%20%20ip%3A6%20%20%20%2034.229.70.250%0AName%3A%20ip%2C%20dtype%3A%20object%0A%20City%3A6%20%20%20%20Ashburn%0AName%3A%20city%2C%20dtype%3A%20object%0A%20%20%20%20%20%20%20%20%20%20%20%20%20%20%20%20%20%3C/div%3E%60%2C%0A%20%20%20%20%20%20%20%20%20%20%20%20%20%20%20%20%7B%22sticky%22%3A%20true%7D%0A%20%20%20%20%20%20%20%20%20%20%20%20%29%3B%0A%20%20%20%20%20%20%20%20%0A%20%20%20%20%0A%20%20%20%20%20%20%20%20%20%20%20%20var%20marker_997e1d186feb41ee855bc222508d2c97%20%3D%20L.marker%28%0A%20%20%20%20%20%20%20%20%20%20%20%20%20%20%20%20%5B39.030019100000004%2C%20-77.46964646557657%5D%2C%0A%20%20%20%20%20%20%20%20%20%20%20%20%20%20%20%20%7B%7D%0A%20%20%20%20%20%20%20%20%20%20%20%20%29.addTo%28map_96d62e2a37a1423183b240110d8db5d0%29%3B%0A%20%20%20%20%20%20%20%20%0A%20%20%20%20%0A%20%20%20%20%20%20%20%20%20%20%20%20marker_997e1d186feb41ee855bc222508d2c97.bindTooltip%28%0A%20%20%20%20%20%20%20%20%20%20%20%20%20%20%20%20%60%3Cdiv%3E%0A%20%20%20%20%20%20%20%20%20%20%20%20%20%20%20%20%20%20%20%20%20ip%3A7%20%20%20%2035.175.171.137%0AName%3A%20ip%2C%20dtype%3A%20object%0A%20City%3A7%20%20%20%20Ashburn%0AName%3A%20city%2C%20dtype%3A%20object%0A%20%20%20%20%20%20%20%20%20%20%20%20%20%20%20%20%20%3C/div%3E%60%2C%0A%20%20%20%20%20%20%20%20%20%20%20%20%20%20%20%20%7B%22sticky%22%3A%20true%7D%0A%20%20%20%20%20%20%20%20%20%20%20%20%29%3B%0A%20%20%20%20%20%20%20%20%0A%20%20%20%20%0A%20%20%20%20%20%20%20%20%20%20%20%20var%20marker_a5872a1e8ea4485596f25a03ca2ab6c5%20%3D%20L.marker%28%0A%20%20%20%20%20%20%20%20%20%20%20%20%20%20%20%20%5B39.030019100000004%2C%20-77.46964646557657%5D%2C%0A%20%20%20%20%20%20%20%20%20%20%20%20%20%20%20%20%7B%7D%0A%20%20%20%20%20%20%20%20%20%20%20%20%29.addTo%28map_96d62e2a37a1423183b240110d8db5d0%29%3B%0A%20%20%20%20%20%20%20%20%0A%20%20%20%20%0A%20%20%20%20%20%20%20%20%20%20%20%20marker_a5872a1e8ea4485596f25a03ca2ab6c5.bindTooltip%28%0A%20%20%20%20%20%20%20%20%20%20%20%20%20%20%20%20%60%3Cdiv%3E%0A%20%20%20%20%20%20%20%20%20%20%20%20%20%20%20%20%20%20%20%20%20ip%3A8%20%20%20%2054.145.52.184%0AName%3A%20ip%2C%20dtype%3A%20object%0A%20City%3A8%20%20%20%20Ashburn%0AName%3A%20city%2C%20dtype%3A%20object%0A%20%20%20%20%20%20%20%20%20%20%20%20%20%20%20%20%20%3C/div%3E%60%2C%0A%20%20%20%20%20%20%20%20%20%20%20%20%20%20%20%20%7B%22sticky%22%3A%20true%7D%0A%20%20%20%20%20%20%20%20%20%20%20%20%29%3B%0A%20%20%20%20%20%20%20%20%0A%20%20%20%20%0A%20%20%20%20%20%20%20%20%20%20%20%20var%20marker_5d21b1c96b5a413a9c14d2d3efa66eec%20%3D%20L.marker%28%0A%20%20%20%20%20%20%20%20%20%20%20%20%20%20%20%20%5B39.030019100000004%2C%20-77.46964646557657%5D%2C%0A%20%20%20%20%20%20%20%20%20%20%20%20%20%20%20%20%7B%7D%0A%20%20%20%20%20%20%20%20%20%20%20%20%29.addTo%28map_96d62e2a37a1423183b240110d8db5d0%29%3B%0A%20%20%20%20%20%20%20%20%0A%20%20%20%20%0A%20%20%20%20%20%20%20%20%20%20%20%20marker_5d21b1c96b5a413a9c14d2d3efa66eec.bindTooltip%28%0A%20%20%20%20%20%20%20%20%20%20%20%20%20%20%20%20%60%3Cdiv%3E%0A%20%20%20%20%20%20%20%20%20%20%20%20%20%20%20%20%20%20%20%20%20ip%3A9%20%20%20%2052.87.230.102%0AName%3A%20ip%2C%20dtype%3A%20object%0A%20City%3A9%20%20%20%20Ashburn%0AName%3A%20city%2C%20dtype%3A%20object%0A%20%20%20%20%20%20%20%20%20%20%20%20%20%20%20%20%20%3C/div%3E%60%2C%0A%20%20%20%20%20%20%20%20%20%20%20%20%20%20%20%20%7B%22sticky%22%3A%20true%7D%0A%20%20%20%20%20%20%20%20%20%20%20%20%29%3B%0A%20%20%20%20%20%20%20%20%0A%20%20%20%20%0A%20%20%20%20%20%20%20%20%20%20%20%20var%20marker_c2dd62a758324d688836ea5ea81e346c%20%3D%20L.marker%28%0A%20%20%20%20%20%20%20%20%20%20%20%20%20%20%20%20%5B39.030019100000004%2C%20-77.46964646557657%5D%2C%0A%20%20%20%20%20%20%20%20%20%20%20%20%20%20%20%20%7B%7D%0A%20%20%20%20%20%20%20%20%20%20%20%20%29.addTo%28map_96d62e2a37a1423183b240110d8db5d0%29%3B%0A%20%20%20%20%20%20%20%20%0A%20%20%20%20%0A%20%20%20%20%20%20%20%20%20%20%20%20marker_c2dd62a758324d688836ea5ea81e346c.bindTooltip%28%0A%20%20%20%20%20%20%20%20%20%20%20%20%20%20%20%20%60%3Cdiv%3E%0A%20%20%20%20%20%20%20%20%20%20%20%20%20%20%20%20%20%20%20%20%20ip%3A10%20%20%20%2035.174.209.2%0AName%3A%20ip%2C%20dtype%3A%20object%0A%20City%3A10%20%20%20%20Ashburn%0AName%3A%20city%2C%20dtype%3A%20object%0A%20%20%20%20%20%20%20%20%20%20%20%20%20%20%20%20%20%3C/div%3E%60%2C%0A%20%20%20%20%20%20%20%20%20%20%20%20%20%20%20%20%7B%22sticky%22%3A%20true%7D%0A%20%20%20%20%20%20%20%20%20%20%20%20%29%3B%0A%20%20%20%20%20%20%20%20%0A%20%20%20%20%0A%20%20%20%20%20%20%20%20%20%20%20%20var%20marker_cc525fd90265457393faf3f24437ed07%20%3D%20L.marker%28%0A%20%20%20%20%20%20%20%20%20%20%20%20%20%20%20%20%5B29.4246002%2C%20-98.4951405%5D%2C%0A%20%20%20%20%20%20%20%20%20%20%20%20%20%20%20%20%7B%7D%0A%20%20%20%20%20%20%20%20%20%20%20%20%29.addTo%28map_96d62e2a37a1423183b240110d8db5d0%29%3B%0A%20%20%20%20%20%20%20%20%0A%20%20%20%20%0A%20%20%20%20%20%20%20%20%20%20%20%20marker_cc525fd90265457393faf3f24437ed07.bindTooltip%28%0A%20%20%20%20%20%20%20%20%20%20%20%20%20%20%20%20%60%3Cdiv%3E%0A%20%20%20%20%20%20%20%20%20%20%20%20%20%20%20%20%20%20%20%20%20ip%3A11%20%20%20%2072.181.105.81%0AName%3A%20ip%2C%20dtype%3A%20object%0A%20City%3A11%20%20%20%20San%20Antonio%0AName%3A%20city%2C%20dtype%3A%20object%0A%20%20%20%20%20%20%20%20%20%20%20%20%20%20%20%20%20%3C/div%3E%60%2C%0A%20%20%20%20%20%20%20%20%20%20%20%20%20%20%20%20%7B%22sticky%22%3A%20true%7D%0A%20%20%20%20%20%20%20%20%20%20%20%20%29%3B%0A%20%20%20%20%20%20%20%20%0A%20%20%20%20%0A%20%20%20%20%20%20%20%20%20%20%20%20var%20marker_a08d84e0a0504b9cbac94da7de8de512%20%3D%20L.marker%28%0A%20%20%20%20%20%20%20%20%20%20%20%20%20%20%20%20%5B33.9014063%2C%20-94.8297388%5D%2C%0A%20%20%20%20%20%20%20%20%20%20%20%20%20%20%20%20%7B%7D%0A%20%20%20%20%20%20%20%20%20%20%20%20%29.addTo%28map_96d62e2a37a1423183b240110d8db5d0%29%3B%0A%20%20%20%20%20%20%20%20%0A%20%20%20%20%0A%20%20%20%20%20%20%20%20%20%20%20%20marker_a08d84e0a0504b9cbac94da7de8de512.bindTooltip%28%0A%20%20%20%20%20%20%20%20%20%20%20%20%20%20%20%20%60%3Cdiv%3E%0A%20%20%20%20%20%20%20%20%20%20%20%20%20%20%20%20%20%20%20%20%20ip%3A12%20%20%20%2070.121.214.34%0AName%3A%20ip%2C%20dtype%3A%20object%0A%20City%3A12%20%20%20%20San%20Antonio%20%28North%20Central%29%0AName%3A%20city%2C%20dtype%3A%20object%0A%20%20%20%20%20%20%20%20%20%20%20%20%20%20%20%20%20%3C/div%3E%60%2C%0A%20%20%20%20%20%20%20%20%20%20%20%20%20%20%20%20%7B%22sticky%22%3A%20true%7D%0A%20%20%20%20%20%20%20%20%20%20%20%20%29%3B%0A%20%20%20%20%20%20%20%20%0A%20%20%20%20%0A%20%20%20%20%20%20%20%20%20%20%20%20var%20marker_40541dcf48c54cca8f932e4df06691ea%20%3D%20L.marker%28%0A%20%20%20%20%20%20%20%20%20%20%20%20%20%20%20%20%5B29.4246002%2C%20-98.4951405%5D%2C%0A%20%20%20%20%20%20%20%20%20%20%20%20%20%20%20%20%7B%7D%0A%20%20%20%20%20%20%20%20%20%20%20%20%29.addTo%28map_96d62e2a37a1423183b240110d8db5d0%29%3B%0A%20%20%20%20%20%20%20%20%0A%20%20%20%20%0A%20%20%20%20%20%20%20%20%20%20%20%20marker_40541dcf48c54cca8f932e4df06691ea.bindTooltip%28%0A%20%20%20%20%20%20%20%20%20%20%20%20%20%20%20%20%60%3Cdiv%3E%0A%20%20%20%20%20%20%20%20%20%20%20%20%20%20%20%20%20%20%20%20%20ip%3A13%20%20%20%2068.201.219.223%0AName%3A%20ip%2C%20dtype%3A%20object%0A%20City%3A13%20%20%20%20San%20Antonio%0AName%3A%20city%2C%20dtype%3A%20object%0A%20%20%20%20%20%20%20%20%20%20%20%20%20%20%20%20%20%3C/div%3E%60%2C%0A%20%20%20%20%20%20%20%20%20%20%20%20%20%20%20%20%7B%22sticky%22%3A%20true%7D%0A%20%20%20%20%20%20%20%20%20%20%20%20%29%3B%0A%20%20%20%20%20%20%20%20%0A%20%20%20%20%0A%20%20%20%20%20%20%20%20%20%20%20%20var%20marker_cda999aafe1248dab5b2ada915635a59%20%3D%20L.marker%28%0A%20%20%20%20%20%20%20%20%20%20%20%20%20%20%20%20%5B29.4246002%2C%20-98.4951405%5D%2C%0A%20%20%20%20%20%20%20%20%20%20%20%20%20%20%20%20%7B%7D%0A%20%20%20%20%20%20%20%20%20%20%20%20%29.addTo%28map_96d62e2a37a1423183b240110d8db5d0%29%3B%0A%20%20%20%20%20%20%20%20%0A%20%20%20%20%0A%20%20%20%20%20%20%20%20%20%20%20%20marker_cda999aafe1248dab5b2ada915635a59.bindTooltip%28%0A%20%20%20%20%20%20%20%20%20%20%20%20%20%20%20%20%60%3Cdiv%3E%0A%20%20%20%20%20%20%20%20%20%20%20%20%20%20%20%20%20%20%20%20%20ip%3A14%20%20%20%20173.173.113.51%0AName%3A%20ip%2C%20dtype%3A%20object%0A%20City%3A14%20%20%20%20San%20Antonio%0AName%3A%20city%2C%20dtype%3A%20object%0A%20%20%20%20%20%20%20%20%20%20%20%20%20%20%20%20%20%3C/div%3E%60%2C%0A%20%20%20%20%20%20%20%20%20%20%20%20%20%20%20%20%7B%22sticky%22%3A%20true%7D%0A%20%20%20%20%20%20%20%20%20%20%20%20%29%3B%0A%20%20%20%20%20%20%20%20%0A%20%20%20%20%0A%20%20%20%20%20%20%20%20%20%20%20%20var%20marker_cbdeab9c8761424fb1c3ee5fe73afc05%20%3D%20L.marker%28%0A%20%20%20%20%20%20%20%20%20%20%20%20%20%20%20%20%5B29.4246002%2C%20-98.4951405%5D%2C%0A%20%20%20%20%20%20%20%20%20%20%20%20%20%20%20%20%7B%7D%0A%20%20%20%20%20%20%20%20%20%20%20%20%29.addTo%28map_96d62e2a37a1423183b240110d8db5d0%29%3B%0A%20%20%20%20%20%20%20%20%0A%20%20%20%20%0A%20%20%20%20%20%20%20%20%20%20%20%20marker_cbdeab9c8761424fb1c3ee5fe73afc05.bindTooltip%28%0A%20%20%20%20%20%20%20%20%20%20%20%20%20%20%20%20%60%3Cdiv%3E%0A%20%20%20%20%20%20%20%20%20%20%20%20%20%20%20%20%20%20%20%20%20ip%3A15%20%20%20%2072.181.113.170%0AName%3A%20ip%2C%20dtype%3A%20object%0A%20City%3A15%20%20%20%20San%20Antonio%0AName%3A%20city%2C%20dtype%3A%20object%0A%20%20%20%20%20%20%20%20%20%20%20%20%20%20%20%20%20%3C/div%3E%60%2C%0A%20%20%20%20%20%20%20%20%20%20%20%20%20%20%20%20%7B%22sticky%22%3A%20true%7D%0A%20%20%20%20%20%20%20%20%20%20%20%20%29%3B%0A%20%20%20%20%20%20%20%20%0A%20%20%20%20%0A%20%20%20%20%20%20%20%20%20%20%20%20var%20marker_2264bb4f1d5e4ccf930b895edef00305%20%3D%20L.marker%28%0A%20%20%20%20%20%20%20%20%20%20%20%20%20%20%20%20%5B39.030019100000004%2C%20-77.46964646557657%5D%2C%0A%20%20%20%20%20%20%20%20%20%20%20%20%20%20%20%20%7B%7D%0A%20%20%20%20%20%20%20%20%20%20%20%20%29.addTo%28map_96d62e2a37a1423183b240110d8db5d0%29%3B%0A%20%20%20%20%20%20%20%20%0A%20%20%20%20%0A%20%20%20%20%20%20%20%20%20%20%20%20marker_2264bb4f1d5e4ccf930b895edef00305.bindTooltip%28%0A%20%20%20%20%20%20%20%20%20%20%20%20%20%20%20%20%60%3Cdiv%3E%0A%20%20%20%20%20%20%20%20%20%20%20%20%20%20%20%20%20%20%20%20%20ip%3A16%20%20%20%2052.91.30.150%0AName%3A%20ip%2C%20dtype%3A%20object%0A%20City%3A16%20%20%20%20Ashburn%0AName%3A%20city%2C%20dtype%3A%20object%0A%20%20%20%20%20%20%20%20%20%20%20%20%20%20%20%20%20%3C/div%3E%60%2C%0A%20%20%20%20%20%20%20%20%20%20%20%20%20%20%20%20%7B%22sticky%22%3A%20true%7D%0A%20%20%20%20%20%20%20%20%20%20%20%20%29%3B%0A%20%20%20%20%20%20%20%20%0A%20%20%20%20%0A%20%20%20%20%20%20%20%20%20%20%20%20var%20marker_665ff092862349babf460813a4e007cd%20%3D%20L.marker%28%0A%20%20%20%20%20%20%20%20%20%20%20%20%20%20%20%20%5B29.4246002%2C%20-98.4951405%5D%2C%0A%20%20%20%20%20%20%20%20%20%20%20%20%20%20%20%20%7B%7D%0A%20%20%20%20%20%20%20%20%20%20%20%20%29.addTo%28map_96d62e2a37a1423183b240110d8db5d0%29%3B%0A%20%20%20%20%20%20%20%20%0A%20%20%20%20%0A%20%20%20%20%20%20%20%20%20%20%20%20marker_665ff092862349babf460813a4e007cd.bindTooltip%28%0A%20%20%20%20%20%20%20%20%20%20%20%20%20%20%20%20%60%3Cdiv%3E%0A%20%20%20%20%20%20%20%20%20%20%20%20%20%20%20%20%20%20%20%20%20ip%3A17%20%20%20%2024.26.242.9%0AName%3A%20ip%2C%20dtype%3A%20object%0A%20City%3A17%20%20%20%20San%20Antonio%0AName%3A%20city%2C%20dtype%3A%20object%0A%20%20%20%20%20%20%20%20%20%20%20%20%20%20%20%20%20%3C/div%3E%60%2C%0A%20%20%20%20%20%20%20%20%20%20%20%20%20%20%20%20%7B%22sticky%22%3A%20true%7D%0A%20%20%20%20%20%20%20%20%20%20%20%20%29%3B%0A%20%20%20%20%20%20%20%20%0A%20%20%20%20%0A%20%20%20%20%20%20%20%20%20%20%20%20var%20marker_8890b1784536459eb5f86a586e672fdb%20%3D%20L.marker%28%0A%20%20%20%20%20%20%20%20%20%20%20%20%20%20%20%20%5B29.4246002%2C%20-98.4951405%5D%2C%0A%20%20%20%20%20%20%20%20%20%20%20%20%20%20%20%20%7B%7D%0A%20%20%20%20%20%20%20%20%20%20%20%20%29.addTo%28map_96d62e2a37a1423183b240110d8db5d0%29%3B%0A%20%20%20%20%20%20%20%20%0A%20%20%20%20%0A%20%20%20%20%20%20%20%20%20%20%20%20marker_8890b1784536459eb5f86a586e672fdb.bindTooltip%28%0A%20%20%20%20%20%20%20%20%20%20%20%20%20%20%20%20%60%3Cdiv%3E%0A%20%20%20%20%20%20%20%20%20%20%20%20%20%20%20%20%20%20%20%20%20ip%3A18%20%20%20%2045.23.250.16%0AName%3A%20ip%2C%20dtype%3A%20object%0A%20City%3A18%20%20%20%20San%20Antonio%0AName%3A%20city%2C%20dtype%3A%20object%0A%20%20%20%20%20%20%20%20%20%20%20%20%20%20%20%20%20%3C/div%3E%60%2C%0A%20%20%20%20%20%20%20%20%20%20%20%20%20%20%20%20%7B%22sticky%22%3A%20true%7D%0A%20%20%20%20%20%20%20%20%20%20%20%20%29%3B%0A%20%20%20%20%20%20%20%20%0A%20%20%20%20%0A%20%20%20%20%20%20%20%20%20%20%20%20var%20marker_1c258b321a564a5ab78c28d5e08a1761%20%3D%20L.marker%28%0A%20%20%20%20%20%20%20%20%20%20%20%20%20%20%20%20%5B55.751244%2C%2037.618423%5D%2C%0A%20%20%20%20%20%20%20%20%20%20%20%20%20%20%20%20%7B%7D%0A%20%20%20%20%20%20%20%20%20%20%20%20%29.addTo%28map_96d62e2a37a1423183b240110d8db5d0%29%3B%0A%20%20%20%20%20%20%20%20%0A%20%20%20%20%0A%20%20%20%20%20%20%20%20%20%20%20%20marker_1c258b321a564a5ab78c28d5e08a1761.bindTooltip%28%0A%20%20%20%20%20%20%20%20%20%20%20%20%20%20%20%20%60%3Cdiv%3E%0A%20%20%20%20%20%20%20%20%20%20%20%20%20%20%20%20%20%20%20%20%20ip%3A19%20%20%20%2095.31.18.119%0AName%3A%20ip%2C%20dtype%3A%20object%0A%20City%3A19%20%20%20%20Moscow%20%28Tsentralnyy%20administrativnyy%20okrug%29%0AName%3A%20city%2C%20dtype%3A%20object%0A%20%20%20%20%20%20%20%20%20%20%20%20%20%20%20%20%20%3C/div%3E%60%2C%0A%20%20%20%20%20%20%20%20%20%20%20%20%20%20%20%20%7B%22sticky%22%3A%20true%7D%0A%20%20%20%20%20%20%20%20%20%20%20%20%29%3B%0A%20%20%20%20%20%20%20%20%0A%20%20%20%20%0A%20%20%20%20%20%20%20%20%20%20%20%20var%20marker_8c0dee161f3b420b9e2bcc2fa3ffb04a%20%3D%20L.marker%28%0A%20%20%20%20%20%20%20%20%20%20%20%20%20%20%20%20%5B55.751244%2C%2037.618423%5D%2C%0A%20%20%20%20%20%20%20%20%20%20%20%20%20%20%20%20%7B%7D%0A%20%20%20%20%20%20%20%20%20%20%20%20%29.addTo%28map_96d62e2a37a1423183b240110d8db5d0%29%3B%0A%20%20%20%20%20%20%20%20%0A%20%20%20%20%0A%20%20%20%20%20%20%20%20%20%20%20%20marker_8c0dee161f3b420b9e2bcc2fa3ffb04a.bindTooltip%28%0A%20%20%20%20%20%20%20%20%20%20%20%20%20%20%20%20%60%3Cdiv%3E%0A%20%20%20%20%20%20%20%20%20%20%20%20%20%20%20%20%20%20%20%20%20ip%3A20%20%20%20%2095.31.16.121%0AName%3A%20ip%2C%20dtype%3A%20object%0A%20City%3A20%20%20%20%20Moscow%20%28Tsentralnyy%20administrativnyy%20okrug%29%0AName%3A%20city%2C%20dtype%3A%20object%0A%20%20%20%20%20%20%20%20%20%20%20%20%20%20%20%20%20%3C/div%3E%60%2C%0A%20%20%20%20%20%20%20%20%20%20%20%20%20%20%20%20%7B%22sticky%22%3A%20true%7D%0A%20%20%20%20%20%20%20%20%20%20%20%20%29%3B%0A%20%20%20%20%20%20%20%20%0A%20%20%20%20%0A%20%20%20%20%20%20%20%20%20%20%20%20var%20marker_d5961f460aa94f458ace909baa5adc67%20%3D%20L.marker%28%0A%20%20%20%20%20%20%20%20%20%20%20%20%20%20%20%20%5B30.2711286%2C%20-97.7436995%5D%2C%0A%20%20%20%20%20%20%20%20%20%20%20%20%20%20%20%20%7B%7D%0A%20%20%20%20%20%20%20%20%20%20%20%20%29.addTo%28map_96d62e2a37a1423183b240110d8db5d0%29%3B%0A%20%20%20%20%20%20%20%20%0A%20%20%20%20%0A%20%20%20%20%20%20%20%20%20%20%20%20marker_d5961f460aa94f458ace909baa5adc67.bindTooltip%28%0A%20%20%20%20%20%20%20%20%20%20%20%20%20%20%20%20%60%3Cdiv%3E%0A%20%20%20%20%20%20%20%20%20%20%20%20%20%20%20%20%20%20%20%20%20ip%3A21%20%20%20%2097.105.15.120%0AName%3A%20ip%2C%20dtype%3A%20object%0A%20City%3A21%20%20%20%20Austin%0AName%3A%20city%2C%20dtype%3A%20object%0A%20%20%20%20%20%20%20%20%20%20%20%20%20%20%20%20%20%3C/div%3E%60%2C%0A%20%20%20%20%20%20%20%20%20%20%20%20%20%20%20%20%7B%22sticky%22%3A%20true%7D%0A%20%20%20%20%20%20%20%20%20%20%20%20%29%3B%0A%20%20%20%20%20%20%20%20%0A%20%20%20%20%0A%20%20%20%20%20%20%20%20%20%20%20%20var%20marker_08307fc2e9994274bf814e8f98f3d27c%20%3D%20L.marker%28%0A%20%20%20%20%20%20%20%20%20%20%20%20%20%20%20%20%5B29.4193459%2C%20-98.4780456%5D%2C%0A%20%20%20%20%20%20%20%20%20%20%20%20%20%20%20%20%7B%7D%0A%20%20%20%20%20%20%20%20%20%20%20%20%29.addTo%28map_96d62e2a37a1423183b240110d8db5d0%29%3B%0A%20%20%20%20%20%20%20%20%0A%20%20%20%20%0A%20%20%20%20%20%20%20%20%20%20%20%20marker_08307fc2e9994274bf814e8f98f3d27c.bindTooltip%28%0A%20%20%20%20%20%20%20%20%20%20%20%20%20%20%20%20%60%3Cdiv%3E%0A%20%20%20%20%20%20%20%20%20%20%20%20%20%20%20%20%20%20%20%20%20ip%3A0%20%20%20%2097.105.19.58%0AName%3A%20ip%2C%20dtype%3A%20object%0A%20City%3A0%20%20%20%20San%20Antonio%20%28Downtown%29%0AName%3A%20city%2C%20dtype%3A%20object%0A%20%20%20%20%20%20%20%20%20%20%20%20%20%20%20%20%20%3C/div%3E%60%2C%0A%20%20%20%20%20%20%20%20%20%20%20%20%20%20%20%20%7B%22sticky%22%3A%20true%7D%0A%20%20%20%20%20%20%20%20%20%20%20%20%29%3B%0A%20%20%20%20%20%20%20%20%0A%20%20%20%20%0A%20%20%20%20%20%20%20%20%20%20%20%20var%20marker_2354c2b9ccab4eecb9be56b6e03b5ca8%20%3D%20L.marker%28%0A%20%20%20%20%20%20%20%20%20%20%20%20%20%20%20%20%5B39.030019100000004%2C%20-77.46964646557657%5D%2C%0A%20%20%20%20%20%20%20%20%20%20%20%20%20%20%20%20%7B%7D%0A%20%20%20%20%20%20%20%20%20%20%20%20%29.addTo%28map_96d62e2a37a1423183b240110d8db5d0%29%3B%0A%20%20%20%20%20%20%20%20%0A%20%20%20%20%0A%20%20%20%20%20%20%20%20%20%20%20%20marker_2354c2b9ccab4eecb9be56b6e03b5ca8.bindTooltip%28%0A%20%20%20%20%20%20%20%20%20%20%20%20%20%20%20%20%60%3Cdiv%3E%0A%20%20%20%20%20%20%20%20%20%20%20%20%20%20%20%20%20%20%20%20%20ip%3A1%20%20%20%203.92.201.136%0AName%3A%20ip%2C%20dtype%3A%20object%0A%20City%3A1%20%20%20%20Ashburn%0AName%3A%20city%2C%20dtype%3A%20object%0A%20%20%20%20%20%20%20%20%20%20%20%20%20%20%20%20%20%3C/div%3E%60%2C%0A%20%20%20%20%20%20%20%20%20%20%20%20%20%20%20%20%7B%22sticky%22%3A%20true%7D%0A%20%20%20%20%20%20%20%20%20%20%20%20%29%3B%0A%20%20%20%20%20%20%20%20%0A%20%20%20%20%0A%20%20%20%20%20%20%20%20%20%20%20%20var%20marker_2d5cc31d90464b7b815ff497a6d1fcca%20%3D%20L.marker%28%0A%20%20%20%20%20%20%20%20%20%20%20%20%20%20%20%20%5B39.030019100000004%2C%20-77.46964646557657%5D%2C%0A%20%20%20%20%20%20%20%20%20%20%20%20%20%20%20%20%7B%7D%0A%20%20%20%20%20%20%20%20%20%20%20%20%29.addTo%28map_96d62e2a37a1423183b240110d8db5d0%29%3B%0A%20%20%20%20%20%20%20%20%0A%20%20%20%20%0A%20%20%20%20%20%20%20%20%20%20%20%20marker_2d5cc31d90464b7b815ff497a6d1fcca.bindTooltip%28%0A%20%20%20%20%20%20%20%20%20%20%20%20%20%20%20%20%60%3Cdiv%3E%0A%20%20%20%20%20%20%20%20%20%20%20%20%20%20%20%20%20%20%20%20%20ip%3A2%20%20%20%2052.90.165.200%0AName%3A%20ip%2C%20dtype%3A%20object%0A%20City%3A2%20%20%20%20Ashburn%0AName%3A%20city%2C%20dtype%3A%20object%0A%20%20%20%20%20%20%20%20%20%20%20%20%20%20%20%20%20%3C/div%3E%60%2C%0A%20%20%20%20%20%20%20%20%20%20%20%20%20%20%20%20%7B%22sticky%22%3A%20true%7D%0A%20%20%20%20%20%20%20%20%20%20%20%20%29%3B%0A%20%20%20%20%20%20%20%20%0A%20%20%20%20%0A%20%20%20%20%20%20%20%20%20%20%20%20var%20marker_26c469b2d8414472abc70cc0d35de3e8%20%3D%20L.marker%28%0A%20%20%20%20%20%20%20%20%20%20%20%20%20%20%20%20%5B39.030019100000004%2C%20-77.46964646557657%5D%2C%0A%20%20%20%20%20%20%20%20%20%20%20%20%20%20%20%20%7B%7D%0A%20%20%20%20%20%20%20%20%20%20%20%20%29.addTo%28map_96d62e2a37a1423183b240110d8db5d0%29%3B%0A%20%20%20%20%20%20%20%20%0A%20%20%20%20%0A%20%20%20%20%20%20%20%20%20%20%20%20marker_26c469b2d8414472abc70cc0d35de3e8.bindTooltip%28%0A%20%20%20%20%20%20%20%20%20%20%20%20%20%20%20%20%60%3Cdiv%3E%0A%20%20%20%20%20%20%20%20%20%20%20%20%20%20%20%20%20%20%20%20%20ip%3A3%20%20%20%203.88.129.158%0AName%3A%20ip%2C%20dtype%3A%20object%0A%20City%3A3%20%20%20%20Ashburn%0AName%3A%20city%2C%20dtype%3A%20object%0A%20%20%20%20%20%20%20%20%20%20%20%20%20%20%20%20%20%3C/div%3E%60%2C%0A%20%20%20%20%20%20%20%20%20%20%20%20%20%20%20%20%7B%22sticky%22%3A%20true%7D%0A%20%20%20%20%20%20%20%20%20%20%20%20%29%3B%0A%20%20%20%20%20%20%20%20%0A%20%20%20%20%0A%20%20%20%20%20%20%20%20%20%20%20%20var%20marker_c3ad15ae7a3144c5a6c4dc8bd175c137%20%3D%20L.marker%28%0A%20%20%20%20%20%20%20%20%20%20%20%20%20%20%20%20%5B39.030019100000004%2C%20-77.46964646557657%5D%2C%0A%20%20%20%20%20%20%20%20%20%20%20%20%20%20%20%20%7B%7D%0A%20%20%20%20%20%20%20%20%20%20%20%20%29.addTo%28map_96d62e2a37a1423183b240110d8db5d0%29%3B%0A%20%20%20%20%20%20%20%20%0A%20%20%20%20%0A%20%20%20%20%20%20%20%20%20%20%20%20marker_c3ad15ae7a3144c5a6c4dc8bd175c137.bindTooltip%28%0A%20%20%20%20%20%20%20%20%20%20%20%20%20%20%20%20%60%3Cdiv%3E%0A%20%20%20%20%20%20%20%20%20%20%20%20%20%20%20%20%20%20%20%20%20ip%3A4%20%20%20%2034.207.64.242%0AName%3A%20ip%2C%20dtype%3A%20object%0A%20City%3A4%20%20%20%20Ashburn%0AName%3A%20city%2C%20dtype%3A%20object%0A%20%20%20%20%20%20%20%20%20%20%20%20%20%20%20%20%20%3C/div%3E%60%2C%0A%20%20%20%20%20%20%20%20%20%20%20%20%20%20%20%20%7B%22sticky%22%3A%20true%7D%0A%20%20%20%20%20%20%20%20%20%20%20%20%29%3B%0A%20%20%20%20%20%20%20%20%0A%20%20%20%20%0A%20%20%20%20%20%20%20%20%20%20%20%20var%20marker_97375baa463d40158f71036c96b36e45%20%3D%20L.marker%28%0A%20%20%20%20%20%20%20%20%20%20%20%20%20%20%20%20%5B39.030019100000004%2C%20-77.46964646557657%5D%2C%0A%20%20%20%20%20%20%20%20%20%20%20%20%20%20%20%20%7B%7D%0A%20%20%20%20%20%20%20%20%20%20%20%20%29.addTo%28map_96d62e2a37a1423183b240110d8db5d0%29%3B%0A%20%20%20%20%20%20%20%20%0A%20%20%20%20%0A%20%20%20%20%20%20%20%20%20%20%20%20marker_97375baa463d40158f71036c96b36e45.bindTooltip%28%0A%20%20%20%20%20%20%20%20%20%20%20%20%20%20%20%20%60%3Cdiv%3E%0A%20%20%20%20%20%20%20%20%20%20%20%20%20%20%20%20%20%20%20%20%20ip%3A5%20%20%20%2054.172.14.223%0AName%3A%20ip%2C%20dtype%3A%20object%0A%20City%3A5%20%20%20%20Ashburn%0AName%3A%20city%2C%20dtype%3A%20object%0A%20%20%20%20%20%20%20%20%20%20%20%20%20%20%20%20%20%3C/div%3E%60%2C%0A%20%20%20%20%20%20%20%20%20%20%20%20%20%20%20%20%7B%22sticky%22%3A%20true%7D%0A%20%20%20%20%20%20%20%20%20%20%20%20%29%3B%0A%20%20%20%20%20%20%20%20%0A%20%20%20%20%0A%20%20%20%20%20%20%20%20%20%20%20%20var%20marker_b6677fe856e74077a1acada62882b143%20%3D%20L.marker%28%0A%20%20%20%20%20%20%20%20%20%20%20%20%20%20%20%20%5B39.030019100000004%2C%20-77.46964646557657%5D%2C%0A%20%20%20%20%20%20%20%20%20%20%20%20%20%20%20%20%7B%7D%0A%20%20%20%20%20%20%20%20%20%20%20%20%29.addTo%28map_96d62e2a37a1423183b240110d8db5d0%29%3B%0A%20%20%20%20%20%20%20%20%0A%20%20%20%20%0A%20%20%20%20%20%20%20%20%20%20%20%20marker_b6677fe856e74077a1acada62882b143.bindTooltip%28%0A%20%20%20%20%20%20%20%20%20%20%20%20%20%20%20%20%60%3Cdiv%3E%0A%20%20%20%20%20%20%20%20%20%20%20%20%20%20%20%20%20%20%20%20%20ip%3A6%20%20%20%2034.229.70.250%0AName%3A%20ip%2C%20dtype%3A%20object%0A%20City%3A6%20%20%20%20Ashburn%0AName%3A%20city%2C%20dtype%3A%20object%0A%20%20%20%20%20%20%20%20%20%20%20%20%20%20%20%20%20%3C/div%3E%60%2C%0A%20%20%20%20%20%20%20%20%20%20%20%20%20%20%20%20%7B%22sticky%22%3A%20true%7D%0A%20%20%20%20%20%20%20%20%20%20%20%20%29%3B%0A%20%20%20%20%20%20%20%20%0A%20%20%20%20%0A%20%20%20%20%20%20%20%20%20%20%20%20var%20marker_8afff21a25ef41fe851a65da640de400%20%3D%20L.marker%28%0A%20%20%20%20%20%20%20%20%20%20%20%20%20%20%20%20%5B39.030019100000004%2C%20-77.46964646557657%5D%2C%0A%20%20%20%20%20%20%20%20%20%20%20%20%20%20%20%20%7B%7D%0A%20%20%20%20%20%20%20%20%20%20%20%20%29.addTo%28map_96d62e2a37a1423183b240110d8db5d0%29%3B%0A%20%20%20%20%20%20%20%20%0A%20%20%20%20%0A%20%20%20%20%20%20%20%20%20%20%20%20marker_8afff21a25ef41fe851a65da640de400.bindTooltip%28%0A%20%20%20%20%20%20%20%20%20%20%20%20%20%20%20%20%60%3Cdiv%3E%0A%20%20%20%20%20%20%20%20%20%20%20%20%20%20%20%20%20%20%20%20%20ip%3A7%20%20%20%2035.175.171.137%0AName%3A%20ip%2C%20dtype%3A%20object%0A%20City%3A7%20%20%20%20Ashburn%0AName%3A%20city%2C%20dtype%3A%20object%0A%20%20%20%20%20%20%20%20%20%20%20%20%20%20%20%20%20%3C/div%3E%60%2C%0A%20%20%20%20%20%20%20%20%20%20%20%20%20%20%20%20%7B%22sticky%22%3A%20true%7D%0A%20%20%20%20%20%20%20%20%20%20%20%20%29%3B%0A%20%20%20%20%20%20%20%20%0A%20%20%20%20%0A%20%20%20%20%20%20%20%20%20%20%20%20var%20marker_769d969fd96847b39eb83341b62f89ad%20%3D%20L.marker%28%0A%20%20%20%20%20%20%20%20%20%20%20%20%20%20%20%20%5B39.030019100000004%2C%20-77.46964646557657%5D%2C%0A%20%20%20%20%20%20%20%20%20%20%20%20%20%20%20%20%7B%7D%0A%20%20%20%20%20%20%20%20%20%20%20%20%29.addTo%28map_96d62e2a37a1423183b240110d8db5d0%29%3B%0A%20%20%20%20%20%20%20%20%0A%20%20%20%20%0A%20%20%20%20%20%20%20%20%20%20%20%20marker_769d969fd96847b39eb83341b62f89ad.bindTooltip%28%0A%20%20%20%20%20%20%20%20%20%20%20%20%20%20%20%20%60%3Cdiv%3E%0A%20%20%20%20%20%20%20%20%20%20%20%20%20%20%20%20%20%20%20%20%20ip%3A8%20%20%20%2054.145.52.184%0AName%3A%20ip%2C%20dtype%3A%20object%0A%20City%3A8%20%20%20%20Ashburn%0AName%3A%20city%2C%20dtype%3A%20object%0A%20%20%20%20%20%20%20%20%20%20%20%20%20%20%20%20%20%3C/div%3E%60%2C%0A%20%20%20%20%20%20%20%20%20%20%20%20%20%20%20%20%7B%22sticky%22%3A%20true%7D%0A%20%20%20%20%20%20%20%20%20%20%20%20%29%3B%0A%20%20%20%20%20%20%20%20%0A%20%20%20%20%0A%20%20%20%20%20%20%20%20%20%20%20%20var%20marker_f75973e756ea40609e6e5c4baf803a6b%20%3D%20L.marker%28%0A%20%20%20%20%20%20%20%20%20%20%20%20%20%20%20%20%5B39.030019100000004%2C%20-77.46964646557657%5D%2C%0A%20%20%20%20%20%20%20%20%20%20%20%20%20%20%20%20%7B%7D%0A%20%20%20%20%20%20%20%20%20%20%20%20%29.addTo%28map_96d62e2a37a1423183b240110d8db5d0%29%3B%0A%20%20%20%20%20%20%20%20%0A%20%20%20%20%0A%20%20%20%20%20%20%20%20%20%20%20%20marker_f75973e756ea40609e6e5c4baf803a6b.bindTooltip%28%0A%20%20%20%20%20%20%20%20%20%20%20%20%20%20%20%20%60%3Cdiv%3E%0A%20%20%20%20%20%20%20%20%20%20%20%20%20%20%20%20%20%20%20%20%20ip%3A9%20%20%20%2052.87.230.102%0AName%3A%20ip%2C%20dtype%3A%20object%0A%20City%3A9%20%20%20%20Ashburn%0AName%3A%20city%2C%20dtype%3A%20object%0A%20%20%20%20%20%20%20%20%20%20%20%20%20%20%20%20%20%3C/div%3E%60%2C%0A%20%20%20%20%20%20%20%20%20%20%20%20%20%20%20%20%7B%22sticky%22%3A%20true%7D%0A%20%20%20%20%20%20%20%20%20%20%20%20%29%3B%0A%20%20%20%20%20%20%20%20%0A%20%20%20%20%0A%20%20%20%20%20%20%20%20%20%20%20%20var%20marker_4e150664ffa14472b489fd71da857334%20%3D%20L.marker%28%0A%20%20%20%20%20%20%20%20%20%20%20%20%20%20%20%20%5B39.030019100000004%2C%20-77.46964646557657%5D%2C%0A%20%20%20%20%20%20%20%20%20%20%20%20%20%20%20%20%7B%7D%0A%20%20%20%20%20%20%20%20%20%20%20%20%29.addTo%28map_96d62e2a37a1423183b240110d8db5d0%29%3B%0A%20%20%20%20%20%20%20%20%0A%20%20%20%20%0A%20%20%20%20%20%20%20%20%20%20%20%20marker_4e150664ffa14472b489fd71da857334.bindTooltip%28%0A%20%20%20%20%20%20%20%20%20%20%20%20%20%20%20%20%60%3Cdiv%3E%0A%20%20%20%20%20%20%20%20%20%20%20%20%20%20%20%20%20%20%20%20%20ip%3A10%20%20%20%2035.174.209.2%0AName%3A%20ip%2C%20dtype%3A%20object%0A%20City%3A10%20%20%20%20Ashburn%0AName%3A%20city%2C%20dtype%3A%20object%0A%20%20%20%20%20%20%20%20%20%20%20%20%20%20%20%20%20%3C/div%3E%60%2C%0A%20%20%20%20%20%20%20%20%20%20%20%20%20%20%20%20%7B%22sticky%22%3A%20true%7D%0A%20%20%20%20%20%20%20%20%20%20%20%20%29%3B%0A%20%20%20%20%20%20%20%20%0A%20%20%20%20%0A%20%20%20%20%20%20%20%20%20%20%20%20var%20marker_bd370fb0966b4343b5cc0e6bb1192b30%20%3D%20L.marker%28%0A%20%20%20%20%20%20%20%20%20%20%20%20%20%20%20%20%5B29.4246002%2C%20-98.4951405%5D%2C%0A%20%20%20%20%20%20%20%20%20%20%20%20%20%20%20%20%7B%7D%0A%20%20%20%20%20%20%20%20%20%20%20%20%29.addTo%28map_96d62e2a37a1423183b240110d8db5d0%29%3B%0A%20%20%20%20%20%20%20%20%0A%20%20%20%20%0A%20%20%20%20%20%20%20%20%20%20%20%20marker_bd370fb0966b4343b5cc0e6bb1192b30.bindTooltip%28%0A%20%20%20%20%20%20%20%20%20%20%20%20%20%20%20%20%60%3Cdiv%3E%0A%20%20%20%20%20%20%20%20%20%20%20%20%20%20%20%20%20%20%20%20%20ip%3A11%20%20%20%2072.181.105.81%0AName%3A%20ip%2C%20dtype%3A%20object%0A%20City%3A11%20%20%20%20San%20Antonio%0AName%3A%20city%2C%20dtype%3A%20object%0A%20%20%20%20%20%20%20%20%20%20%20%20%20%20%20%20%20%3C/div%3E%60%2C%0A%20%20%20%20%20%20%20%20%20%20%20%20%20%20%20%20%7B%22sticky%22%3A%20true%7D%0A%20%20%20%20%20%20%20%20%20%20%20%20%29%3B%0A%20%20%20%20%20%20%20%20%0A%20%20%20%20%0A%20%20%20%20%20%20%20%20%20%20%20%20var%20marker_f5753013223b443180033071a2337c8b%20%3D%20L.marker%28%0A%20%20%20%20%20%20%20%20%20%20%20%20%20%20%20%20%5B33.9014063%2C%20-94.8297388%5D%2C%0A%20%20%20%20%20%20%20%20%20%20%20%20%20%20%20%20%7B%7D%0A%20%20%20%20%20%20%20%20%20%20%20%20%29.addTo%28map_96d62e2a37a1423183b240110d8db5d0%29%3B%0A%20%20%20%20%20%20%20%20%0A%20%20%20%20%0A%20%20%20%20%20%20%20%20%20%20%20%20marker_f5753013223b443180033071a2337c8b.bindTooltip%28%0A%20%20%20%20%20%20%20%20%20%20%20%20%20%20%20%20%60%3Cdiv%3E%0A%20%20%20%20%20%20%20%20%20%20%20%20%20%20%20%20%20%20%20%20%20ip%3A12%20%20%20%2070.121.214.34%0AName%3A%20ip%2C%20dtype%3A%20object%0A%20City%3A12%20%20%20%20San%20Antonio%20%28North%20Central%29%0AName%3A%20city%2C%20dtype%3A%20object%0A%20%20%20%20%20%20%20%20%20%20%20%20%20%20%20%20%20%3C/div%3E%60%2C%0A%20%20%20%20%20%20%20%20%20%20%20%20%20%20%20%20%7B%22sticky%22%3A%20true%7D%0A%20%20%20%20%20%20%20%20%20%20%20%20%29%3B%0A%20%20%20%20%20%20%20%20%0A%20%20%20%20%0A%20%20%20%20%20%20%20%20%20%20%20%20var%20marker_ad2e0d878e96479b817b202a9926cf65%20%3D%20L.marker%28%0A%20%20%20%20%20%20%20%20%20%20%20%20%20%20%20%20%5B29.4246002%2C%20-98.4951405%5D%2C%0A%20%20%20%20%20%20%20%20%20%20%20%20%20%20%20%20%7B%7D%0A%20%20%20%20%20%20%20%20%20%20%20%20%29.addTo%28map_96d62e2a37a1423183b240110d8db5d0%29%3B%0A%20%20%20%20%20%20%20%20%0A%20%20%20%20%0A%20%20%20%20%20%20%20%20%20%20%20%20marker_ad2e0d878e96479b817b202a9926cf65.bindTooltip%28%0A%20%20%20%20%20%20%20%20%20%20%20%20%20%20%20%20%60%3Cdiv%3E%0A%20%20%20%20%20%20%20%20%20%20%20%20%20%20%20%20%20%20%20%20%20ip%3A13%20%20%20%2068.201.219.223%0AName%3A%20ip%2C%20dtype%3A%20object%0A%20City%3A13%20%20%20%20San%20Antonio%0AName%3A%20city%2C%20dtype%3A%20object%0A%20%20%20%20%20%20%20%20%20%20%20%20%20%20%20%20%20%3C/div%3E%60%2C%0A%20%20%20%20%20%20%20%20%20%20%20%20%20%20%20%20%7B%22sticky%22%3A%20true%7D%0A%20%20%20%20%20%20%20%20%20%20%20%20%29%3B%0A%20%20%20%20%20%20%20%20%0A%20%20%20%20%0A%20%20%20%20%20%20%20%20%20%20%20%20var%20marker_ed7024bbe7244300abe91a225e474081%20%3D%20L.marker%28%0A%20%20%20%20%20%20%20%20%20%20%20%20%20%20%20%20%5B29.4246002%2C%20-98.4951405%5D%2C%0A%20%20%20%20%20%20%20%20%20%20%20%20%20%20%20%20%7B%7D%0A%20%20%20%20%20%20%20%20%20%20%20%20%29.addTo%28map_96d62e2a37a1423183b240110d8db5d0%29%3B%0A%20%20%20%20%20%20%20%20%0A%20%20%20%20%0A%20%20%20%20%20%20%20%20%20%20%20%20marker_ed7024bbe7244300abe91a225e474081.bindTooltip%28%0A%20%20%20%20%20%20%20%20%20%20%20%20%20%20%20%20%60%3Cdiv%3E%0A%20%20%20%20%20%20%20%20%20%20%20%20%20%20%20%20%20%20%20%20%20ip%3A14%20%20%20%20173.173.113.51%0AName%3A%20ip%2C%20dtype%3A%20object%0A%20City%3A14%20%20%20%20San%20Antonio%0AName%3A%20city%2C%20dtype%3A%20object%0A%20%20%20%20%20%20%20%20%20%20%20%20%20%20%20%20%20%3C/div%3E%60%2C%0A%20%20%20%20%20%20%20%20%20%20%20%20%20%20%20%20%7B%22sticky%22%3A%20true%7D%0A%20%20%20%20%20%20%20%20%20%20%20%20%29%3B%0A%20%20%20%20%20%20%20%20%0A%20%20%20%20%0A%20%20%20%20%20%20%20%20%20%20%20%20var%20marker_557ca1cd651a4a078a6c13852d4e4a86%20%3D%20L.marker%28%0A%20%20%20%20%20%20%20%20%20%20%20%20%20%20%20%20%5B29.4246002%2C%20-98.4951405%5D%2C%0A%20%20%20%20%20%20%20%20%20%20%20%20%20%20%20%20%7B%7D%0A%20%20%20%20%20%20%20%20%20%20%20%20%29.addTo%28map_96d62e2a37a1423183b240110d8db5d0%29%3B%0A%20%20%20%20%20%20%20%20%0A%20%20%20%20%0A%20%20%20%20%20%20%20%20%20%20%20%20marker_557ca1cd651a4a078a6c13852d4e4a86.bindTooltip%28%0A%20%20%20%20%20%20%20%20%20%20%20%20%20%20%20%20%60%3Cdiv%3E%0A%20%20%20%20%20%20%20%20%20%20%20%20%20%20%20%20%20%20%20%20%20ip%3A15%20%20%20%2072.181.113.170%0AName%3A%20ip%2C%20dtype%3A%20object%0A%20City%3A15%20%20%20%20San%20Antonio%0AName%3A%20city%2C%20dtype%3A%20object%0A%20%20%20%20%20%20%20%20%20%20%20%20%20%20%20%20%20%3C/div%3E%60%2C%0A%20%20%20%20%20%20%20%20%20%20%20%20%20%20%20%20%7B%22sticky%22%3A%20true%7D%0A%20%20%20%20%20%20%20%20%20%20%20%20%29%3B%0A%20%20%20%20%20%20%20%20%0A%20%20%20%20%0A%20%20%20%20%20%20%20%20%20%20%20%20var%20marker_3fb11225a8d7462b9fb1cf479c08954e%20%3D%20L.marker%28%0A%20%20%20%20%20%20%20%20%20%20%20%20%20%20%20%20%5B39.030019100000004%2C%20-77.46964646557657%5D%2C%0A%20%20%20%20%20%20%20%20%20%20%20%20%20%20%20%20%7B%7D%0A%20%20%20%20%20%20%20%20%20%20%20%20%29.addTo%28map_96d62e2a37a1423183b240110d8db5d0%29%3B%0A%20%20%20%20%20%20%20%20%0A%20%20%20%20%0A%20%20%20%20%20%20%20%20%20%20%20%20marker_3fb11225a8d7462b9fb1cf479c08954e.bindTooltip%28%0A%20%20%20%20%20%20%20%20%20%20%20%20%20%20%20%20%60%3Cdiv%3E%0A%20%20%20%20%20%20%20%20%20%20%20%20%20%20%20%20%20%20%20%20%20ip%3A16%20%20%20%2052.91.30.150%0AName%3A%20ip%2C%20dtype%3A%20object%0A%20City%3A16%20%20%20%20Ashburn%0AName%3A%20city%2C%20dtype%3A%20object%0A%20%20%20%20%20%20%20%20%20%20%20%20%20%20%20%20%20%3C/div%3E%60%2C%0A%20%20%20%20%20%20%20%20%20%20%20%20%20%20%20%20%7B%22sticky%22%3A%20true%7D%0A%20%20%20%20%20%20%20%20%20%20%20%20%29%3B%0A%20%20%20%20%20%20%20%20%0A%20%20%20%20%0A%20%20%20%20%20%20%20%20%20%20%20%20var%20marker_b03173b528bf438e97f8069abf0d4351%20%3D%20L.marker%28%0A%20%20%20%20%20%20%20%20%20%20%20%20%20%20%20%20%5B29.4246002%2C%20-98.4951405%5D%2C%0A%20%20%20%20%20%20%20%20%20%20%20%20%20%20%20%20%7B%7D%0A%20%20%20%20%20%20%20%20%20%20%20%20%29.addTo%28map_96d62e2a37a1423183b240110d8db5d0%29%3B%0A%20%20%20%20%20%20%20%20%0A%20%20%20%20%0A%20%20%20%20%20%20%20%20%20%20%20%20marker_b03173b528bf438e97f8069abf0d4351.bindTooltip%28%0A%20%20%20%20%20%20%20%20%20%20%20%20%20%20%20%20%60%3Cdiv%3E%0A%20%20%20%20%20%20%20%20%20%20%20%20%20%20%20%20%20%20%20%20%20ip%3A17%20%20%20%2024.26.242.9%0AName%3A%20ip%2C%20dtype%3A%20object%0A%20City%3A17%20%20%20%20San%20Antonio%0AName%3A%20city%2C%20dtype%3A%20object%0A%20%20%20%20%20%20%20%20%20%20%20%20%20%20%20%20%20%3C/div%3E%60%2C%0A%20%20%20%20%20%20%20%20%20%20%20%20%20%20%20%20%7B%22sticky%22%3A%20true%7D%0A%20%20%20%20%20%20%20%20%20%20%20%20%29%3B%0A%20%20%20%20%20%20%20%20%0A%20%20%20%20%0A%20%20%20%20%20%20%20%20%20%20%20%20var%20marker_2e463322c46c4ffd87b4c95b7ae22567%20%3D%20L.marker%28%0A%20%20%20%20%20%20%20%20%20%20%20%20%20%20%20%20%5B29.4246002%2C%20-98.4951405%5D%2C%0A%20%20%20%20%20%20%20%20%20%20%20%20%20%20%20%20%7B%7D%0A%20%20%20%20%20%20%20%20%20%20%20%20%29.addTo%28map_96d62e2a37a1423183b240110d8db5d0%29%3B%0A%20%20%20%20%20%20%20%20%0A%20%20%20%20%0A%20%20%20%20%20%20%20%20%20%20%20%20marker_2e463322c46c4ffd87b4c95b7ae22567.bindTooltip%28%0A%20%20%20%20%20%20%20%20%20%20%20%20%20%20%20%20%60%3Cdiv%3E%0A%20%20%20%20%20%20%20%20%20%20%20%20%20%20%20%20%20%20%20%20%20ip%3A18%20%20%20%2045.23.250.16%0AName%3A%20ip%2C%20dtype%3A%20object%0A%20City%3A18%20%20%20%20San%20Antonio%0AName%3A%20city%2C%20dtype%3A%20object%0A%20%20%20%20%20%20%20%20%20%20%20%20%20%20%20%20%20%3C/div%3E%60%2C%0A%20%20%20%20%20%20%20%20%20%20%20%20%20%20%20%20%7B%22sticky%22%3A%20true%7D%0A%20%20%20%20%20%20%20%20%20%20%20%20%29%3B%0A%20%20%20%20%20%20%20%20%0A%20%20%20%20%0A%20%20%20%20%20%20%20%20%20%20%20%20var%20marker_c1466a940b264ef29e55eeb50011c048%20%3D%20L.marker%28%0A%20%20%20%20%20%20%20%20%20%20%20%20%20%20%20%20%5B55.751244%2C%2037.618423%5D%2C%0A%20%20%20%20%20%20%20%20%20%20%20%20%20%20%20%20%7B%7D%0A%20%20%20%20%20%20%20%20%20%20%20%20%29.addTo%28map_96d62e2a37a1423183b240110d8db5d0%29%3B%0A%20%20%20%20%20%20%20%20%0A%20%20%20%20%0A%20%20%20%20%20%20%20%20%20%20%20%20marker_c1466a940b264ef29e55eeb50011c048.bindTooltip%28%0A%20%20%20%20%20%20%20%20%20%20%20%20%20%20%20%20%60%3Cdiv%3E%0A%20%20%20%20%20%20%20%20%20%20%20%20%20%20%20%20%20%20%20%20%20ip%3A19%20%20%20%2095.31.18.119%0AName%3A%20ip%2C%20dtype%3A%20object%0A%20City%3A19%20%20%20%20Moscow%20%28Tsentralnyy%20administrativnyy%20okrug%29%0AName%3A%20city%2C%20dtype%3A%20object%0A%20%20%20%20%20%20%20%20%20%20%20%20%20%20%20%20%20%3C/div%3E%60%2C%0A%20%20%20%20%20%20%20%20%20%20%20%20%20%20%20%20%7B%22sticky%22%3A%20true%7D%0A%20%20%20%20%20%20%20%20%20%20%20%20%29%3B%0A%20%20%20%20%20%20%20%20%0A%20%20%20%20%0A%20%20%20%20%20%20%20%20%20%20%20%20var%20marker_2000508f9a7748328079f692d485d2ca%20%3D%20L.marker%28%0A%20%20%20%20%20%20%20%20%20%20%20%20%20%20%20%20%5B55.751244%2C%2037.618423%5D%2C%0A%20%20%20%20%20%20%20%20%20%20%20%20%20%20%20%20%7B%7D%0A%20%20%20%20%20%20%20%20%20%20%20%20%29.addTo%28map_96d62e2a37a1423183b240110d8db5d0%29%3B%0A%20%20%20%20%20%20%20%20%0A%20%20%20%20%0A%20%20%20%20%20%20%20%20%20%20%20%20marker_2000508f9a7748328079f692d485d2ca.bindTooltip%28%0A%20%20%20%20%20%20%20%20%20%20%20%20%20%20%20%20%60%3Cdiv%3E%0A%20%20%20%20%20%20%20%20%20%20%20%20%20%20%20%20%20%20%20%20%20ip%3A20%20%20%20%2095.31.16.121%0AName%3A%20ip%2C%20dtype%3A%20object%0A%20City%3A20%20%20%20%20Moscow%20%28Tsentralnyy%20administrativnyy%20okrug%29%0AName%3A%20city%2C%20dtype%3A%20object%0A%20%20%20%20%20%20%20%20%20%20%20%20%20%20%20%20%20%3C/div%3E%60%2C%0A%20%20%20%20%20%20%20%20%20%20%20%20%20%20%20%20%7B%22sticky%22%3A%20true%7D%0A%20%20%20%20%20%20%20%20%20%20%20%20%29%3B%0A%20%20%20%20%20%20%20%20%0A%20%20%20%20%0A%20%20%20%20%20%20%20%20%20%20%20%20var%20marker_3014b655ff704441ae10258db44713f7%20%3D%20L.marker%28%0A%20%20%20%20%20%20%20%20%20%20%20%20%20%20%20%20%5B30.2711286%2C%20-97.7436995%5D%2C%0A%20%20%20%20%20%20%20%20%20%20%20%20%20%20%20%20%7B%7D%0A%20%20%20%20%20%20%20%20%20%20%20%20%29.addTo%28map_96d62e2a37a1423183b240110d8db5d0%29%3B%0A%20%20%20%20%20%20%20%20%0A%20%20%20%20%0A%20%20%20%20%20%20%20%20%20%20%20%20marker_3014b655ff704441ae10258db44713f7.bindTooltip%28%0A%20%20%20%20%20%20%20%20%20%20%20%20%20%20%20%20%60%3Cdiv%3E%0A%20%20%20%20%20%20%20%20%20%20%20%20%20%20%20%20%20%20%20%20%20ip%3A21%20%20%20%2097.105.15.120%0AName%3A%20ip%2C%20dtype%3A%20object%0A%20City%3A21%20%20%20%20Austin%0AName%3A%20city%2C%20dtype%3A%20object%0A%20%20%20%20%20%20%20%20%20%20%20%20%20%20%20%20%20%3C/div%3E%60%2C%0A%20%20%20%20%20%20%20%20%20%20%20%20%20%20%20%20%7B%22sticky%22%3A%20true%7D%0A%20%20%20%20%20%20%20%20%20%20%20%20%29%3B%0A%20%20%20%20%20%20%20%20%0A%20%20%20%20%0A%20%20%20%20%20%20%20%20%20%20%20%20var%20marker_67e658d1c8c148adb5fd3bc002cf8546%20%3D%20L.marker%28%0A%20%20%20%20%20%20%20%20%20%20%20%20%20%20%20%20%5B29.4193459%2C%20-98.4780456%5D%2C%0A%20%20%20%20%20%20%20%20%20%20%20%20%20%20%20%20%7B%7D%0A%20%20%20%20%20%20%20%20%20%20%20%20%29.addTo%28map_96d62e2a37a1423183b240110d8db5d0%29%3B%0A%20%20%20%20%20%20%20%20%0A%20%20%20%20%0A%20%20%20%20%20%20%20%20%20%20%20%20marker_67e658d1c8c148adb5fd3bc002cf8546.bindTooltip%28%0A%20%20%20%20%20%20%20%20%20%20%20%20%20%20%20%20%60%3Cdiv%3E%0A%20%20%20%20%20%20%20%20%20%20%20%20%20%20%20%20%20%20%20%20%20ip%3A0%20%20%20%2097.105.19.58%0AName%3A%20ip%2C%20dtype%3A%20object%0A%20City%3A0%20%20%20%20San%20Antonio%20%28Downtown%29%0AName%3A%20city%2C%20dtype%3A%20object%0A%20%20%20%20%20%20%20%20%20%20%20%20%20%20%20%20%20%3C/div%3E%60%2C%0A%20%20%20%20%20%20%20%20%20%20%20%20%20%20%20%20%7B%22sticky%22%3A%20true%7D%0A%20%20%20%20%20%20%20%20%20%20%20%20%29%3B%0A%20%20%20%20%20%20%20%20%0A%20%20%20%20%0A%20%20%20%20%20%20%20%20%20%20%20%20var%20marker_8472af34b25d4d43be3b11151afee14c%20%3D%20L.marker%28%0A%20%20%20%20%20%20%20%20%20%20%20%20%20%20%20%20%5B39.030019100000004%2C%20-77.46964646557657%5D%2C%0A%20%20%20%20%20%20%20%20%20%20%20%20%20%20%20%20%7B%7D%0A%20%20%20%20%20%20%20%20%20%20%20%20%29.addTo%28map_96d62e2a37a1423183b240110d8db5d0%29%3B%0A%20%20%20%20%20%20%20%20%0A%20%20%20%20%0A%20%20%20%20%20%20%20%20%20%20%20%20marker_8472af34b25d4d43be3b11151afee14c.bindTooltip%28%0A%20%20%20%20%20%20%20%20%20%20%20%20%20%20%20%20%60%3Cdiv%3E%0A%20%20%20%20%20%20%20%20%20%20%20%20%20%20%20%20%20%20%20%20%20ip%3A1%20%20%20%203.92.201.136%0AName%3A%20ip%2C%20dtype%3A%20object%0A%20City%3A1%20%20%20%20Ashburn%0AName%3A%20city%2C%20dtype%3A%20object%0A%20%20%20%20%20%20%20%20%20%20%20%20%20%20%20%20%20%3C/div%3E%60%2C%0A%20%20%20%20%20%20%20%20%20%20%20%20%20%20%20%20%7B%22sticky%22%3A%20true%7D%0A%20%20%20%20%20%20%20%20%20%20%20%20%29%3B%0A%20%20%20%20%20%20%20%20%0A%20%20%20%20%0A%20%20%20%20%20%20%20%20%20%20%20%20var%20marker_3da08debf1f042a1a2a0d513b020db66%20%3D%20L.marker%28%0A%20%20%20%20%20%20%20%20%20%20%20%20%20%20%20%20%5B39.030019100000004%2C%20-77.46964646557657%5D%2C%0A%20%20%20%20%20%20%20%20%20%20%20%20%20%20%20%20%7B%7D%0A%20%20%20%20%20%20%20%20%20%20%20%20%29.addTo%28map_96d62e2a37a1423183b240110d8db5d0%29%3B%0A%20%20%20%20%20%20%20%20%0A%20%20%20%20%0A%20%20%20%20%20%20%20%20%20%20%20%20marker_3da08debf1f042a1a2a0d513b020db66.bindTooltip%28%0A%20%20%20%20%20%20%20%20%20%20%20%20%20%20%20%20%60%3Cdiv%3E%0A%20%20%20%20%20%20%20%20%20%20%20%20%20%20%20%20%20%20%20%20%20ip%3A2%20%20%20%2052.90.165.200%0AName%3A%20ip%2C%20dtype%3A%20object%0A%20City%3A2%20%20%20%20Ashburn%0AName%3A%20city%2C%20dtype%3A%20object%0A%20%20%20%20%20%20%20%20%20%20%20%20%20%20%20%20%20%3C/div%3E%60%2C%0A%20%20%20%20%20%20%20%20%20%20%20%20%20%20%20%20%7B%22sticky%22%3A%20true%7D%0A%20%20%20%20%20%20%20%20%20%20%20%20%29%3B%0A%20%20%20%20%20%20%20%20%0A%20%20%20%20%0A%20%20%20%20%20%20%20%20%20%20%20%20var%20marker_785b649a870e45d18525ca2c2ff2f52c%20%3D%20L.marker%28%0A%20%20%20%20%20%20%20%20%20%20%20%20%20%20%20%20%5B39.030019100000004%2C%20-77.46964646557657%5D%2C%0A%20%20%20%20%20%20%20%20%20%20%20%20%20%20%20%20%7B%7D%0A%20%20%20%20%20%20%20%20%20%20%20%20%29.addTo%28map_96d62e2a37a1423183b240110d8db5d0%29%3B%0A%20%20%20%20%20%20%20%20%0A%20%20%20%20%0A%20%20%20%20%20%20%20%20%20%20%20%20marker_785b649a870e45d18525ca2c2ff2f52c.bindTooltip%28%0A%20%20%20%20%20%20%20%20%20%20%20%20%20%20%20%20%60%3Cdiv%3E%0A%20%20%20%20%20%20%20%20%20%20%20%20%20%20%20%20%20%20%20%20%20ip%3A3%20%20%20%203.88.129.158%0AName%3A%20ip%2C%20dtype%3A%20object%0A%20City%3A3%20%20%20%20Ashburn%0AName%3A%20city%2C%20dtype%3A%20object%0A%20%20%20%20%20%20%20%20%20%20%20%20%20%20%20%20%20%3C/div%3E%60%2C%0A%20%20%20%20%20%20%20%20%20%20%20%20%20%20%20%20%7B%22sticky%22%3A%20true%7D%0A%20%20%20%20%20%20%20%20%20%20%20%20%29%3B%0A%20%20%20%20%20%20%20%20%0A%20%20%20%20%0A%20%20%20%20%20%20%20%20%20%20%20%20var%20marker_7b047e383290443cb4aa2f47434edcb8%20%3D%20L.marker%28%0A%20%20%20%20%20%20%20%20%20%20%20%20%20%20%20%20%5B39.030019100000004%2C%20-77.46964646557657%5D%2C%0A%20%20%20%20%20%20%20%20%20%20%20%20%20%20%20%20%7B%7D%0A%20%20%20%20%20%20%20%20%20%20%20%20%29.addTo%28map_96d62e2a37a1423183b240110d8db5d0%29%3B%0A%20%20%20%20%20%20%20%20%0A%20%20%20%20%0A%20%20%20%20%20%20%20%20%20%20%20%20marker_7b047e383290443cb4aa2f47434edcb8.bindTooltip%28%0A%20%20%20%20%20%20%20%20%20%20%20%20%20%20%20%20%60%3Cdiv%3E%0A%20%20%20%20%20%20%20%20%20%20%20%20%20%20%20%20%20%20%20%20%20ip%3A4%20%20%20%2034.207.64.242%0AName%3A%20ip%2C%20dtype%3A%20object%0A%20City%3A4%20%20%20%20Ashburn%0AName%3A%20city%2C%20dtype%3A%20object%0A%20%20%20%20%20%20%20%20%20%20%20%20%20%20%20%20%20%3C/div%3E%60%2C%0A%20%20%20%20%20%20%20%20%20%20%20%20%20%20%20%20%7B%22sticky%22%3A%20true%7D%0A%20%20%20%20%20%20%20%20%20%20%20%20%29%3B%0A%20%20%20%20%20%20%20%20%0A%20%20%20%20%0A%20%20%20%20%20%20%20%20%20%20%20%20var%20marker_734046f9e40a4faea5d14a22dbb4d3f9%20%3D%20L.marker%28%0A%20%20%20%20%20%20%20%20%20%20%20%20%20%20%20%20%5B39.030019100000004%2C%20-77.46964646557657%5D%2C%0A%20%20%20%20%20%20%20%20%20%20%20%20%20%20%20%20%7B%7D%0A%20%20%20%20%20%20%20%20%20%20%20%20%29.addTo%28map_96d62e2a37a1423183b240110d8db5d0%29%3B%0A%20%20%20%20%20%20%20%20%0A%20%20%20%20%0A%20%20%20%20%20%20%20%20%20%20%20%20marker_734046f9e40a4faea5d14a22dbb4d3f9.bindTooltip%28%0A%20%20%20%20%20%20%20%20%20%20%20%20%20%20%20%20%60%3Cdiv%3E%0A%20%20%20%20%20%20%20%20%20%20%20%20%20%20%20%20%20%20%20%20%20ip%3A5%20%20%20%2054.172.14.223%0AName%3A%20ip%2C%20dtype%3A%20object%0A%20City%3A5%20%20%20%20Ashburn%0AName%3A%20city%2C%20dtype%3A%20object%0A%20%20%20%20%20%20%20%20%20%20%20%20%20%20%20%20%20%3C/div%3E%60%2C%0A%20%20%20%20%20%20%20%20%20%20%20%20%20%20%20%20%7B%22sticky%22%3A%20true%7D%0A%20%20%20%20%20%20%20%20%20%20%20%20%29%3B%0A%20%20%20%20%20%20%20%20%0A%20%20%20%20%0A%20%20%20%20%20%20%20%20%20%20%20%20var%20marker_6dedc6999898438fbda6d04168ad2e63%20%3D%20L.marker%28%0A%20%20%20%20%20%20%20%20%20%20%20%20%20%20%20%20%5B39.030019100000004%2C%20-77.46964646557657%5D%2C%0A%20%20%20%20%20%20%20%20%20%20%20%20%20%20%20%20%7B%7D%0A%20%20%20%20%20%20%20%20%20%20%20%20%29.addTo%28map_96d62e2a37a1423183b240110d8db5d0%29%3B%0A%20%20%20%20%20%20%20%20%0A%20%20%20%20%0A%20%20%20%20%20%20%20%20%20%20%20%20marker_6dedc6999898438fbda6d04168ad2e63.bindTooltip%28%0A%20%20%20%20%20%20%20%20%20%20%20%20%20%20%20%20%60%3Cdiv%3E%0A%20%20%20%20%20%20%20%20%20%20%20%20%20%20%20%20%20%20%20%20%20ip%3A6%20%20%20%2034.229.70.250%0AName%3A%20ip%2C%20dtype%3A%20object%0A%20City%3A6%20%20%20%20Ashburn%0AName%3A%20city%2C%20dtype%3A%20object%0A%20%20%20%20%20%20%20%20%20%20%20%20%20%20%20%20%20%3C/div%3E%60%2C%0A%20%20%20%20%20%20%20%20%20%20%20%20%20%20%20%20%7B%22sticky%22%3A%20true%7D%0A%20%20%20%20%20%20%20%20%20%20%20%20%29%3B%0A%20%20%20%20%20%20%20%20%0A%20%20%20%20%0A%20%20%20%20%20%20%20%20%20%20%20%20var%20marker_0f4fbdf80437403a9f0176cc9e595824%20%3D%20L.marker%28%0A%20%20%20%20%20%20%20%20%20%20%20%20%20%20%20%20%5B39.030019100000004%2C%20-77.46964646557657%5D%2C%0A%20%20%20%20%20%20%20%20%20%20%20%20%20%20%20%20%7B%7D%0A%20%20%20%20%20%20%20%20%20%20%20%20%29.addTo%28map_96d62e2a37a1423183b240110d8db5d0%29%3B%0A%20%20%20%20%20%20%20%20%0A%20%20%20%20%0A%20%20%20%20%20%20%20%20%20%20%20%20marker_0f4fbdf80437403a9f0176cc9e595824.bindTooltip%28%0A%20%20%20%20%20%20%20%20%20%20%20%20%20%20%20%20%60%3Cdiv%3E%0A%20%20%20%20%20%20%20%20%20%20%20%20%20%20%20%20%20%20%20%20%20ip%3A7%20%20%20%2035.175.171.137%0AName%3A%20ip%2C%20dtype%3A%20object%0A%20City%3A7%20%20%20%20Ashburn%0AName%3A%20city%2C%20dtype%3A%20object%0A%20%20%20%20%20%20%20%20%20%20%20%20%20%20%20%20%20%3C/div%3E%60%2C%0A%20%20%20%20%20%20%20%20%20%20%20%20%20%20%20%20%7B%22sticky%22%3A%20true%7D%0A%20%20%20%20%20%20%20%20%20%20%20%20%29%3B%0A%20%20%20%20%20%20%20%20%0A%20%20%20%20%0A%20%20%20%20%20%20%20%20%20%20%20%20var%20marker_0232b570e2964d23adc2cd5bb5c54c61%20%3D%20L.marker%28%0A%20%20%20%20%20%20%20%20%20%20%20%20%20%20%20%20%5B39.030019100000004%2C%20-77.46964646557657%5D%2C%0A%20%20%20%20%20%20%20%20%20%20%20%20%20%20%20%20%7B%7D%0A%20%20%20%20%20%20%20%20%20%20%20%20%29.addTo%28map_96d62e2a37a1423183b240110d8db5d0%29%3B%0A%20%20%20%20%20%20%20%20%0A%20%20%20%20%0A%20%20%20%20%20%20%20%20%20%20%20%20marker_0232b570e2964d23adc2cd5bb5c54c61.bindTooltip%28%0A%20%20%20%20%20%20%20%20%20%20%20%20%20%20%20%20%60%3Cdiv%3E%0A%20%20%20%20%20%20%20%20%20%20%20%20%20%20%20%20%20%20%20%20%20ip%3A8%20%20%20%2054.145.52.184%0AName%3A%20ip%2C%20dtype%3A%20object%0A%20City%3A8%20%20%20%20Ashburn%0AName%3A%20city%2C%20dtype%3A%20object%0A%20%20%20%20%20%20%20%20%20%20%20%20%20%20%20%20%20%3C/div%3E%60%2C%0A%20%20%20%20%20%20%20%20%20%20%20%20%20%20%20%20%7B%22sticky%22%3A%20true%7D%0A%20%20%20%20%20%20%20%20%20%20%20%20%29%3B%0A%20%20%20%20%20%20%20%20%0A%20%20%20%20%0A%20%20%20%20%20%20%20%20%20%20%20%20var%20marker_b2970ebf939945f6be1404997a21895c%20%3D%20L.marker%28%0A%20%20%20%20%20%20%20%20%20%20%20%20%20%20%20%20%5B39.030019100000004%2C%20-77.46964646557657%5D%2C%0A%20%20%20%20%20%20%20%20%20%20%20%20%20%20%20%20%7B%7D%0A%20%20%20%20%20%20%20%20%20%20%20%20%29.addTo%28map_96d62e2a37a1423183b240110d8db5d0%29%3B%0A%20%20%20%20%20%20%20%20%0A%20%20%20%20%0A%20%20%20%20%20%20%20%20%20%20%20%20marker_b2970ebf939945f6be1404997a21895c.bindTooltip%28%0A%20%20%20%20%20%20%20%20%20%20%20%20%20%20%20%20%60%3Cdiv%3E%0A%20%20%20%20%20%20%20%20%20%20%20%20%20%20%20%20%20%20%20%20%20ip%3A9%20%20%20%2052.87.230.102%0AName%3A%20ip%2C%20dtype%3A%20object%0A%20City%3A9%20%20%20%20Ashburn%0AName%3A%20city%2C%20dtype%3A%20object%0A%20%20%20%20%20%20%20%20%20%20%20%20%20%20%20%20%20%3C/div%3E%60%2C%0A%20%20%20%20%20%20%20%20%20%20%20%20%20%20%20%20%7B%22sticky%22%3A%20true%7D%0A%20%20%20%20%20%20%20%20%20%20%20%20%29%3B%0A%20%20%20%20%20%20%20%20%0A%20%20%20%20%0A%20%20%20%20%20%20%20%20%20%20%20%20var%20marker_77099cdd988940b398535835899f30c1%20%3D%20L.marker%28%0A%20%20%20%20%20%20%20%20%20%20%20%20%20%20%20%20%5B39.030019100000004%2C%20-77.46964646557657%5D%2C%0A%20%20%20%20%20%20%20%20%20%20%20%20%20%20%20%20%7B%7D%0A%20%20%20%20%20%20%20%20%20%20%20%20%29.addTo%28map_96d62e2a37a1423183b240110d8db5d0%29%3B%0A%20%20%20%20%20%20%20%20%0A%20%20%20%20%0A%20%20%20%20%20%20%20%20%20%20%20%20marker_77099cdd988940b398535835899f30c1.bindTooltip%28%0A%20%20%20%20%20%20%20%20%20%20%20%20%20%20%20%20%60%3Cdiv%3E%0A%20%20%20%20%20%20%20%20%20%20%20%20%20%20%20%20%20%20%20%20%20ip%3A10%20%20%20%2035.174.209.2%0AName%3A%20ip%2C%20dtype%3A%20object%0A%20City%3A10%20%20%20%20Ashburn%0AName%3A%20city%2C%20dtype%3A%20object%0A%20%20%20%20%20%20%20%20%20%20%20%20%20%20%20%20%20%3C/div%3E%60%2C%0A%20%20%20%20%20%20%20%20%20%20%20%20%20%20%20%20%7B%22sticky%22%3A%20true%7D%0A%20%20%20%20%20%20%20%20%20%20%20%20%29%3B%0A%20%20%20%20%20%20%20%20%0A%20%20%20%20%0A%20%20%20%20%20%20%20%20%20%20%20%20var%20marker_fd8f663a2371447099f1f66e680332ef%20%3D%20L.marker%28%0A%20%20%20%20%20%20%20%20%20%20%20%20%20%20%20%20%5B29.4246002%2C%20-98.4951405%5D%2C%0A%20%20%20%20%20%20%20%20%20%20%20%20%20%20%20%20%7B%7D%0A%20%20%20%20%20%20%20%20%20%20%20%20%29.addTo%28map_96d62e2a37a1423183b240110d8db5d0%29%3B%0A%20%20%20%20%20%20%20%20%0A%20%20%20%20%0A%20%20%20%20%20%20%20%20%20%20%20%20marker_fd8f663a2371447099f1f66e680332ef.bindTooltip%28%0A%20%20%20%20%20%20%20%20%20%20%20%20%20%20%20%20%60%3Cdiv%3E%0A%20%20%20%20%20%20%20%20%20%20%20%20%20%20%20%20%20%20%20%20%20ip%3A11%20%20%20%2072.181.105.81%0AName%3A%20ip%2C%20dtype%3A%20object%0A%20City%3A11%20%20%20%20San%20Antonio%0AName%3A%20city%2C%20dtype%3A%20object%0A%20%20%20%20%20%20%20%20%20%20%20%20%20%20%20%20%20%3C/div%3E%60%2C%0A%20%20%20%20%20%20%20%20%20%20%20%20%20%20%20%20%7B%22sticky%22%3A%20true%7D%0A%20%20%20%20%20%20%20%20%20%20%20%20%29%3B%0A%20%20%20%20%20%20%20%20%0A%20%20%20%20%0A%20%20%20%20%20%20%20%20%20%20%20%20var%20marker_c71f4c1423944b86b7ce4ec214830e0f%20%3D%20L.marker%28%0A%20%20%20%20%20%20%20%20%20%20%20%20%20%20%20%20%5B33.9014063%2C%20-94.8297388%5D%2C%0A%20%20%20%20%20%20%20%20%20%20%20%20%20%20%20%20%7B%7D%0A%20%20%20%20%20%20%20%20%20%20%20%20%29.addTo%28map_96d62e2a37a1423183b240110d8db5d0%29%3B%0A%20%20%20%20%20%20%20%20%0A%20%20%20%20%0A%20%20%20%20%20%20%20%20%20%20%20%20marker_c71f4c1423944b86b7ce4ec214830e0f.bindTooltip%28%0A%20%20%20%20%20%20%20%20%20%20%20%20%20%20%20%20%60%3Cdiv%3E%0A%20%20%20%20%20%20%20%20%20%20%20%20%20%20%20%20%20%20%20%20%20ip%3A12%20%20%20%2070.121.214.34%0AName%3A%20ip%2C%20dtype%3A%20object%0A%20City%3A12%20%20%20%20San%20Antonio%20%28North%20Central%29%0AName%3A%20city%2C%20dtype%3A%20object%0A%20%20%20%20%20%20%20%20%20%20%20%20%20%20%20%20%20%3C/div%3E%60%2C%0A%20%20%20%20%20%20%20%20%20%20%20%20%20%20%20%20%7B%22sticky%22%3A%20true%7D%0A%20%20%20%20%20%20%20%20%20%20%20%20%29%3B%0A%20%20%20%20%20%20%20%20%0A%20%20%20%20%0A%20%20%20%20%20%20%20%20%20%20%20%20var%20marker_6943b4f537fd4c24806379537bd9b422%20%3D%20L.marker%28%0A%20%20%20%20%20%20%20%20%20%20%20%20%20%20%20%20%5B29.4246002%2C%20-98.4951405%5D%2C%0A%20%20%20%20%20%20%20%20%20%20%20%20%20%20%20%20%7B%7D%0A%20%20%20%20%20%20%20%20%20%20%20%20%29.addTo%28map_96d62e2a37a1423183b240110d8db5d0%29%3B%0A%20%20%20%20%20%20%20%20%0A%20%20%20%20%0A%20%20%20%20%20%20%20%20%20%20%20%20marker_6943b4f537fd4c24806379537bd9b422.bindTooltip%28%0A%20%20%20%20%20%20%20%20%20%20%20%20%20%20%20%20%60%3Cdiv%3E%0A%20%20%20%20%20%20%20%20%20%20%20%20%20%20%20%20%20%20%20%20%20ip%3A13%20%20%20%2068.201.219.223%0AName%3A%20ip%2C%20dtype%3A%20object%0A%20City%3A13%20%20%20%20San%20Antonio%0AName%3A%20city%2C%20dtype%3A%20object%0A%20%20%20%20%20%20%20%20%20%20%20%20%20%20%20%20%20%3C/div%3E%60%2C%0A%20%20%20%20%20%20%20%20%20%20%20%20%20%20%20%20%7B%22sticky%22%3A%20true%7D%0A%20%20%20%20%20%20%20%20%20%20%20%20%29%3B%0A%20%20%20%20%20%20%20%20%0A%20%20%20%20%0A%20%20%20%20%20%20%20%20%20%20%20%20var%20marker_26d525c034b8432a9371dfd9718ce962%20%3D%20L.marker%28%0A%20%20%20%20%20%20%20%20%20%20%20%20%20%20%20%20%5B29.4246002%2C%20-98.4951405%5D%2C%0A%20%20%20%20%20%20%20%20%20%20%20%20%20%20%20%20%7B%7D%0A%20%20%20%20%20%20%20%20%20%20%20%20%29.addTo%28map_96d62e2a37a1423183b240110d8db5d0%29%3B%0A%20%20%20%20%20%20%20%20%0A%20%20%20%20%0A%20%20%20%20%20%20%20%20%20%20%20%20marker_26d525c034b8432a9371dfd9718ce962.bindTooltip%28%0A%20%20%20%20%20%20%20%20%20%20%20%20%20%20%20%20%60%3Cdiv%3E%0A%20%20%20%20%20%20%20%20%20%20%20%20%20%20%20%20%20%20%20%20%20ip%3A14%20%20%20%20173.173.113.51%0AName%3A%20ip%2C%20dtype%3A%20object%0A%20City%3A14%20%20%20%20San%20Antonio%0AName%3A%20city%2C%20dtype%3A%20object%0A%20%20%20%20%20%20%20%20%20%20%20%20%20%20%20%20%20%3C/div%3E%60%2C%0A%20%20%20%20%20%20%20%20%20%20%20%20%20%20%20%20%7B%22sticky%22%3A%20true%7D%0A%20%20%20%20%20%20%20%20%20%20%20%20%29%3B%0A%20%20%20%20%20%20%20%20%0A%20%20%20%20%0A%20%20%20%20%20%20%20%20%20%20%20%20var%20marker_84f741c17ecd4950bf42a911ce377229%20%3D%20L.marker%28%0A%20%20%20%20%20%20%20%20%20%20%20%20%20%20%20%20%5B29.4246002%2C%20-98.4951405%5D%2C%0A%20%20%20%20%20%20%20%20%20%20%20%20%20%20%20%20%7B%7D%0A%20%20%20%20%20%20%20%20%20%20%20%20%29.addTo%28map_96d62e2a37a1423183b240110d8db5d0%29%3B%0A%20%20%20%20%20%20%20%20%0A%20%20%20%20%0A%20%20%20%20%20%20%20%20%20%20%20%20marker_84f741c17ecd4950bf42a911ce377229.bindTooltip%28%0A%20%20%20%20%20%20%20%20%20%20%20%20%20%20%20%20%60%3Cdiv%3E%0A%20%20%20%20%20%20%20%20%20%20%20%20%20%20%20%20%20%20%20%20%20ip%3A15%20%20%20%2072.181.113.170%0AName%3A%20ip%2C%20dtype%3A%20object%0A%20City%3A15%20%20%20%20San%20Antonio%0AName%3A%20city%2C%20dtype%3A%20object%0A%20%20%20%20%20%20%20%20%20%20%20%20%20%20%20%20%20%3C/div%3E%60%2C%0A%20%20%20%20%20%20%20%20%20%20%20%20%20%20%20%20%7B%22sticky%22%3A%20true%7D%0A%20%20%20%20%20%20%20%20%20%20%20%20%29%3B%0A%20%20%20%20%20%20%20%20%0A%20%20%20%20%0A%20%20%20%20%20%20%20%20%20%20%20%20var%20marker_0c2d66b23a9440528f295ca791109cd2%20%3D%20L.marker%28%0A%20%20%20%20%20%20%20%20%20%20%20%20%20%20%20%20%5B39.030019100000004%2C%20-77.46964646557657%5D%2C%0A%20%20%20%20%20%20%20%20%20%20%20%20%20%20%20%20%7B%7D%0A%20%20%20%20%20%20%20%20%20%20%20%20%29.addTo%28map_96d62e2a37a1423183b240110d8db5d0%29%3B%0A%20%20%20%20%20%20%20%20%0A%20%20%20%20%0A%20%20%20%20%20%20%20%20%20%20%20%20marker_0c2d66b23a9440528f295ca791109cd2.bindTooltip%28%0A%20%20%20%20%20%20%20%20%20%20%20%20%20%20%20%20%60%3Cdiv%3E%0A%20%20%20%20%20%20%20%20%20%20%20%20%20%20%20%20%20%20%20%20%20ip%3A16%20%20%20%2052.91.30.150%0AName%3A%20ip%2C%20dtype%3A%20object%0A%20City%3A16%20%20%20%20Ashburn%0AName%3A%20city%2C%20dtype%3A%20object%0A%20%20%20%20%20%20%20%20%20%20%20%20%20%20%20%20%20%3C/div%3E%60%2C%0A%20%20%20%20%20%20%20%20%20%20%20%20%20%20%20%20%7B%22sticky%22%3A%20true%7D%0A%20%20%20%20%20%20%20%20%20%20%20%20%29%3B%0A%20%20%20%20%20%20%20%20%0A%20%20%20%20%0A%20%20%20%20%20%20%20%20%20%20%20%20var%20marker_df7b54eb2d9644c4aa8ac9a17d0f9548%20%3D%20L.marker%28%0A%20%20%20%20%20%20%20%20%20%20%20%20%20%20%20%20%5B29.4246002%2C%20-98.4951405%5D%2C%0A%20%20%20%20%20%20%20%20%20%20%20%20%20%20%20%20%7B%7D%0A%20%20%20%20%20%20%20%20%20%20%20%20%29.addTo%28map_96d62e2a37a1423183b240110d8db5d0%29%3B%0A%20%20%20%20%20%20%20%20%0A%20%20%20%20%0A%20%20%20%20%20%20%20%20%20%20%20%20marker_df7b54eb2d9644c4aa8ac9a17d0f9548.bindTooltip%28%0A%20%20%20%20%20%20%20%20%20%20%20%20%20%20%20%20%60%3Cdiv%3E%0A%20%20%20%20%20%20%20%20%20%20%20%20%20%20%20%20%20%20%20%20%20ip%3A17%20%20%20%2024.26.242.9%0AName%3A%20ip%2C%20dtype%3A%20object%0A%20City%3A17%20%20%20%20San%20Antonio%0AName%3A%20city%2C%20dtype%3A%20object%0A%20%20%20%20%20%20%20%20%20%20%20%20%20%20%20%20%20%3C/div%3E%60%2C%0A%20%20%20%20%20%20%20%20%20%20%20%20%20%20%20%20%7B%22sticky%22%3A%20true%7D%0A%20%20%20%20%20%20%20%20%20%20%20%20%29%3B%0A%20%20%20%20%20%20%20%20%0A%20%20%20%20%0A%20%20%20%20%20%20%20%20%20%20%20%20var%20marker_bb5e69ac62614e3b8b655d03bf2478f4%20%3D%20L.marker%28%0A%20%20%20%20%20%20%20%20%20%20%20%20%20%20%20%20%5B29.4246002%2C%20-98.4951405%5D%2C%0A%20%20%20%20%20%20%20%20%20%20%20%20%20%20%20%20%7B%7D%0A%20%20%20%20%20%20%20%20%20%20%20%20%29.addTo%28map_96d62e2a37a1423183b240110d8db5d0%29%3B%0A%20%20%20%20%20%20%20%20%0A%20%20%20%20%0A%20%20%20%20%20%20%20%20%20%20%20%20marker_bb5e69ac62614e3b8b655d03bf2478f4.bindTooltip%28%0A%20%20%20%20%20%20%20%20%20%20%20%20%20%20%20%20%60%3Cdiv%3E%0A%20%20%20%20%20%20%20%20%20%20%20%20%20%20%20%20%20%20%20%20%20ip%3A18%20%20%20%2045.23.250.16%0AName%3A%20ip%2C%20dtype%3A%20object%0A%20City%3A18%20%20%20%20San%20Antonio%0AName%3A%20city%2C%20dtype%3A%20object%0A%20%20%20%20%20%20%20%20%20%20%20%20%20%20%20%20%20%3C/div%3E%60%2C%0A%20%20%20%20%20%20%20%20%20%20%20%20%20%20%20%20%7B%22sticky%22%3A%20true%7D%0A%20%20%20%20%20%20%20%20%20%20%20%20%29%3B%0A%20%20%20%20%20%20%20%20%0A%20%20%20%20%0A%20%20%20%20%20%20%20%20%20%20%20%20var%20marker_12ffac101e514535b4edee33244cd035%20%3D%20L.marker%28%0A%20%20%20%20%20%20%20%20%20%20%20%20%20%20%20%20%5B55.751244%2C%2037.618423%5D%2C%0A%20%20%20%20%20%20%20%20%20%20%20%20%20%20%20%20%7B%7D%0A%20%20%20%20%20%20%20%20%20%20%20%20%29.addTo%28map_96d62e2a37a1423183b240110d8db5d0%29%3B%0A%20%20%20%20%20%20%20%20%0A%20%20%20%20%0A%20%20%20%20%20%20%20%20%20%20%20%20marker_12ffac101e514535b4edee33244cd035.bindTooltip%28%0A%20%20%20%20%20%20%20%20%20%20%20%20%20%20%20%20%60%3Cdiv%3E%0A%20%20%20%20%20%20%20%20%20%20%20%20%20%20%20%20%20%20%20%20%20ip%3A19%20%20%20%2095.31.18.119%0AName%3A%20ip%2C%20dtype%3A%20object%0A%20City%3A19%20%20%20%20Moscow%20%28Tsentralnyy%20administrativnyy%20okrug%29%0AName%3A%20city%2C%20dtype%3A%20object%0A%20%20%20%20%20%20%20%20%20%20%20%20%20%20%20%20%20%3C/div%3E%60%2C%0A%20%20%20%20%20%20%20%20%20%20%20%20%20%20%20%20%7B%22sticky%22%3A%20true%7D%0A%20%20%20%20%20%20%20%20%20%20%20%20%29%3B%0A%20%20%20%20%20%20%20%20%0A%20%20%20%20%0A%20%20%20%20%20%20%20%20%20%20%20%20var%20marker_f4be92a47ae241938337ab242800bd72%20%3D%20L.marker%28%0A%20%20%20%20%20%20%20%20%20%20%20%20%20%20%20%20%5B55.751244%2C%2037.618423%5D%2C%0A%20%20%20%20%20%20%20%20%20%20%20%20%20%20%20%20%7B%7D%0A%20%20%20%20%20%20%20%20%20%20%20%20%29.addTo%28map_96d62e2a37a1423183b240110d8db5d0%29%3B%0A%20%20%20%20%20%20%20%20%0A%20%20%20%20%0A%20%20%20%20%20%20%20%20%20%20%20%20marker_f4be92a47ae241938337ab242800bd72.bindTooltip%28%0A%20%20%20%20%20%20%20%20%20%20%20%20%20%20%20%20%60%3Cdiv%3E%0A%20%20%20%20%20%20%20%20%20%20%20%20%20%20%20%20%20%20%20%20%20ip%3A20%20%20%20%2095.31.16.121%0AName%3A%20ip%2C%20dtype%3A%20object%0A%20City%3A20%20%20%20%20Moscow%20%28Tsentralnyy%20administrativnyy%20okrug%29%0AName%3A%20city%2C%20dtype%3A%20object%0A%20%20%20%20%20%20%20%20%20%20%20%20%20%20%20%20%20%3C/div%3E%60%2C%0A%20%20%20%20%20%20%20%20%20%20%20%20%20%20%20%20%7B%22sticky%22%3A%20true%7D%0A%20%20%20%20%20%20%20%20%20%20%20%20%29%3B%0A%20%20%20%20%20%20%20%20%0A%20%20%20%20%0A%20%20%20%20%20%20%20%20%20%20%20%20var%20marker_1da0ea88017b4bffaf5e0955ac9c2fa3%20%3D%20L.marker%28%0A%20%20%20%20%20%20%20%20%20%20%20%20%20%20%20%20%5B30.2711286%2C%20-97.7436995%5D%2C%0A%20%20%20%20%20%20%20%20%20%20%20%20%20%20%20%20%7B%7D%0A%20%20%20%20%20%20%20%20%20%20%20%20%29.addTo%28map_96d62e2a37a1423183b240110d8db5d0%29%3B%0A%20%20%20%20%20%20%20%20%0A%20%20%20%20%0A%20%20%20%20%20%20%20%20%20%20%20%20marker_1da0ea88017b4bffaf5e0955ac9c2fa3.bindTooltip%28%0A%20%20%20%20%20%20%20%20%20%20%20%20%20%20%20%20%60%3Cdiv%3E%0A%20%20%20%20%20%20%20%20%20%20%20%20%20%20%20%20%20%20%20%20%20ip%3A21%20%20%20%2097.105.15.120%0AName%3A%20ip%2C%20dtype%3A%20object%0A%20City%3A21%20%20%20%20Austin%0AName%3A%20city%2C%20dtype%3A%20object%0A%20%20%20%20%20%20%20%20%20%20%20%20%20%20%20%20%20%3C/div%3E%60%2C%0A%20%20%20%20%20%20%20%20%20%20%20%20%20%20%20%20%7B%22sticky%22%3A%20true%7D%0A%20%20%20%20%20%20%20%20%20%20%20%20%29%3B%0A%20%20%20%20%20%20%20%20%0A%3C/script%3E onload=\"this.contentDocument.open();this.contentDocument.write(    decodeURIComponent(this.getAttribute('data-html')));this.contentDocument.close();\" allowfullscreen webkitallowfullscreen mozallowfullscreen></iframe></div></div>"
      ],
      "text/plain": [
       "<folium.folium.Map at 0x7faad9f39af0>"
      ]
     },
     "execution_count": 126,
     "metadata": {},
     "output_type": "execute_result"
    }
   ],
   "source": [
    "for ip in geo_df.ip:\n",
    "    location = [geo_df[geo_df.ip == ip].latitude, geo_df[geo_df.ip == ip].longitude]\n",
    "    folium.Marker(location, tooltip= f'ip:{(geo_df[geo_df.ip == ip]).ip}\\n City:{(geo_df[geo_df.ip == ip]).city}').add_to(map_sat)\n",
    "    \n",
    "\n",
    "map_sat"
   ]
  },
  {
   "cell_type": "code",
   "execution_count": null,
   "metadata": {},
   "outputs": [],
   "source": []
  }
 ],
 "metadata": {
  "kernelspec": {
   "display_name": "Python 3",
   "language": "python",
   "name": "python3"
  },
  "language_info": {
   "codemirror_mode": {
    "name": "ipython",
    "version": 3
   },
   "file_extension": ".py",
   "mimetype": "text/x-python",
   "name": "python",
   "nbconvert_exporter": "python",
   "pygments_lexer": "ipython3",
   "version": "3.8.5"
  }
 },
 "nbformat": 4,
 "nbformat_minor": 4
}
